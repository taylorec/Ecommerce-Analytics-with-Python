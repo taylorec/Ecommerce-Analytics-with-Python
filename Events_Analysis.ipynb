{
  "nbformat": 4,
  "nbformat_minor": 0,
  "metadata": {
    "colab": {
      "provenance": [],
      "authorship_tag": "ABX9TyM8EHuTYkgtkO2iKZmw7ori",
      "include_colab_link": true
    },
    "kernelspec": {
      "name": "python3",
      "display_name": "Python 3"
    },
    "language_info": {
      "name": "python"
    }
  },
  "cells": [
    {
      "cell_type": "markdown",
      "metadata": {
        "id": "view-in-github",
        "colab_type": "text"
      },
      "source": [
        "<a href=\"https://colab.research.google.com/github/taylorec/Ecommerce-Analytics-with-Python/blob/main/Events_Analysis.ipynb\" target=\"_parent\"><img src=\"https://colab.research.google.com/assets/colab-badge.svg\" alt=\"Open In Colab\"/></a>"
      ]
    },
    {
      "cell_type": "markdown",
      "source": [
        "Google BigQuery - thelook_ecommerce database\n",
        "> Tables: distribution_centers, events, inventory_items, order_items, orders, products and users\n",
        "\n",
        "> Objective: gather data from the events and users tables into a dataframe to explore the features listed below and to model a prediction for event types re-categorized as either 'purchased' or 'not purchased'.\n",
        "\n",
        "        user_id, \n",
        "        ip_address,\n",
        "        browser_type,\n",
        "        traffic_source,\n",
        "        event_type,\n",
        "        age,\n",
        "        gender,\n",
        "        users.country\n",
        "\n",
        "> Insights: the various features of browser type, traffic source, location and gender of users are all identical in regards to purchase rate and do not provide any insights into predicting if a user will complete a purchase.\n",
        "\n"
      ],
      "metadata": {
        "id": "8FflYbTUMG8u"
      }
    },
    {
      "cell_type": "code",
      "execution_count": null,
      "metadata": {
        "id": "gcg5MqAPj0k1",
        "colab": {
          "base_uri": "https://localhost:8080/"
        },
        "outputId": "03e96fe0-47e6-49d5-bde8-8037cab536ef"
      },
      "outputs": [
        {
          "output_type": "stream",
          "name": "stdout",
          "text": [
            "Authenticated\n"
          ]
        }
      ],
      "source": [
        "from google.colab import auth\n",
        "auth.authenticate_user()\n",
        "print('Authenticated')"
      ]
    },
    {
      "cell_type": "code",
      "source": [
        "%load_ext google.colab.data_table"
      ],
      "metadata": {
        "id": "C3EAB_3Aj8sS"
      },
      "execution_count": null,
      "outputs": []
    },
    {
      "cell_type": "code",
      "source": [
        "project_id = 'sixth-flag-316719'"
      ],
      "metadata": {
        "id": "vk2xta7hj-VC"
      },
      "execution_count": null,
      "outputs": []
    },
    {
      "cell_type": "code",
      "source": [
        "from google.cloud import bigquery\n",
        " \n",
        "client = bigquery.Client(project=project_id)"
      ],
      "metadata": {
        "id": "RekQvfIt28ty"
      },
      "execution_count": null,
      "outputs": []
    },
    {
      "cell_type": "code",
      "source": [
        "events_log = client.query('''\n",
        "SELECT \n",
        "        events.id,\n",
        "        events.user_id,\n",
        "        events.ip_address,\n",
        "        events.browser,\n",
        "        events.traffic_source,\n",
        "        events.event_type,\n",
        "        users.age,\n",
        "        users.gender,\n",
        "        users.country\n",
        "FROM\n",
        "        `bigquery-public-data.thelook_ecommerce.events` events\n",
        "INNER JOIN\n",
        "        `bigquery-public-data.thelook_ecommerce.users` users ON events.user_id = users.id\n",
        "''' ).to_dataframe()"
      ],
      "metadata": {
        "id": "pTkCbX7EkCPj"
      },
      "execution_count": null,
      "outputs": []
    },
    {
      "cell_type": "code",
      "source": [
        "events = events_log.copy()"
      ],
      "metadata": {
        "id": "wM33FhCv2jAz"
      },
      "execution_count": null,
      "outputs": []
    },
    {
      "cell_type": "code",
      "source": [
        "events.head()"
      ],
      "metadata": {
        "colab": {
          "base_uri": "https://localhost:8080/",
          "height": 197
        },
        "id": "YkDc_Sie2jUR",
        "outputId": "43de8be8-933c-4ca4-d906-f44ca1d09d2e"
      },
      "execution_count": null,
      "outputs": [
        {
          "output_type": "execute_result",
          "data": {
            "text/plain": [
              "        id  user_id       ip_address  browser traffic_source event_type  age  \\\n",
              "0  1055512    81226    61.248.88.178  Firefox          Email       cart   47   \n",
              "1   274054    21203    112.23.18.118   Chrome          Email       cart   51   \n",
              "2  1086658    83669     38.71.42.230   Chrome          Email       cart   15   \n",
              "3  1173952    90315  113.152.120.244   Chrome          Email       cart   70   \n",
              "4  1086671    83669    94.66.145.107  Firefox          Email       cart   15   \n",
              "\n",
              "  gender country  \n",
              "0      F  Poland  \n",
              "1      F  Poland  \n",
              "2      F  Poland  \n",
              "3      M  Poland  \n",
              "4      F  Poland  "
            ],
            "text/html": [
              "\n",
              "  <div id=\"df-1811de14-99f9-4370-9c95-c9b3f6704850\">\n",
              "    <div class=\"colab-df-container\">\n",
              "      <div>\n",
              "<style scoped>\n",
              "    .dataframe tbody tr th:only-of-type {\n",
              "        vertical-align: middle;\n",
              "    }\n",
              "\n",
              "    .dataframe tbody tr th {\n",
              "        vertical-align: top;\n",
              "    }\n",
              "\n",
              "    .dataframe thead th {\n",
              "        text-align: right;\n",
              "    }\n",
              "</style>\n",
              "<table border=\"1\" class=\"dataframe\">\n",
              "  <thead>\n",
              "    <tr style=\"text-align: right;\">\n",
              "      <th></th>\n",
              "      <th>id</th>\n",
              "      <th>user_id</th>\n",
              "      <th>ip_address</th>\n",
              "      <th>browser</th>\n",
              "      <th>traffic_source</th>\n",
              "      <th>event_type</th>\n",
              "      <th>age</th>\n",
              "      <th>gender</th>\n",
              "      <th>country</th>\n",
              "    </tr>\n",
              "  </thead>\n",
              "  <tbody>\n",
              "    <tr>\n",
              "      <th>0</th>\n",
              "      <td>1055512</td>\n",
              "      <td>81226</td>\n",
              "      <td>61.248.88.178</td>\n",
              "      <td>Firefox</td>\n",
              "      <td>Email</td>\n",
              "      <td>cart</td>\n",
              "      <td>47</td>\n",
              "      <td>F</td>\n",
              "      <td>Poland</td>\n",
              "    </tr>\n",
              "    <tr>\n",
              "      <th>1</th>\n",
              "      <td>274054</td>\n",
              "      <td>21203</td>\n",
              "      <td>112.23.18.118</td>\n",
              "      <td>Chrome</td>\n",
              "      <td>Email</td>\n",
              "      <td>cart</td>\n",
              "      <td>51</td>\n",
              "      <td>F</td>\n",
              "      <td>Poland</td>\n",
              "    </tr>\n",
              "    <tr>\n",
              "      <th>2</th>\n",
              "      <td>1086658</td>\n",
              "      <td>83669</td>\n",
              "      <td>38.71.42.230</td>\n",
              "      <td>Chrome</td>\n",
              "      <td>Email</td>\n",
              "      <td>cart</td>\n",
              "      <td>15</td>\n",
              "      <td>F</td>\n",
              "      <td>Poland</td>\n",
              "    </tr>\n",
              "    <tr>\n",
              "      <th>3</th>\n",
              "      <td>1173952</td>\n",
              "      <td>90315</td>\n",
              "      <td>113.152.120.244</td>\n",
              "      <td>Chrome</td>\n",
              "      <td>Email</td>\n",
              "      <td>cart</td>\n",
              "      <td>70</td>\n",
              "      <td>M</td>\n",
              "      <td>Poland</td>\n",
              "    </tr>\n",
              "    <tr>\n",
              "      <th>4</th>\n",
              "      <td>1086671</td>\n",
              "      <td>83669</td>\n",
              "      <td>94.66.145.107</td>\n",
              "      <td>Firefox</td>\n",
              "      <td>Email</td>\n",
              "      <td>cart</td>\n",
              "      <td>15</td>\n",
              "      <td>F</td>\n",
              "      <td>Poland</td>\n",
              "    </tr>\n",
              "  </tbody>\n",
              "</table>\n",
              "</div>\n",
              "      <button class=\"colab-df-convert\" onclick=\"convertToInteractive('df-1811de14-99f9-4370-9c95-c9b3f6704850')\"\n",
              "              title=\"Convert this dataframe to an interactive table.\"\n",
              "              style=\"display:none;\">\n",
              "        \n",
              "  <svg xmlns=\"http://www.w3.org/2000/svg\" height=\"24px\"viewBox=\"0 0 24 24\"\n",
              "       width=\"24px\">\n",
              "    <path d=\"M0 0h24v24H0V0z\" fill=\"none\"/>\n",
              "    <path d=\"M18.56 5.44l.94 2.06.94-2.06 2.06-.94-2.06-.94-.94-2.06-.94 2.06-2.06.94zm-11 1L8.5 8.5l.94-2.06 2.06-.94-2.06-.94L8.5 2.5l-.94 2.06-2.06.94zm10 10l.94 2.06.94-2.06 2.06-.94-2.06-.94-.94-2.06-.94 2.06-2.06.94z\"/><path d=\"M17.41 7.96l-1.37-1.37c-.4-.4-.92-.59-1.43-.59-.52 0-1.04.2-1.43.59L10.3 9.45l-7.72 7.72c-.78.78-.78 2.05 0 2.83L4 21.41c.39.39.9.59 1.41.59.51 0 1.02-.2 1.41-.59l7.78-7.78 2.81-2.81c.8-.78.8-2.07 0-2.86zM5.41 20L4 18.59l7.72-7.72 1.47 1.35L5.41 20z\"/>\n",
              "  </svg>\n",
              "      </button>\n",
              "      \n",
              "  <style>\n",
              "    .colab-df-container {\n",
              "      display:flex;\n",
              "      flex-wrap:wrap;\n",
              "      gap: 12px;\n",
              "    }\n",
              "\n",
              "    .colab-df-convert {\n",
              "      background-color: #E8F0FE;\n",
              "      border: none;\n",
              "      border-radius: 50%;\n",
              "      cursor: pointer;\n",
              "      display: none;\n",
              "      fill: #1967D2;\n",
              "      height: 32px;\n",
              "      padding: 0 0 0 0;\n",
              "      width: 32px;\n",
              "    }\n",
              "\n",
              "    .colab-df-convert:hover {\n",
              "      background-color: #E2EBFA;\n",
              "      box-shadow: 0px 1px 2px rgba(60, 64, 67, 0.3), 0px 1px 3px 1px rgba(60, 64, 67, 0.15);\n",
              "      fill: #174EA6;\n",
              "    }\n",
              "\n",
              "    [theme=dark] .colab-df-convert {\n",
              "      background-color: #3B4455;\n",
              "      fill: #D2E3FC;\n",
              "    }\n",
              "\n",
              "    [theme=dark] .colab-df-convert:hover {\n",
              "      background-color: #434B5C;\n",
              "      box-shadow: 0px 1px 3px 1px rgba(0, 0, 0, 0.15);\n",
              "      filter: drop-shadow(0px 1px 2px rgba(0, 0, 0, 0.3));\n",
              "      fill: #FFFFFF;\n",
              "    }\n",
              "  </style>\n",
              "\n",
              "      <script>\n",
              "        const buttonEl =\n",
              "          document.querySelector('#df-1811de14-99f9-4370-9c95-c9b3f6704850 button.colab-df-convert');\n",
              "        buttonEl.style.display =\n",
              "          google.colab.kernel.accessAllowed ? 'block' : 'none';\n",
              "\n",
              "        async function convertToInteractive(key) {\n",
              "          const element = document.querySelector('#df-1811de14-99f9-4370-9c95-c9b3f6704850');\n",
              "          const dataTable =\n",
              "            await google.colab.kernel.invokeFunction('convertToInteractive',\n",
              "                                                     [key], {});\n",
              "          if (!dataTable) return;\n",
              "\n",
              "          const docLinkHtml = 'Like what you see? Visit the ' +\n",
              "            '<a target=\"_blank\" href=https://colab.research.google.com/notebooks/data_table.ipynb>data table notebook</a>'\n",
              "            + ' to learn more about interactive tables.';\n",
              "          element.innerHTML = '';\n",
              "          dataTable['output_type'] = 'display_data';\n",
              "          await google.colab.output.renderOutput(dataTable, element);\n",
              "          const docLink = document.createElement('div');\n",
              "          docLink.innerHTML = docLinkHtml;\n",
              "          element.appendChild(docLink);\n",
              "        }\n",
              "      </script>\n",
              "    </div>\n",
              "  </div>\n",
              "  "
            ],
            "application/vnd.google.colaboratory.module+javascript": "\n      import \"https://ssl.gstatic.com/colaboratory/data_table/99dac6621f6ae8c4/data_table.js\";\n\n      window.createDataTable({\n        data: [[{\n            'v': 0,\n            'f': \"0\",\n        },\n{\n            'v': 1055512,\n            'f': \"1055512\",\n        },\n{\n            'v': 81226,\n            'f': \"81226\",\n        },\n\"61.248.88.178\",\n\"Firefox\",\n\"Email\",\n\"cart\",\n{\n            'v': 47,\n            'f': \"47\",\n        },\n\"F\",\n\"Poland\"],\n [{\n            'v': 1,\n            'f': \"1\",\n        },\n{\n            'v': 274054,\n            'f': \"274054\",\n        },\n{\n            'v': 21203,\n            'f': \"21203\",\n        },\n\"112.23.18.118\",\n\"Chrome\",\n\"Email\",\n\"cart\",\n{\n            'v': 51,\n            'f': \"51\",\n        },\n\"F\",\n\"Poland\"],\n [{\n            'v': 2,\n            'f': \"2\",\n        },\n{\n            'v': 1086658,\n            'f': \"1086658\",\n        },\n{\n            'v': 83669,\n            'f': \"83669\",\n        },\n\"38.71.42.230\",\n\"Chrome\",\n\"Email\",\n\"cart\",\n{\n            'v': 15,\n            'f': \"15\",\n        },\n\"F\",\n\"Poland\"],\n [{\n            'v': 3,\n            'f': \"3\",\n        },\n{\n            'v': 1173952,\n            'f': \"1173952\",\n        },\n{\n            'v': 90315,\n            'f': \"90315\",\n        },\n\"113.152.120.244\",\n\"Chrome\",\n\"Email\",\n\"cart\",\n{\n            'v': 70,\n            'f': \"70\",\n        },\n\"M\",\n\"Poland\"],\n [{\n            'v': 4,\n            'f': \"4\",\n        },\n{\n            'v': 1086671,\n            'f': \"1086671\",\n        },\n{\n            'v': 83669,\n            'f': \"83669\",\n        },\n\"94.66.145.107\",\n\"Firefox\",\n\"Email\",\n\"cart\",\n{\n            'v': 15,\n            'f': \"15\",\n        },\n\"F\",\n\"Poland\"]],\n        columns: [[\"number\", \"index\"], [\"number\", \"id\"], [\"number\", \"user_id\"], [\"string\", \"ip_address\"], [\"string\", \"browser\"], [\"string\", \"traffic_source\"], [\"string\", \"event_type\"], [\"number\", \"age\"], [\"string\", \"gender\"], [\"string\", \"country\"]],\n        columnOptions: [{\"width\": \"1px\", \"className\": \"index_column\"}],\n        rowsPerPage: 25,\n        helpUrl: \"https://colab.research.google.com/notebooks/data_table.ipynb\",\n        suppressOutputScrolling: true,\n        minimumWidth: undefined,\n      });\n    "
          },
          "metadata": {},
          "execution_count": 101
        }
      ]
    },
    {
      "cell_type": "code",
      "source": [
        "# check for missing data\n",
        "events.isna().sum()"
      ],
      "metadata": {
        "colab": {
          "base_uri": "https://localhost:8080/"
        },
        "id": "sTIdZny52jhS",
        "outputId": "e8bc7b77-3f25-4767-cf68-1616d8242681"
      },
      "execution_count": null,
      "outputs": [
        {
          "output_type": "execute_result",
          "data": {
            "text/plain": [
              "id                0\n",
              "user_id           0\n",
              "ip_address        0\n",
              "browser           0\n",
              "traffic_source    0\n",
              "event_type        0\n",
              "age               0\n",
              "gender            0\n",
              "country           0\n",
              "dtype: int64"
            ]
          },
          "metadata": {},
          "execution_count": 102
        }
      ]
    },
    {
      "cell_type": "code",
      "source": [
        "events.info()"
      ],
      "metadata": {
        "colab": {
          "base_uri": "https://localhost:8080/"
        },
        "id": "-IEFX-yi3nQz",
        "outputId": "ccbed81c-e461-493c-8144-a76abd1b88c8"
      },
      "execution_count": null,
      "outputs": [
        {
          "output_type": "stream",
          "name": "stdout",
          "text": [
            "<class 'pandas.core.frame.DataFrame'>\n",
            "RangeIndex: 1300964 entries, 0 to 1300963\n",
            "Data columns (total 9 columns):\n",
            " #   Column          Non-Null Count    Dtype \n",
            "---  ------          --------------    ----- \n",
            " 0   id              1300964 non-null  Int64 \n",
            " 1   user_id         1300964 non-null  Int64 \n",
            " 2   ip_address      1300964 non-null  object\n",
            " 3   browser         1300964 non-null  object\n",
            " 4   traffic_source  1300964 non-null  object\n",
            " 5   event_type      1300964 non-null  object\n",
            " 6   age             1300964 non-null  Int64 \n",
            " 7   gender          1300964 non-null  object\n",
            " 8   country         1300964 non-null  object\n",
            "dtypes: Int64(3), object(6)\n",
            "memory usage: 93.1+ MB\n"
          ]
        }
      ]
    },
    {
      "cell_type": "markdown",
      "source": [
        "### EDA"
      ],
      "metadata": {
        "id": "tixs_DydGWGl"
      }
    },
    {
      "cell_type": "code",
      "source": [
        "events.describe()"
      ],
      "metadata": {
        "colab": {
          "base_uri": "https://localhost:8080/",
          "height": 262
        },
        "id": "BfXZ_IC63nlm",
        "outputId": "7181be42-6405-4c17-f05d-11eb05852729"
      },
      "execution_count": null,
      "outputs": [
        {
          "output_type": "execute_result",
          "data": {
            "text/plain": [
              "                  id       user_id        age\n",
              "count      1300964.0     1300964.0  1300964.0\n",
              "mean        650482.5  50108.611593  40.972802\n",
              "std    375556.102141  28818.302482  17.072057\n",
              "min              1.0           2.0       12.0\n",
              "25%        325241.75       25163.0       26.0\n",
              "50%         650482.5       50102.0       41.0\n",
              "75%        975723.25       74979.0       56.0\n",
              "max        1300964.0      100000.0       70.0"
            ],
            "text/html": [
              "\n",
              "  <div id=\"df-388d2cdb-dd39-4e97-b655-594bb168bff1\">\n",
              "    <div class=\"colab-df-container\">\n",
              "      <div>\n",
              "<style scoped>\n",
              "    .dataframe tbody tr th:only-of-type {\n",
              "        vertical-align: middle;\n",
              "    }\n",
              "\n",
              "    .dataframe tbody tr th {\n",
              "        vertical-align: top;\n",
              "    }\n",
              "\n",
              "    .dataframe thead th {\n",
              "        text-align: right;\n",
              "    }\n",
              "</style>\n",
              "<table border=\"1\" class=\"dataframe\">\n",
              "  <thead>\n",
              "    <tr style=\"text-align: right;\">\n",
              "      <th></th>\n",
              "      <th>id</th>\n",
              "      <th>user_id</th>\n",
              "      <th>age</th>\n",
              "    </tr>\n",
              "  </thead>\n",
              "  <tbody>\n",
              "    <tr>\n",
              "      <th>count</th>\n",
              "      <td>1300964.0</td>\n",
              "      <td>1300964.0</td>\n",
              "      <td>1300964.0</td>\n",
              "    </tr>\n",
              "    <tr>\n",
              "      <th>mean</th>\n",
              "      <td>650482.5</td>\n",
              "      <td>50108.611593</td>\n",
              "      <td>40.972802</td>\n",
              "    </tr>\n",
              "    <tr>\n",
              "      <th>std</th>\n",
              "      <td>375556.102141</td>\n",
              "      <td>28818.302482</td>\n",
              "      <td>17.072057</td>\n",
              "    </tr>\n",
              "    <tr>\n",
              "      <th>min</th>\n",
              "      <td>1.0</td>\n",
              "      <td>2.0</td>\n",
              "      <td>12.0</td>\n",
              "    </tr>\n",
              "    <tr>\n",
              "      <th>25%</th>\n",
              "      <td>325241.75</td>\n",
              "      <td>25163.0</td>\n",
              "      <td>26.0</td>\n",
              "    </tr>\n",
              "    <tr>\n",
              "      <th>50%</th>\n",
              "      <td>650482.5</td>\n",
              "      <td>50102.0</td>\n",
              "      <td>41.0</td>\n",
              "    </tr>\n",
              "    <tr>\n",
              "      <th>75%</th>\n",
              "      <td>975723.25</td>\n",
              "      <td>74979.0</td>\n",
              "      <td>56.0</td>\n",
              "    </tr>\n",
              "    <tr>\n",
              "      <th>max</th>\n",
              "      <td>1300964.0</td>\n",
              "      <td>100000.0</td>\n",
              "      <td>70.0</td>\n",
              "    </tr>\n",
              "  </tbody>\n",
              "</table>\n",
              "</div>\n",
              "      <button class=\"colab-df-convert\" onclick=\"convertToInteractive('df-388d2cdb-dd39-4e97-b655-594bb168bff1')\"\n",
              "              title=\"Convert this dataframe to an interactive table.\"\n",
              "              style=\"display:none;\">\n",
              "        \n",
              "  <svg xmlns=\"http://www.w3.org/2000/svg\" height=\"24px\"viewBox=\"0 0 24 24\"\n",
              "       width=\"24px\">\n",
              "    <path d=\"M0 0h24v24H0V0z\" fill=\"none\"/>\n",
              "    <path d=\"M18.56 5.44l.94 2.06.94-2.06 2.06-.94-2.06-.94-.94-2.06-.94 2.06-2.06.94zm-11 1L8.5 8.5l.94-2.06 2.06-.94-2.06-.94L8.5 2.5l-.94 2.06-2.06.94zm10 10l.94 2.06.94-2.06 2.06-.94-2.06-.94-.94-2.06-.94 2.06-2.06.94z\"/><path d=\"M17.41 7.96l-1.37-1.37c-.4-.4-.92-.59-1.43-.59-.52 0-1.04.2-1.43.59L10.3 9.45l-7.72 7.72c-.78.78-.78 2.05 0 2.83L4 21.41c.39.39.9.59 1.41.59.51 0 1.02-.2 1.41-.59l7.78-7.78 2.81-2.81c.8-.78.8-2.07 0-2.86zM5.41 20L4 18.59l7.72-7.72 1.47 1.35L5.41 20z\"/>\n",
              "  </svg>\n",
              "      </button>\n",
              "      \n",
              "  <style>\n",
              "    .colab-df-container {\n",
              "      display:flex;\n",
              "      flex-wrap:wrap;\n",
              "      gap: 12px;\n",
              "    }\n",
              "\n",
              "    .colab-df-convert {\n",
              "      background-color: #E8F0FE;\n",
              "      border: none;\n",
              "      border-radius: 50%;\n",
              "      cursor: pointer;\n",
              "      display: none;\n",
              "      fill: #1967D2;\n",
              "      height: 32px;\n",
              "      padding: 0 0 0 0;\n",
              "      width: 32px;\n",
              "    }\n",
              "\n",
              "    .colab-df-convert:hover {\n",
              "      background-color: #E2EBFA;\n",
              "      box-shadow: 0px 1px 2px rgba(60, 64, 67, 0.3), 0px 1px 3px 1px rgba(60, 64, 67, 0.15);\n",
              "      fill: #174EA6;\n",
              "    }\n",
              "\n",
              "    [theme=dark] .colab-df-convert {\n",
              "      background-color: #3B4455;\n",
              "      fill: #D2E3FC;\n",
              "    }\n",
              "\n",
              "    [theme=dark] .colab-df-convert:hover {\n",
              "      background-color: #434B5C;\n",
              "      box-shadow: 0px 1px 3px 1px rgba(0, 0, 0, 0.15);\n",
              "      filter: drop-shadow(0px 1px 2px rgba(0, 0, 0, 0.3));\n",
              "      fill: #FFFFFF;\n",
              "    }\n",
              "  </style>\n",
              "\n",
              "      <script>\n",
              "        const buttonEl =\n",
              "          document.querySelector('#df-388d2cdb-dd39-4e97-b655-594bb168bff1 button.colab-df-convert');\n",
              "        buttonEl.style.display =\n",
              "          google.colab.kernel.accessAllowed ? 'block' : 'none';\n",
              "\n",
              "        async function convertToInteractive(key) {\n",
              "          const element = document.querySelector('#df-388d2cdb-dd39-4e97-b655-594bb168bff1');\n",
              "          const dataTable =\n",
              "            await google.colab.kernel.invokeFunction('convertToInteractive',\n",
              "                                                     [key], {});\n",
              "          if (!dataTable) return;\n",
              "\n",
              "          const docLinkHtml = 'Like what you see? Visit the ' +\n",
              "            '<a target=\"_blank\" href=https://colab.research.google.com/notebooks/data_table.ipynb>data table notebook</a>'\n",
              "            + ' to learn more about interactive tables.';\n",
              "          element.innerHTML = '';\n",
              "          dataTable['output_type'] = 'display_data';\n",
              "          await google.colab.output.renderOutput(dataTable, element);\n",
              "          const docLink = document.createElement('div');\n",
              "          docLink.innerHTML = docLinkHtml;\n",
              "          element.appendChild(docLink);\n",
              "        }\n",
              "      </script>\n",
              "    </div>\n",
              "  </div>\n",
              "  "
            ],
            "application/vnd.google.colaboratory.module+javascript": "\n      import \"https://ssl.gstatic.com/colaboratory/data_table/99dac6621f6ae8c4/data_table.js\";\n\n      window.createDataTable({\n        data: [[\"count\",\n{\n            'v': 1300964.0,\n            'f': \"1300964.0\",\n        },\n{\n            'v': 1300964.0,\n            'f': \"1300964.0\",\n        },\n{\n            'v': 1300964.0,\n            'f': \"1300964.0\",\n        }],\n [\"mean\",\n{\n            'v': 650482.5,\n            'f': \"650482.5\",\n        },\n{\n            'v': 50108.611592634385,\n            'f': \"50108.611592634385\",\n        },\n{\n            'v': 40.97280170704185,\n            'f': \"40.97280170704185\",\n        }],\n [\"std\",\n{\n            'v': 375556.1021405456,\n            'f': \"375556.1021405456\",\n        },\n{\n            'v': 28818.30248179495,\n            'f': \"28818.30248179495\",\n        },\n{\n            'v': 17.07205720374917,\n            'f': \"17.07205720374917\",\n        }],\n [\"min\",\n{\n            'v': 1.0,\n            'f': \"1.0\",\n        },\n{\n            'v': 2.0,\n            'f': \"2.0\",\n        },\n{\n            'v': 12.0,\n            'f': \"12.0\",\n        }],\n [\"25%\",\n{\n            'v': 325241.75,\n            'f': \"325241.75\",\n        },\n{\n            'v': 25163.0,\n            'f': \"25163.0\",\n        },\n{\n            'v': 26.0,\n            'f': \"26.0\",\n        }],\n [\"50%\",\n{\n            'v': 650482.5,\n            'f': \"650482.5\",\n        },\n{\n            'v': 50102.0,\n            'f': \"50102.0\",\n        },\n{\n            'v': 41.0,\n            'f': \"41.0\",\n        }],\n [\"75%\",\n{\n            'v': 975723.25,\n            'f': \"975723.25\",\n        },\n{\n            'v': 74979.0,\n            'f': \"74979.0\",\n        },\n{\n            'v': 56.0,\n            'f': \"56.0\",\n        }],\n [\"max\",\n{\n            'v': 1300964.0,\n            'f': \"1300964.0\",\n        },\n{\n            'v': 100000.0,\n            'f': \"100000.0\",\n        },\n{\n            'v': 70.0,\n            'f': \"70.0\",\n        }]],\n        columns: [[\"string\", \"index\"], [\"number\", \"id\"], [\"number\", \"user_id\"], [\"number\", \"age\"]],\n        columnOptions: [{\"width\": \"1px\", \"className\": \"index_column\"}],\n        rowsPerPage: 25,\n        helpUrl: \"https://colab.research.google.com/notebooks/data_table.ipynb\",\n        suppressOutputScrolling: true,\n        minimumWidth: undefined,\n      });\n    "
          },
          "metadata": {},
          "execution_count": 104
        }
      ]
    },
    {
      "cell_type": "code",
      "source": [
        "events.describe(include='object')"
      ],
      "metadata": {
        "colab": {
          "base_uri": "https://localhost:8080/",
          "height": 176
        },
        "id": "pYAn0DrS4KKN",
        "outputId": "769e80c5-928e-4fff-be39-645fb33fc970"
      },
      "execution_count": null,
      "outputs": [
        {
          "output_type": "execute_result",
          "data": {
            "text/plain": [
              "             ip_address  browser traffic_source event_type   gender  country\n",
              "count           1300964  1300964        1300964    1300964  1300964  1300964\n",
              "unique           181340        5              5          5        2       15\n",
              "top     204.146.223.203   Chrome          Email       cart        F    China\n",
              "freq                 18   648819         583992     343967   651671   439482"
            ],
            "text/html": [
              "\n",
              "  <div id=\"df-34bdb92f-a2df-4012-bfd2-599d4aac08b0\">\n",
              "    <div class=\"colab-df-container\">\n",
              "      <div>\n",
              "<style scoped>\n",
              "    .dataframe tbody tr th:only-of-type {\n",
              "        vertical-align: middle;\n",
              "    }\n",
              "\n",
              "    .dataframe tbody tr th {\n",
              "        vertical-align: top;\n",
              "    }\n",
              "\n",
              "    .dataframe thead th {\n",
              "        text-align: right;\n",
              "    }\n",
              "</style>\n",
              "<table border=\"1\" class=\"dataframe\">\n",
              "  <thead>\n",
              "    <tr style=\"text-align: right;\">\n",
              "      <th></th>\n",
              "      <th>ip_address</th>\n",
              "      <th>browser</th>\n",
              "      <th>traffic_source</th>\n",
              "      <th>event_type</th>\n",
              "      <th>gender</th>\n",
              "      <th>country</th>\n",
              "    </tr>\n",
              "  </thead>\n",
              "  <tbody>\n",
              "    <tr>\n",
              "      <th>count</th>\n",
              "      <td>1300964</td>\n",
              "      <td>1300964</td>\n",
              "      <td>1300964</td>\n",
              "      <td>1300964</td>\n",
              "      <td>1300964</td>\n",
              "      <td>1300964</td>\n",
              "    </tr>\n",
              "    <tr>\n",
              "      <th>unique</th>\n",
              "      <td>181340</td>\n",
              "      <td>5</td>\n",
              "      <td>5</td>\n",
              "      <td>5</td>\n",
              "      <td>2</td>\n",
              "      <td>15</td>\n",
              "    </tr>\n",
              "    <tr>\n",
              "      <th>top</th>\n",
              "      <td>204.146.223.203</td>\n",
              "      <td>Chrome</td>\n",
              "      <td>Email</td>\n",
              "      <td>cart</td>\n",
              "      <td>F</td>\n",
              "      <td>China</td>\n",
              "    </tr>\n",
              "    <tr>\n",
              "      <th>freq</th>\n",
              "      <td>18</td>\n",
              "      <td>648819</td>\n",
              "      <td>583992</td>\n",
              "      <td>343967</td>\n",
              "      <td>651671</td>\n",
              "      <td>439482</td>\n",
              "    </tr>\n",
              "  </tbody>\n",
              "</table>\n",
              "</div>\n",
              "      <button class=\"colab-df-convert\" onclick=\"convertToInteractive('df-34bdb92f-a2df-4012-bfd2-599d4aac08b0')\"\n",
              "              title=\"Convert this dataframe to an interactive table.\"\n",
              "              style=\"display:none;\">\n",
              "        \n",
              "  <svg xmlns=\"http://www.w3.org/2000/svg\" height=\"24px\"viewBox=\"0 0 24 24\"\n",
              "       width=\"24px\">\n",
              "    <path d=\"M0 0h24v24H0V0z\" fill=\"none\"/>\n",
              "    <path d=\"M18.56 5.44l.94 2.06.94-2.06 2.06-.94-2.06-.94-.94-2.06-.94 2.06-2.06.94zm-11 1L8.5 8.5l.94-2.06 2.06-.94-2.06-.94L8.5 2.5l-.94 2.06-2.06.94zm10 10l.94 2.06.94-2.06 2.06-.94-2.06-.94-.94-2.06-.94 2.06-2.06.94z\"/><path d=\"M17.41 7.96l-1.37-1.37c-.4-.4-.92-.59-1.43-.59-.52 0-1.04.2-1.43.59L10.3 9.45l-7.72 7.72c-.78.78-.78 2.05 0 2.83L4 21.41c.39.39.9.59 1.41.59.51 0 1.02-.2 1.41-.59l7.78-7.78 2.81-2.81c.8-.78.8-2.07 0-2.86zM5.41 20L4 18.59l7.72-7.72 1.47 1.35L5.41 20z\"/>\n",
              "  </svg>\n",
              "      </button>\n",
              "      \n",
              "  <style>\n",
              "    .colab-df-container {\n",
              "      display:flex;\n",
              "      flex-wrap:wrap;\n",
              "      gap: 12px;\n",
              "    }\n",
              "\n",
              "    .colab-df-convert {\n",
              "      background-color: #E8F0FE;\n",
              "      border: none;\n",
              "      border-radius: 50%;\n",
              "      cursor: pointer;\n",
              "      display: none;\n",
              "      fill: #1967D2;\n",
              "      height: 32px;\n",
              "      padding: 0 0 0 0;\n",
              "      width: 32px;\n",
              "    }\n",
              "\n",
              "    .colab-df-convert:hover {\n",
              "      background-color: #E2EBFA;\n",
              "      box-shadow: 0px 1px 2px rgba(60, 64, 67, 0.3), 0px 1px 3px 1px rgba(60, 64, 67, 0.15);\n",
              "      fill: #174EA6;\n",
              "    }\n",
              "\n",
              "    [theme=dark] .colab-df-convert {\n",
              "      background-color: #3B4455;\n",
              "      fill: #D2E3FC;\n",
              "    }\n",
              "\n",
              "    [theme=dark] .colab-df-convert:hover {\n",
              "      background-color: #434B5C;\n",
              "      box-shadow: 0px 1px 3px 1px rgba(0, 0, 0, 0.15);\n",
              "      filter: drop-shadow(0px 1px 2px rgba(0, 0, 0, 0.3));\n",
              "      fill: #FFFFFF;\n",
              "    }\n",
              "  </style>\n",
              "\n",
              "      <script>\n",
              "        const buttonEl =\n",
              "          document.querySelector('#df-34bdb92f-a2df-4012-bfd2-599d4aac08b0 button.colab-df-convert');\n",
              "        buttonEl.style.display =\n",
              "          google.colab.kernel.accessAllowed ? 'block' : 'none';\n",
              "\n",
              "        async function convertToInteractive(key) {\n",
              "          const element = document.querySelector('#df-34bdb92f-a2df-4012-bfd2-599d4aac08b0');\n",
              "          const dataTable =\n",
              "            await google.colab.kernel.invokeFunction('convertToInteractive',\n",
              "                                                     [key], {});\n",
              "          if (!dataTable) return;\n",
              "\n",
              "          const docLinkHtml = 'Like what you see? Visit the ' +\n",
              "            '<a target=\"_blank\" href=https://colab.research.google.com/notebooks/data_table.ipynb>data table notebook</a>'\n",
              "            + ' to learn more about interactive tables.';\n",
              "          element.innerHTML = '';\n",
              "          dataTable['output_type'] = 'display_data';\n",
              "          await google.colab.output.renderOutput(dataTable, element);\n",
              "          const docLink = document.createElement('div');\n",
              "          docLink.innerHTML = docLinkHtml;\n",
              "          element.appendChild(docLink);\n",
              "        }\n",
              "      </script>\n",
              "    </div>\n",
              "  </div>\n",
              "  "
            ],
            "application/vnd.google.colaboratory.module+javascript": "\n      import \"https://ssl.gstatic.com/colaboratory/data_table/99dac6621f6ae8c4/data_table.js\";\n\n      window.createDataTable({\n        data: [[\"count\",\n1300964,\n1300964,\n1300964,\n1300964,\n1300964,\n1300964],\n [\"unique\",\n181340,\n5,\n5,\n5,\n2,\n15],\n [\"top\",\n\"204.146.223.203\",\n\"Chrome\",\n\"Email\",\n\"cart\",\n\"F\",\n\"China\"],\n [\"freq\",\n18,\n648819,\n583992,\n343967,\n651671,\n439482]],\n        columns: [[\"string\", \"index\"], [\"string\", \"ip_address\"], [\"string\", \"browser\"], [\"string\", \"traffic_source\"], [\"string\", \"event_type\"], [\"string\", \"gender\"], [\"string\", \"country\"]],\n        columnOptions: [{\"width\": \"1px\", \"className\": \"index_column\"}],\n        rowsPerPage: 25,\n        helpUrl: \"https://colab.research.google.com/notebooks/data_table.ipynb\",\n        suppressOutputScrolling: true,\n        minimumWidth: undefined,\n      });\n    "
          },
          "metadata": {},
          "execution_count": 105
        }
      ]
    },
    {
      "cell_type": "code",
      "source": [
        "print('number of different users:', events['user_id'].nunique())"
      ],
      "metadata": {
        "colab": {
          "base_uri": "https://localhost:8080/"
        },
        "id": "5o1yrnNx3oBk",
        "outputId": "ed79ab2b-ea3c-4331-b0a5-e3a28ae8353a"
      },
      "execution_count": null,
      "outputs": [
        {
          "output_type": "stream",
          "name": "stdout",
          "text": [
            "number of different users: 80154\n"
          ]
        }
      ]
    },
    {
      "cell_type": "code",
      "source": [
        "print('number of different ip addresses:', events['ip_address'].nunique())"
      ],
      "metadata": {
        "colab": {
          "base_uri": "https://localhost:8080/"
        },
        "id": "k3xrOCmp4ixM",
        "outputId": "fa65d899-eaed-4bc4-a672-438d5e589861"
      },
      "execution_count": null,
      "outputs": [
        {
          "output_type": "stream",
          "name": "stdout",
          "text": [
            "number of different ip addresses: 181340\n"
          ]
        }
      ]
    },
    {
      "cell_type": "code",
      "source": [
        "# plot showing age distribution\n",
        "import matplotlib.pyplot as plt\n",
        "import seaborn as sns\n",
        "sns.displot(events['age'])"
      ],
      "metadata": {
        "colab": {
          "base_uri": "https://localhost:8080/",
          "height": 613
        },
        "id": "JMzr42bD3oPw",
        "outputId": "552f408c-900c-4677-96cd-ba31a771f88f"
      },
      "execution_count": null,
      "outputs": [
        {
          "output_type": "stream",
          "name": "stderr",
          "text": [
            "/usr/local/lib/python3.9/dist-packages/seaborn/distributions.py:499: FutureWarning: In a future version, the Index constructor will not infer numeric dtypes when passed object-dtype sequences (matching Series behavior)\n",
            "  pd.Index(edges, name=\"edges\"),\n",
            "/usr/local/lib/python3.9/dist-packages/seaborn/distributions.py:500: FutureWarning: In a future version, the Index constructor will not infer numeric dtypes when passed object-dtype sequences (matching Series behavior)\n",
            "  pd.Index(widths, name=\"widths\"),\n"
          ]
        },
        {
          "output_type": "execute_result",
          "data": {
            "text/plain": [
              "<seaborn.axisgrid.FacetGrid at 0x7ff7856f6970>"
            ]
          },
          "metadata": {},
          "execution_count": 108
        },
        {
          "output_type": "display_data",
          "data": {
            "text/plain": [
              "<Figure size 500x500 with 1 Axes>"
            ],
            "image/png": "[encoded data removed]"
          },
          "metadata": {}
        }
      ]
    },
    {
      "cell_type": "code",
      "source": [
        "# count plot by gender\n",
        "\n",
        "sns.countplot(x='gender', data=events)"
      ],
      "metadata": {
        "colab": {
          "base_uri": "https://localhost:8080/",
          "height": 466
        },
        "id": "e0JyKFV26enU",
        "outputId": "8bfe6770-4de6-4f6c-eca7-61a84b12881a"
      },
      "execution_count": null,
      "outputs": [
        {
          "output_type": "execute_result",
          "data": {
            "text/plain": [
              "<Axes: xlabel='gender', ylabel='count'>"
            ]
          },
          "metadata": {},
          "execution_count": 109
        },
        {
          "output_type": "display_data",
          "data": {
            "text/plain": [
              "<Figure size 640x480 with 1 Axes>"
            ],
            "image/png": "[encoded data removed]"
          },
          "metadata": {}
        }
      ]
    },
    {
      "cell_type": "code",
      "source": [
        "# count plot by country\n",
        "plt.xticks(rotation=45)\n",
        "sns.countplot(x='country', data=events)"
      ],
      "metadata": {
        "colab": {
          "base_uri": "https://localhost:8080/",
          "height": 541
        },
        "id": "M8mQ6OQ97HEZ",
        "outputId": "d8a95cbc-defa-4863-9412-3ae573410be1"
      },
      "execution_count": null,
      "outputs": [
        {
          "output_type": "execute_result",
          "data": {
            "text/plain": [
              "<Axes: xlabel='country', ylabel='count'>"
            ]
          },
          "metadata": {},
          "execution_count": 110
        },
        {
          "output_type": "display_data",
          "data": {
            "text/plain": [
              "<Figure size 640x480 with 1 Axes>"
            ],
            "image/png": "[encoded data removed]"
          },
          "metadata": {}
        }
      ]
    },
    {
      "cell_type": "code",
      "source": [
        "# count plot by browser\n",
        "plt.xticks(rotation=45)\n",
        "sns.countplot(x='browser', data=events)"
      ],
      "metadata": {
        "colab": {
          "base_uri": "https://localhost:8080/",
          "height": 501
        },
        "id": "SYEC4bEX7mxH",
        "outputId": "19e55782-6fbc-4df8-eb68-1d877fc4bfbb"
      },
      "execution_count": null,
      "outputs": [
        {
          "output_type": "execute_result",
          "data": {
            "text/plain": [
              "<Axes: xlabel='browser', ylabel='count'>"
            ]
          },
          "metadata": {},
          "execution_count": 111
        },
        {
          "output_type": "display_data",
          "data": {
            "text/plain": [
              "<Figure size 640x480 with 1 Axes>"
            ],
            "image/png": "[encoded data removed]"
          },
          "metadata": {}
        }
      ]
    },
    {
      "cell_type": "code",
      "source": [
        "# count plot by event type\n",
        "plt.xticks(rotation=45)\n",
        "sns.countplot(x='event_type', data=events)"
      ],
      "metadata": {
        "colab": {
          "base_uri": "https://localhost:8080/",
          "height": 521
        },
        "id": "wCVb6SH_7nBa",
        "outputId": "7d64bd7a-22e6-4320-f0a6-a669bcb9b381"
      },
      "execution_count": null,
      "outputs": [
        {
          "output_type": "execute_result",
          "data": {
            "text/plain": [
              "<Axes: xlabel='event_type', ylabel='count'>"
            ]
          },
          "metadata": {},
          "execution_count": 112
        },
        {
          "output_type": "display_data",
          "data": {
            "text/plain": [
              "<Figure size 640x480 with 1 Axes>"
            ],
            "image/png": "[encoded data removed]"
          },
          "metadata": {}
        }
      ]
    },
    {
      "cell_type": "code",
      "source": [
        "# count plot by traffic source\n",
        "plt.xticks(rotation=45)\n",
        "sns.countplot(x='traffic_source', data=events)"
      ],
      "metadata": {
        "id": "PD6uOJJPOb71",
        "colab": {
          "base_uri": "https://localhost:8080/",
          "height": 509
        },
        "outputId": "d33796a3-229f-427d-edbd-109a7468a0b0"
      },
      "execution_count": null,
      "outputs": [
        {
          "output_type": "execute_result",
          "data": {
            "text/plain": [
              "<Axes: xlabel='traffic_source', ylabel='count'>"
            ]
          },
          "metadata": {},
          "execution_count": 113
        },
        {
          "output_type": "display_data",
          "data": {
            "text/plain": [
              "<Figure size 640x480 with 1 Axes>"
            ],
            "image/png": "[encoded data removed]"
          },
          "metadata": {}
        }
      ]
    },
    {
      "cell_type": "code",
      "source": [
        "# percentage of events that end in purchase\n",
        "events[events ['event_type']=='purchase'].shape[0]/events.shape[0]*(100)"
      ],
      "metadata": {
        "colab": {
          "base_uri": "https://localhost:8080/"
        },
        "id": "anaBx25a9mqt",
        "outputId": "7b97a6fd-d3c4-4907-8a81-c9cf49ba5280"
      },
      "execution_count": null,
      "outputs": [
        {
          "output_type": "execute_result",
          "data": {
            "text/plain": [
              "13.939586337515872"
            ]
          },
          "metadata": {},
          "execution_count": 114
        }
      ]
    },
    {
      "cell_type": "code",
      "source": [
        "def purch_indicator(event_type):\n",
        "   if event_type == 'purchase':\n",
        "      event_type = 1\n",
        "   else:\n",
        "      event_type = 0\n",
        "   return event_type"
      ],
      "metadata": {
        "id": "JOihrOng_X5s"
      },
      "execution_count": null,
      "outputs": []
    },
    {
      "cell_type": "code",
      "source": [
        "events['purchase'] = events['event_type'].apply(lambda e: purch_indicator(e))"
      ],
      "metadata": {
        "id": "gPvg6vBK9m9l"
      },
      "execution_count": null,
      "outputs": []
    },
    {
      "cell_type": "code",
      "source": [
        "events.head()"
      ],
      "metadata": {
        "colab": {
          "base_uri": "https://localhost:8080/",
          "height": 197
        },
        "id": "IWPScfqoAI5D",
        "outputId": "0a867e2d-c71d-4f13-b8e9-d6c2f6d1561c"
      },
      "execution_count": null,
      "outputs": [
        {
          "output_type": "execute_result",
          "data": {
            "text/plain": [
              "        id  user_id       ip_address  browser traffic_source event_type  age  \\\n",
              "0  1055512    81226    61.248.88.178  Firefox          Email       cart   47   \n",
              "1   274054    21203    112.23.18.118   Chrome          Email       cart   51   \n",
              "2  1086658    83669     38.71.42.230   Chrome          Email       cart   15   \n",
              "3  1173952    90315  113.152.120.244   Chrome          Email       cart   70   \n",
              "4  1086671    83669    94.66.145.107  Firefox          Email       cart   15   \n",
              "\n",
              "  gender country  purchase  \n",
              "0      F  Poland         0  \n",
              "1      F  Poland         0  \n",
              "2      F  Poland         0  \n",
              "3      M  Poland         0  \n",
              "4      F  Poland         0  "
            ],
            "text/html": [
              "\n",
              "  <div id=\"df-25220f3f-69c9-494a-adb1-c48ed3b18090\">\n",
              "    <div class=\"colab-df-container\">\n",
              "      <div>\n",
              "<style scoped>\n",
              "    .dataframe tbody tr th:only-of-type {\n",
              "        vertical-align: middle;\n",
              "    }\n",
              "\n",
              "    .dataframe tbody tr th {\n",
              "        vertical-align: top;\n",
              "    }\n",
              "\n",
              "    .dataframe thead th {\n",
              "        text-align: right;\n",
              "    }\n",
              "</style>\n",
              "<table border=\"1\" class=\"dataframe\">\n",
              "  <thead>\n",
              "    <tr style=\"text-align: right;\">\n",
              "      <th></th>\n",
              "      <th>id</th>\n",
              "      <th>user_id</th>\n",
              "      <th>ip_address</th>\n",
              "      <th>browser</th>\n",
              "      <th>traffic_source</th>\n",
              "      <th>event_type</th>\n",
              "      <th>age</th>\n",
              "      <th>gender</th>\n",
              "      <th>country</th>\n",
              "      <th>purchase</th>\n",
              "    </tr>\n",
              "  </thead>\n",
              "  <tbody>\n",
              "    <tr>\n",
              "      <th>0</th>\n",
              "      <td>1055512</td>\n",
              "      <td>81226</td>\n",
              "      <td>61.248.88.178</td>\n",
              "      <td>Firefox</td>\n",
              "      <td>Email</td>\n",
              "      <td>cart</td>\n",
              "      <td>47</td>\n",
              "      <td>F</td>\n",
              "      <td>Poland</td>\n",
              "      <td>0</td>\n",
              "    </tr>\n",
              "    <tr>\n",
              "      <th>1</th>\n",
              "      <td>274054</td>\n",
              "      <td>21203</td>\n",
              "      <td>112.23.18.118</td>\n",
              "      <td>Chrome</td>\n",
              "      <td>Email</td>\n",
              "      <td>cart</td>\n",
              "      <td>51</td>\n",
              "      <td>F</td>\n",
              "      <td>Poland</td>\n",
              "      <td>0</td>\n",
              "    </tr>\n",
              "    <tr>\n",
              "      <th>2</th>\n",
              "      <td>1086658</td>\n",
              "      <td>83669</td>\n",
              "      <td>38.71.42.230</td>\n",
              "      <td>Chrome</td>\n",
              "      <td>Email</td>\n",
              "      <td>cart</td>\n",
              "      <td>15</td>\n",
              "      <td>F</td>\n",
              "      <td>Poland</td>\n",
              "      <td>0</td>\n",
              "    </tr>\n",
              "    <tr>\n",
              "      <th>3</th>\n",
              "      <td>1173952</td>\n",
              "      <td>90315</td>\n",
              "      <td>113.152.120.244</td>\n",
              "      <td>Chrome</td>\n",
              "      <td>Email</td>\n",
              "      <td>cart</td>\n",
              "      <td>70</td>\n",
              "      <td>M</td>\n",
              "      <td>Poland</td>\n",
              "      <td>0</td>\n",
              "    </tr>\n",
              "    <tr>\n",
              "      <th>4</th>\n",
              "      <td>1086671</td>\n",
              "      <td>83669</td>\n",
              "      <td>94.66.145.107</td>\n",
              "      <td>Firefox</td>\n",
              "      <td>Email</td>\n",
              "      <td>cart</td>\n",
              "      <td>15</td>\n",
              "      <td>F</td>\n",
              "      <td>Poland</td>\n",
              "      <td>0</td>\n",
              "    </tr>\n",
              "  </tbody>\n",
              "</table>\n",
              "</div>\n",
              "      <button class=\"colab-df-convert\" onclick=\"convertToInteractive('df-25220f3f-69c9-494a-adb1-c48ed3b18090')\"\n",
              "              title=\"Convert this dataframe to an interactive table.\"\n",
              "              style=\"display:none;\">\n",
              "        \n",
              "  <svg xmlns=\"http://www.w3.org/2000/svg\" height=\"24px\"viewBox=\"0 0 24 24\"\n",
              "       width=\"24px\">\n",
              "    <path d=\"M0 0h24v24H0V0z\" fill=\"none\"/>\n",
              "    <path d=\"M18.56 5.44l.94 2.06.94-2.06 2.06-.94-2.06-.94-.94-2.06-.94 2.06-2.06.94zm-11 1L8.5 8.5l.94-2.06 2.06-.94-2.06-.94L8.5 2.5l-.94 2.06-2.06.94zm10 10l.94 2.06.94-2.06 2.06-.94-2.06-.94-.94-2.06-.94 2.06-2.06.94z\"/><path d=\"M17.41 7.96l-1.37-1.37c-.4-.4-.92-.59-1.43-.59-.52 0-1.04.2-1.43.59L10.3 9.45l-7.72 7.72c-.78.78-.78 2.05 0 2.83L4 21.41c.39.39.9.59 1.41.59.51 0 1.02-.2 1.41-.59l7.78-7.78 2.81-2.81c.8-.78.8-2.07 0-2.86zM5.41 20L4 18.59l7.72-7.72 1.47 1.35L5.41 20z\"/>\n",
              "  </svg>\n",
              "      </button>\n",
              "      \n",
              "  <style>\n",
              "    .colab-df-container {\n",
              "      display:flex;\n",
              "      flex-wrap:wrap;\n",
              "      gap: 12px;\n",
              "    }\n",
              "\n",
              "    .colab-df-convert {\n",
              "      background-color: #E8F0FE;\n",
              "      border: none;\n",
              "      border-radius: 50%;\n",
              "      cursor: pointer;\n",
              "      display: none;\n",
              "      fill: #1967D2;\n",
              "      height: 32px;\n",
              "      padding: 0 0 0 0;\n",
              "      width: 32px;\n",
              "    }\n",
              "\n",
              "    .colab-df-convert:hover {\n",
              "      background-color: #E2EBFA;\n",
              "      box-shadow: 0px 1px 2px rgba(60, 64, 67, 0.3), 0px 1px 3px 1px rgba(60, 64, 67, 0.15);\n",
              "      fill: #174EA6;\n",
              "    }\n",
              "\n",
              "    [theme=dark] .colab-df-convert {\n",
              "      background-color: #3B4455;\n",
              "      fill: #D2E3FC;\n",
              "    }\n",
              "\n",
              "    [theme=dark] .colab-df-convert:hover {\n",
              "      background-color: #434B5C;\n",
              "      box-shadow: 0px 1px 3px 1px rgba(0, 0, 0, 0.15);\n",
              "      filter: drop-shadow(0px 1px 2px rgba(0, 0, 0, 0.3));\n",
              "      fill: #FFFFFF;\n",
              "    }\n",
              "  </style>\n",
              "\n",
              "      <script>\n",
              "        const buttonEl =\n",
              "          document.querySelector('#df-25220f3f-69c9-494a-adb1-c48ed3b18090 button.colab-df-convert');\n",
              "        buttonEl.style.display =\n",
              "          google.colab.kernel.accessAllowed ? 'block' : 'none';\n",
              "\n",
              "        async function convertToInteractive(key) {\n",
              "          const element = document.querySelector('#df-25220f3f-69c9-494a-adb1-c48ed3b18090');\n",
              "          const dataTable =\n",
              "            await google.colab.kernel.invokeFunction('convertToInteractive',\n",
              "                                                     [key], {});\n",
              "          if (!dataTable) return;\n",
              "\n",
              "          const docLinkHtml = 'Like what you see? Visit the ' +\n",
              "            '<a target=\"_blank\" href=https://colab.research.google.com/notebooks/data_table.ipynb>data table notebook</a>'\n",
              "            + ' to learn more about interactive tables.';\n",
              "          element.innerHTML = '';\n",
              "          dataTable['output_type'] = 'display_data';\n",
              "          await google.colab.output.renderOutput(dataTable, element);\n",
              "          const docLink = document.createElement('div');\n",
              "          docLink.innerHTML = docLinkHtml;\n",
              "          element.appendChild(docLink);\n",
              "        }\n",
              "      </script>\n",
              "    </div>\n",
              "  </div>\n",
              "  "
            ],
            "application/vnd.google.colaboratory.module+javascript": "\n      import \"https://ssl.gstatic.com/colaboratory/data_table/99dac6621f6ae8c4/data_table.js\";\n\n      window.createDataTable({\n        data: [[{\n            'v': 0,\n            'f': \"0\",\n        },\n{\n            'v': 1055512,\n            'f': \"1055512\",\n        },\n{\n            'v': 81226,\n            'f': \"81226\",\n        },\n\"61.248.88.178\",\n\"Firefox\",\n\"Email\",\n\"cart\",\n{\n            'v': 47,\n            'f': \"47\",\n        },\n\"F\",\n\"Poland\",\n{\n            'v': 0,\n            'f': \"0\",\n        }],\n [{\n            'v': 1,\n            'f': \"1\",\n        },\n{\n            'v': 274054,\n            'f': \"274054\",\n        },\n{\n            'v': 21203,\n            'f': \"21203\",\n        },\n\"112.23.18.118\",\n\"Chrome\",\n\"Email\",\n\"cart\",\n{\n            'v': 51,\n            'f': \"51\",\n        },\n\"F\",\n\"Poland\",\n{\n            'v': 0,\n            'f': \"0\",\n        }],\n [{\n            'v': 2,\n            'f': \"2\",\n        },\n{\n            'v': 1086658,\n            'f': \"1086658\",\n        },\n{\n            'v': 83669,\n            'f': \"83669\",\n        },\n\"38.71.42.230\",\n\"Chrome\",\n\"Email\",\n\"cart\",\n{\n            'v': 15,\n            'f': \"15\",\n        },\n\"F\",\n\"Poland\",\n{\n            'v': 0,\n            'f': \"0\",\n        }],\n [{\n            'v': 3,\n            'f': \"3\",\n        },\n{\n            'v': 1173952,\n            'f': \"1173952\",\n        },\n{\n            'v': 90315,\n            'f': \"90315\",\n        },\n\"113.152.120.244\",\n\"Chrome\",\n\"Email\",\n\"cart\",\n{\n            'v': 70,\n            'f': \"70\",\n        },\n\"M\",\n\"Poland\",\n{\n            'v': 0,\n            'f': \"0\",\n        }],\n [{\n            'v': 4,\n            'f': \"4\",\n        },\n{\n            'v': 1086671,\n            'f': \"1086671\",\n        },\n{\n            'v': 83669,\n            'f': \"83669\",\n        },\n\"94.66.145.107\",\n\"Firefox\",\n\"Email\",\n\"cart\",\n{\n            'v': 15,\n            'f': \"15\",\n        },\n\"F\",\n\"Poland\",\n{\n            'v': 0,\n            'f': \"0\",\n        }]],\n        columns: [[\"number\", \"index\"], [\"number\", \"id\"], [\"number\", \"user_id\"], [\"string\", \"ip_address\"], [\"string\", \"browser\"], [\"string\", \"traffic_source\"], [\"string\", \"event_type\"], [\"number\", \"age\"], [\"string\", \"gender\"], [\"string\", \"country\"], [\"number\", \"purchase\"]],\n        columnOptions: [{\"width\": \"1px\", \"className\": \"index_column\"}],\n        rowsPerPage: 25,\n        helpUrl: \"https://colab.research.google.com/notebooks/data_table.ipynb\",\n        suppressOutputScrolling: true,\n        minimumWidth: undefined,\n      });\n    "
          },
          "metadata": {},
          "execution_count": 117
        }
      ]
    },
    {
      "cell_type": "code",
      "source": [
        "events['purchase'].value_counts()"
      ],
      "metadata": {
        "colab": {
          "base_uri": "https://localhost:8080/"
        },
        "id": "gNYfO43TBf0V",
        "outputId": "3d393205-c224-4a31-b1ec-344b09797d93"
      },
      "execution_count": null,
      "outputs": [
        {
          "output_type": "execute_result",
          "data": {
            "text/plain": [
              "0    1119615\n",
              "1     181349\n",
              "Name: purchase, dtype: int64"
            ]
          },
          "metadata": {},
          "execution_count": 118
        }
      ]
    },
    {
      "cell_type": "code",
      "source": [
        "browser_events = events.groupby('browser')['purchase'].count()\n",
        "browser_events"
      ],
      "metadata": {
        "colab": {
          "base_uri": "https://localhost:8080/"
        },
        "id": "y5tE7KTIDKrM",
        "outputId": "7724c348-b3d5-42f4-a379-4c9ea88b62fd"
      },
      "execution_count": null,
      "outputs": [
        {
          "output_type": "execute_result",
          "data": {
            "text/plain": [
              "browser\n",
              "Chrome     648819\n",
              "Firefox    257743\n",
              "IE          66529\n",
              "Other       65458\n",
              "Safari     262415\n",
              "Name: purchase, dtype: int64"
            ]
          },
          "metadata": {},
          "execution_count": 119
        }
      ]
    },
    {
      "cell_type": "code",
      "source": [
        "browser_purchased = events.groupby('browser')['purchase'].sum()\n",
        "browser_purchased"
      ],
      "metadata": {
        "colab": {
          "base_uri": "https://localhost:8080/"
        },
        "id": "_5fIEaLvCdc9",
        "outputId": "7cd444e1-cf2f-4aa7-cd43-71d7b139871c"
      },
      "execution_count": null,
      "outputs": [
        {
          "output_type": "execute_result",
          "data": {
            "text/plain": [
              "browser\n",
              "Chrome     90472\n",
              "Firefox    36039\n",
              "IE          9289\n",
              "Other       9061\n",
              "Safari     36488\n",
              "Name: purchase, dtype: int64"
            ]
          },
          "metadata": {},
          "execution_count": 120
        }
      ]
    },
    {
      "cell_type": "code",
      "source": [
        "# purchase rate by browser\n",
        "browser_purchased/browser_events"
      ],
      "metadata": {
        "colab": {
          "base_uri": "https://localhost:8080/"
        },
        "id": "K5WATqH2BOkQ",
        "outputId": "3b68b653-7d6b-47b4-ff75-ed71f900711e"
      },
      "execution_count": null,
      "outputs": [
        {
          "output_type": "execute_result",
          "data": {
            "text/plain": [
              "browser\n",
              "Chrome     0.139441\n",
              "Firefox    0.139825\n",
              "IE         0.139623\n",
              "Other      0.138425\n",
              "Safari     0.139047\n",
              "Name: purchase, dtype: float64"
            ]
          },
          "metadata": {},
          "execution_count": 121
        }
      ]
    },
    {
      "cell_type": "code",
      "source": [
        "gender_events = events.groupby('gender')['purchase'].count()\n",
        "gender_events"
      ],
      "metadata": {
        "colab": {
          "base_uri": "https://localhost:8080/"
        },
        "id": "Lm4v7iWmBOve",
        "outputId": "2a5d7448-49fb-4185-aaa0-83f158f52745"
      },
      "execution_count": null,
      "outputs": [
        {
          "output_type": "execute_result",
          "data": {
            "text/plain": [
              "gender\n",
              "F    651671\n",
              "M    649293\n",
              "Name: purchase, dtype: int64"
            ]
          },
          "metadata": {},
          "execution_count": 122
        }
      ]
    },
    {
      "cell_type": "code",
      "source": [
        "gender_purchased = events.groupby('gender')['purchase'].sum()\n",
        "gender_purchased"
      ],
      "metadata": {
        "colab": {
          "base_uri": "https://localhost:8080/"
        },
        "id": "qlQJADGbEJyU",
        "outputId": "8dead885-8d89-490a-c683-f2d53c303f85"
      },
      "execution_count": null,
      "outputs": [
        {
          "output_type": "execute_result",
          "data": {
            "text/plain": [
              "gender\n",
              "F    90966\n",
              "M    90383\n",
              "Name: purchase, dtype: int64"
            ]
          },
          "metadata": {},
          "execution_count": 123
        }
      ]
    },
    {
      "cell_type": "code",
      "source": [
        "# Purchase rate by gender\n",
        "gender_purchased/gender_events"
      ],
      "metadata": {
        "colab": {
          "base_uri": "https://localhost:8080/"
        },
        "id": "ApbfKnzFEQuE",
        "outputId": "c8b5cdfb-7b57-4460-a303-63a64d64df2b"
      },
      "execution_count": null,
      "outputs": [
        {
          "output_type": "execute_result",
          "data": {
            "text/plain": [
              "gender\n",
              "F    0.139589\n",
              "M    0.139202\n",
              "Name: purchase, dtype: float64"
            ]
          },
          "metadata": {},
          "execution_count": 124
        }
      ]
    },
    {
      "cell_type": "code",
      "source": [
        "country_events = events.groupby('country')['purchase'].count()\n",
        "country_events"
      ],
      "metadata": {
        "colab": {
          "base_uri": "https://localhost:8080/"
        },
        "id": "YPQQ4k0qEQ32",
        "outputId": "f5a7b129-40cc-4f86-a426-688dc5b15773"
      },
      "execution_count": null,
      "outputs": [
        {
          "output_type": "execute_result",
          "data": {
            "text/plain": [
              "country\n",
              "Australia          28392\n",
              "Austria               72\n",
              "Belgium            16372\n",
              "Brasil            190672\n",
              "China             439482\n",
              "Colombia             122\n",
              "España                14\n",
              "France             61341\n",
              "Germany            55127\n",
              "Japan              31307\n",
              "Poland              3828\n",
              "South Korea        69615\n",
              "Spain              51488\n",
              "United Kingdom     59799\n",
              "United States     293333\n",
              "Name: purchase, dtype: int64"
            ]
          },
          "metadata": {},
          "execution_count": 125
        }
      ]
    },
    {
      "cell_type": "code",
      "source": [
        "country_purchased = events.groupby('country')['purchase'].sum()\n",
        "country_purchased"
      ],
      "metadata": {
        "colab": {
          "base_uri": "https://localhost:8080/"
        },
        "id": "OE5_5gsIERCZ",
        "outputId": "6cd27e12-39f1-4c14-e04a-414ad08d8f52"
      },
      "execution_count": null,
      "outputs": [
        {
          "output_type": "execute_result",
          "data": {
            "text/plain": [
              "country\n",
              "Australia          3949\n",
              "Austria               8\n",
              "Belgium            2330\n",
              "Brasil            26510\n",
              "China             61413\n",
              "Colombia             22\n",
              "España                2\n",
              "France             8473\n",
              "Germany            7639\n",
              "Japan              4372\n",
              "Poland              524\n",
              "South Korea        9671\n",
              "Spain              7265\n",
              "United Kingdom     8342\n",
              "United States     40829\n",
              "Name: purchase, dtype: int64"
            ]
          },
          "metadata": {},
          "execution_count": 126
        }
      ]
    },
    {
      "cell_type": "code",
      "source": [
        "# Purchase rate by country\n",
        "country_purchased/country_events"
      ],
      "metadata": {
        "colab": {
          "base_uri": "https://localhost:8080/"
        },
        "id": "XFM2frjgEJ_j",
        "outputId": "bb01d31d-b8e5-494d-c128-1db74e7f6619"
      },
      "execution_count": null,
      "outputs": [
        {
          "output_type": "execute_result",
          "data": {
            "text/plain": [
              "country\n",
              "Australia         0.139088\n",
              "Austria           0.111111\n",
              "Belgium           0.142316\n",
              "Brasil            0.139035\n",
              "China             0.139740\n",
              "Colombia          0.180328\n",
              "España            0.142857\n",
              "France            0.138129\n",
              "Germany           0.138571\n",
              "Japan             0.139649\n",
              "Poland            0.136886\n",
              "South Korea       0.138921\n",
              "Spain             0.141101\n",
              "United Kingdom    0.139501\n",
              "United States     0.139190\n",
              "Name: purchase, dtype: float64"
            ]
          },
          "metadata": {},
          "execution_count": 127
        }
      ]
    },
    {
      "cell_type": "code",
      "source": [
        "traffic_source_events = events.groupby('traffic_source')['purchase'].count()\n",
        "traffic_source_events"
      ],
      "metadata": {
        "id": "hapF1GIeOubH",
        "colab": {
          "base_uri": "https://localhost:8080/"
        },
        "outputId": "0e55ce73-8fe3-4124-ea25-c1e5dcd494fb"
      },
      "execution_count": null,
      "outputs": [
        {
          "output_type": "execute_result",
          "data": {
            "text/plain": [
              "traffic_source\n",
              "Adwords     392299\n",
              "Email       583992\n",
              "Facebook    129088\n",
              "Organic      65365\n",
              "YouTube     130220\n",
              "Name: purchase, dtype: int64"
            ]
          },
          "metadata": {},
          "execution_count": 128
        }
      ]
    },
    {
      "cell_type": "code",
      "source": [
        "traffic_source_purchased = events.groupby('traffic_source')['purchase'].sum()\n",
        "traffic_source_purchased"
      ],
      "metadata": {
        "id": "FGkKOxujOukt",
        "colab": {
          "base_uri": "https://localhost:8080/"
        },
        "outputId": "e769b48f-b066-4a99-a7e4-ff427a5fe62a"
      },
      "execution_count": null,
      "outputs": [
        {
          "output_type": "execute_result",
          "data": {
            "text/plain": [
              "traffic_source\n",
              "Adwords     54595\n",
              "Email       81529\n",
              "Facebook    18016\n",
              "Organic      9064\n",
              "YouTube     18145\n",
              "Name: purchase, dtype: int64"
            ]
          },
          "metadata": {},
          "execution_count": 129
        }
      ]
    },
    {
      "cell_type": "code",
      "source": [
        "# Purchase rate by traffic_source\n",
        "traffic_source_purchased/traffic_source_events"
      ],
      "metadata": {
        "id": "kULKsVkaPIEH",
        "colab": {
          "base_uri": "https://localhost:8080/"
        },
        "outputId": "9600dc3c-10ea-40be-df15-a6206145709b"
      },
      "execution_count": null,
      "outputs": [
        {
          "output_type": "execute_result",
          "data": {
            "text/plain": [
              "traffic_source\n",
              "Adwords     0.139167\n",
              "Email       0.139606\n",
              "Facebook    0.139564\n",
              "Organic     0.138667\n",
              "YouTube     0.139341\n",
              "Name: purchase, dtype: float64"
            ]
          },
          "metadata": {},
          "execution_count": 130
        }
      ]
    },
    {
      "cell_type": "markdown",
      "source": [
        "The purchase rates for country, gender, traffic source and browser type are all identical. This may be a factor in modeling purchase predictions. "
      ],
      "metadata": {
        "id": "l83nuuRgGip7"
      }
    },
    {
      "cell_type": "markdown",
      "source": [
        "### Purchase event modeling"
      ],
      "metadata": {
        "id": "DaPLehjTGZ73"
      }
    },
    {
      "cell_type": "code",
      "source": [
        "events.info()"
      ],
      "metadata": {
        "colab": {
          "base_uri": "https://localhost:8080/"
        },
        "id": "5S_NwwczJt06",
        "outputId": "dda08800-4bf5-4fc1-c0de-16162c796979"
      },
      "execution_count": null,
      "outputs": [
        {
          "output_type": "stream",
          "name": "stdout",
          "text": [
            "<class 'pandas.core.frame.DataFrame'>\n",
            "RangeIndex: 1300964 entries, 0 to 1300963\n",
            "Data columns (total 10 columns):\n",
            " #   Column          Non-Null Count    Dtype \n",
            "---  ------          --------------    ----- \n",
            " 0   id              1300964 non-null  Int64 \n",
            " 1   user_id         1300964 non-null  Int64 \n",
            " 2   ip_address      1300964 non-null  object\n",
            " 3   browser         1300964 non-null  object\n",
            " 4   traffic_source  1300964 non-null  object\n",
            " 5   event_type      1300964 non-null  object\n",
            " 6   age             1300964 non-null  Int64 \n",
            " 7   gender          1300964 non-null  object\n",
            " 8   country         1300964 non-null  object\n",
            " 9   purchase        1300964 non-null  int64 \n",
            "dtypes: Int64(3), int64(1), object(6)\n",
            "memory usage: 103.0+ MB\n"
          ]
        }
      ]
    },
    {
      "cell_type": "code",
      "source": [
        "events['gender'] = events['gender'].map({'F':0, 'M':1})"
      ],
      "metadata": {
        "id": "EUhwmxeWJ65p"
      },
      "execution_count": null,
      "outputs": []
    },
    {
      "cell_type": "code",
      "source": [
        "Gmap = {'Australia':1,'Belgium':2, 'Brasil':3, 'China':4, 'Colombia':5, 'España':6, 'France':7, 'Germany':8, 'Japan':9, 'Poland':10, 'South Korea':11, 'Spain':12, 'United Kingdom':13, 'United States':14, 'Austria':15}"
      ],
      "metadata": {
        "id": "yeE3tW_pLBLc"
      },
      "execution_count": null,
      "outputs": []
    },
    {
      "cell_type": "code",
      "source": [
        "events['country'] = events['country'].map(Gmap)"
      ],
      "metadata": {
        "id": "rmerFqo7NFxA"
      },
      "execution_count": null,
      "outputs": []
    },
    {
      "cell_type": "code",
      "source": [
        "Tmap = {'Email':1, 'Adwords':2, 'Organic':3, 'YouTube':4, 'Facebook':5}"
      ],
      "metadata": {
        "id": "OXVPC1IBJ8za"
      },
      "execution_count": null,
      "outputs": []
    },
    {
      "cell_type": "code",
      "source": [
        "events['traffic_source'] = events['traffic_source'].map(Tmap)"
      ],
      "metadata": {
        "id": "n9Ic8MZkKPmL"
      },
      "execution_count": null,
      "outputs": []
    },
    {
      "cell_type": "code",
      "source": [
        "Bmap = {'Chrome':1, 'Firefox':2, 'IE':3, 'Other':4, 'Safari':5}"
      ],
      "metadata": {
        "id": "3kih05c2OQfj"
      },
      "execution_count": null,
      "outputs": []
    },
    {
      "cell_type": "code",
      "source": [
        "events['browser'] = events['browser'].map(Bmap)"
      ],
      "metadata": {
        "id": "K8xkLFnPOqnL"
      },
      "execution_count": null,
      "outputs": []
    },
    {
      "cell_type": "code",
      "source": [
        "from sklearn.model_selection import train_test_split"
      ],
      "metadata": {
        "id": "hl9Qxat7Gf7J"
      },
      "execution_count": null,
      "outputs": []
    },
    {
      "cell_type": "code",
      "source": [
        "X = events[['age', 'gender', 'country', 'browser', 'traffic_source']]\n",
        "y = events['purchase']"
      ],
      "metadata": {
        "id": "Qn9dJtk6G3BI"
      },
      "execution_count": null,
      "outputs": []
    },
    {
      "cell_type": "code",
      "source": [
        "X_train, X_test, y_train, y_test = train_test_split(X, y, test_size=0.30)"
      ],
      "metadata": {
        "id": "NUWbDqdsG3Po"
      },
      "execution_count": null,
      "outputs": []
    },
    {
      "cell_type": "code",
      "source": [
        "X_train.shape"
      ],
      "metadata": {
        "colab": {
          "base_uri": "https://localhost:8080/"
        },
        "id": "jCS0Coz2HaBl",
        "outputId": "48a657e4-162d-478b-fa04-dda5d4652160"
      },
      "execution_count": null,
      "outputs": [
        {
          "output_type": "execute_result",
          "data": {
            "text/plain": [
              "(910674, 5)"
            ]
          },
          "metadata": {},
          "execution_count": 142
        }
      ]
    },
    {
      "cell_type": "code",
      "source": [
        "from sklearn.ensemble import RandomForestClassifier, GradientBoostingClassifier"
      ],
      "metadata": {
        "id": "G3rvuU7nG3e_"
      },
      "execution_count": null,
      "outputs": []
    },
    {
      "cell_type": "code",
      "source": [
        "rfc = RandomForestClassifier(n_estimators=1000, criterion=\"gini\", max_depth=100, min_samples_split=2,min_samples_leaf=3)"
      ],
      "metadata": {
        "id": "yMA8VbGQG3rp"
      },
      "execution_count": null,
      "outputs": []
    },
    {
      "cell_type": "code",
      "source": [
        "gbc = GradientBoostingClassifier()"
      ],
      "metadata": {
        "id": "hm8vhDc0G35y"
      },
      "execution_count": null,
      "outputs": []
    },
    {
      "cell_type": "code",
      "source": [
        "# fit random forest model\n",
        "\n",
        "rfc.fit(X_train, y_train)"
      ],
      "metadata": {
        "colab": {
          "base_uri": "https://localhost:8080/",
          "height": 75
        },
        "id": "pbGMh3KMG4Gd",
        "outputId": "704eca77-b12b-4fe2-a561-9aa1d36c84e4"
      },
      "execution_count": null,
      "outputs": [
        {
          "output_type": "execute_result",
          "data": {
            "text/plain": [
              "RandomForestClassifier(max_depth=100, min_samples_leaf=3, n_estimators=1000)"
            ],
            "text/html": [
              "<style>#sk-container-id-1 {color: black;background-color: white;}#sk-container-id-1 pre{padding: 0;}#sk-container-id-1 div.sk-toggleable {background-color: white;}#sk-container-id-1 label.sk-toggleable__label {cursor: pointer;display: block;width: 100%;margin-bottom: 0;padding: 0.3em;box-sizing: border-box;text-align: center;}#sk-container-id-1 label.sk-toggleable__label-arrow:before {content: \"▸\";float: left;margin-right: 0.25em;color: #696969;}#sk-container-id-1 label.sk-toggleable__label-arrow:hover:before {color: black;}#sk-container-id-1 div.sk-estimator:hover label.sk-toggleable__label-arrow:before {color: black;}#sk-container-id-1 div.sk-toggleable__content {max-height: 0;max-width: 0;overflow: hidden;text-align: left;background-color: #f0f8ff;}#sk-container-id-1 div.sk-toggleable__content pre {margin: 0.2em;color: black;border-radius: 0.25em;background-color: #f0f8ff;}#sk-container-id-1 input.sk-toggleable__control:checked~div.sk-toggleable__content {max-height: 200px;max-width: 100%;overflow: auto;}#sk-container-id-1 input.sk-toggleable__control:checked~label.sk-toggleable__label-arrow:before {content: \"▾\";}#sk-container-id-1 div.sk-estimator input.sk-toggleable__control:checked~label.sk-toggleable__label {background-color: #d4ebff;}#sk-container-id-1 div.sk-label input.sk-toggleable__control:checked~label.sk-toggleable__label {background-color: #d4ebff;}#sk-container-id-1 input.sk-hidden--visually {border: 0;clip: rect(1px 1px 1px 1px);clip: rect(1px, 1px, 1px, 1px);height: 1px;margin: -1px;overflow: hidden;padding: 0;position: absolute;width: 1px;}#sk-container-id-1 div.sk-estimator {font-family: monospace;background-color: #f0f8ff;border: 1px dotted black;border-radius: 0.25em;box-sizing: border-box;margin-bottom: 0.5em;}#sk-container-id-1 div.sk-estimator:hover {background-color: #d4ebff;}#sk-container-id-1 div.sk-parallel-item::after {content: \"\";width: 100%;border-bottom: 1px solid gray;flex-grow: 1;}#sk-container-id-1 div.sk-label:hover label.sk-toggleable__label {background-color: #d4ebff;}#sk-container-id-1 div.sk-serial::before {content: \"\";position: absolute;border-left: 1px solid gray;box-sizing: border-box;top: 0;bottom: 0;left: 50%;z-index: 0;}#sk-container-id-1 div.sk-serial {display: flex;flex-direction: column;align-items: center;background-color: white;padding-right: 0.2em;padding-left: 0.2em;position: relative;}#sk-container-id-1 div.sk-item {position: relative;z-index: 1;}#sk-container-id-1 div.sk-parallel {display: flex;align-items: stretch;justify-content: center;background-color: white;position: relative;}#sk-container-id-1 div.sk-item::before, #sk-container-id-1 div.sk-parallel-item::before {content: \"\";position: absolute;border-left: 1px solid gray;box-sizing: border-box;top: 0;bottom: 0;left: 50%;z-index: -1;}#sk-container-id-1 div.sk-parallel-item {display: flex;flex-direction: column;z-index: 1;position: relative;background-color: white;}#sk-container-id-1 div.sk-parallel-item:first-child::after {align-self: flex-end;width: 50%;}#sk-container-id-1 div.sk-parallel-item:last-child::after {align-self: flex-start;width: 50%;}#sk-container-id-1 div.sk-parallel-item:only-child::after {width: 0;}#sk-container-id-1 div.sk-dashed-wrapped {border: 1px dashed gray;margin: 0 0.4em 0.5em 0.4em;box-sizing: border-box;padding-bottom: 0.4em;background-color: white;}#sk-container-id-1 div.sk-label label {font-family: monospace;font-weight: bold;display: inline-block;line-height: 1.2em;}#sk-container-id-1 div.sk-label-container {text-align: center;}#sk-container-id-1 div.sk-container {/* jupyter's `normalize.less` sets `[hidden] { display: none; }` but bootstrap.min.css set `[hidden] { display: none !important; }` so we also need the `!important` here to be able to override the default hidden behavior on the sphinx rendered scikit-learn.org. See: https://github.com/scikit-learn/scikit-learn/issues/21755 */display: inline-block !important;position: relative;}#sk-container-id-1 div.sk-text-repr-fallback {display: none;}</style><div id=\"sk-container-id-1\" class=\"sk-top-container\"><div class=\"sk-text-repr-fallback\"><pre>RandomForestClassifier(max_depth=100, min_samples_leaf=3, n_estimators=1000)</pre><b>In a Jupyter environment, please rerun this cell to show the HTML representation or trust the notebook. <br />On GitHub, the HTML representation is unable to render, please try loading this page with nbviewer.org.</b></div><div class=\"sk-container\" hidden><div class=\"sk-item\"><div class=\"sk-estimator sk-toggleable\"><input class=\"sk-toggleable__control sk-hidden--visually\" id=\"sk-estimator-id-1\" type=\"checkbox\" checked><label for=\"sk-estimator-id-1\" class=\"sk-toggleable__label sk-toggleable__label-arrow\">RandomForestClassifier</label><div class=\"sk-toggleable__content\"><pre>RandomForestClassifier(max_depth=100, min_samples_leaf=3, n_estimators=1000)</pre></div></div></div></div></div>"
            ]
          },
          "metadata": {},
          "execution_count": 146
        }
      ]
    },
    {
      "cell_type": "code",
      "source": [
        "# for gradient boosting model\n",
        "\n",
        "gbc.fit(X_train, y_train)"
      ],
      "metadata": {
        "id": "kdm4xRF3ID5k",
        "colab": {
          "base_uri": "https://localhost:8080/",
          "height": 75
        },
        "outputId": "94df9149-0f04-4129-f6fc-f3ddb7dd4ea6"
      },
      "execution_count": null,
      "outputs": [
        {
          "output_type": "execute_result",
          "data": {
            "text/plain": [
              "GradientBoostingClassifier()"
            ],
            "text/html": [
              "<style>#sk-container-id-2 {color: black;background-color: white;}#sk-container-id-2 pre{padding: 0;}#sk-container-id-2 div.sk-toggleable {background-color: white;}#sk-container-id-2 label.sk-toggleable__label {cursor: pointer;display: block;width: 100%;margin-bottom: 0;padding: 0.3em;box-sizing: border-box;text-align: center;}#sk-container-id-2 label.sk-toggleable__label-arrow:before {content: \"▸\";float: left;margin-right: 0.25em;color: #696969;}#sk-container-id-2 label.sk-toggleable__label-arrow:hover:before {color: black;}#sk-container-id-2 div.sk-estimator:hover label.sk-toggleable__label-arrow:before {color: black;}#sk-container-id-2 div.sk-toggleable__content {max-height: 0;max-width: 0;overflow: hidden;text-align: left;background-color: #f0f8ff;}#sk-container-id-2 div.sk-toggleable__content pre {margin: 0.2em;color: black;border-radius: 0.25em;background-color: #f0f8ff;}#sk-container-id-2 input.sk-toggleable__control:checked~div.sk-toggleable__content {max-height: 200px;max-width: 100%;overflow: auto;}#sk-container-id-2 input.sk-toggleable__control:checked~label.sk-toggleable__label-arrow:before {content: \"▾\";}#sk-container-id-2 div.sk-estimator input.sk-toggleable__control:checked~label.sk-toggleable__label {background-color: #d4ebff;}#sk-container-id-2 div.sk-label input.sk-toggleable__control:checked~label.sk-toggleable__label {background-color: #d4ebff;}#sk-container-id-2 input.sk-hidden--visually {border: 0;clip: rect(1px 1px 1px 1px);clip: rect(1px, 1px, 1px, 1px);height: 1px;margin: -1px;overflow: hidden;padding: 0;position: absolute;width: 1px;}#sk-container-id-2 div.sk-estimator {font-family: monospace;background-color: #f0f8ff;border: 1px dotted black;border-radius: 0.25em;box-sizing: border-box;margin-bottom: 0.5em;}#sk-container-id-2 div.sk-estimator:hover {background-color: #d4ebff;}#sk-container-id-2 div.sk-parallel-item::after {content: \"\";width: 100%;border-bottom: 1px solid gray;flex-grow: 1;}#sk-container-id-2 div.sk-label:hover label.sk-toggleable__label {background-color: #d4ebff;}#sk-container-id-2 div.sk-serial::before {content: \"\";position: absolute;border-left: 1px solid gray;box-sizing: border-box;top: 0;bottom: 0;left: 50%;z-index: 0;}#sk-container-id-2 div.sk-serial {display: flex;flex-direction: column;align-items: center;background-color: white;padding-right: 0.2em;padding-left: 0.2em;position: relative;}#sk-container-id-2 div.sk-item {position: relative;z-index: 1;}#sk-container-id-2 div.sk-parallel {display: flex;align-items: stretch;justify-content: center;background-color: white;position: relative;}#sk-container-id-2 div.sk-item::before, #sk-container-id-2 div.sk-parallel-item::before {content: \"\";position: absolute;border-left: 1px solid gray;box-sizing: border-box;top: 0;bottom: 0;left: 50%;z-index: -1;}#sk-container-id-2 div.sk-parallel-item {display: flex;flex-direction: column;z-index: 1;position: relative;background-color: white;}#sk-container-id-2 div.sk-parallel-item:first-child::after {align-self: flex-end;width: 50%;}#sk-container-id-2 div.sk-parallel-item:last-child::after {align-self: flex-start;width: 50%;}#sk-container-id-2 div.sk-parallel-item:only-child::after {width: 0;}#sk-container-id-2 div.sk-dashed-wrapped {border: 1px dashed gray;margin: 0 0.4em 0.5em 0.4em;box-sizing: border-box;padding-bottom: 0.4em;background-color: white;}#sk-container-id-2 div.sk-label label {font-family: monospace;font-weight: bold;display: inline-block;line-height: 1.2em;}#sk-container-id-2 div.sk-label-container {text-align: center;}#sk-container-id-2 div.sk-container {/* jupyter's `normalize.less` sets `[hidden] { display: none; }` but bootstrap.min.css set `[hidden] { display: none !important; }` so we also need the `!important` here to be able to override the default hidden behavior on the sphinx rendered scikit-learn.org. See: https://github.com/scikit-learn/scikit-learn/issues/21755 */display: inline-block !important;position: relative;}#sk-container-id-2 div.sk-text-repr-fallback {display: none;}</style><div id=\"sk-container-id-2\" class=\"sk-top-container\"><div class=\"sk-text-repr-fallback\"><pre>GradientBoostingClassifier()</pre><b>In a Jupyter environment, please rerun this cell to show the HTML representation or trust the notebook. <br />On GitHub, the HTML representation is unable to render, please try loading this page with nbviewer.org.</b></div><div class=\"sk-container\" hidden><div class=\"sk-item\"><div class=\"sk-estimator sk-toggleable\"><input class=\"sk-toggleable__control sk-hidden--visually\" id=\"sk-estimator-id-2\" type=\"checkbox\" checked><label for=\"sk-estimator-id-2\" class=\"sk-toggleable__label sk-toggleable__label-arrow\">GradientBoostingClassifier</label><div class=\"sk-toggleable__content\"><pre>GradientBoostingClassifier()</pre></div></div></div></div></div>"
            ]
          },
          "metadata": {},
          "execution_count": 147
        }
      ]
    },
    {
      "cell_type": "code",
      "source": [
        "rfc_pred = rfc.predict(X_test)"
      ],
      "metadata": {
        "id": "b8RVTPc9IEHD"
      },
      "execution_count": null,
      "outputs": []
    },
    {
      "cell_type": "code",
      "source": [
        "gbc_pred = gbc.predict(X_test)"
      ],
      "metadata": {
        "id": "BRhqZ0N4IEWX"
      },
      "execution_count": null,
      "outputs": []
    },
    {
      "cell_type": "code",
      "source": [
        "from sklearn.metrics import classification_report,confusion_matrix"
      ],
      "metadata": {
        "id": "yJGaC5hKIOBO"
      },
      "execution_count": null,
      "outputs": []
    },
    {
      "cell_type": "code",
      "source": [
        "# random forest confusion matrix\n",
        "\n",
        "print(confusion_matrix(y_test,rfc_pred))"
      ],
      "metadata": {
        "id": "Te6qpN5AIORs",
        "colab": {
          "base_uri": "https://localhost:8080/"
        },
        "outputId": "1f35b005-fb33-4c62-f1fe-8014566f2c52"
      },
      "execution_count": null,
      "outputs": [
        {
          "output_type": "stream",
          "name": "stdout",
          "text": [
            "[[335909      0]\n",
            " [ 54381      0]]\n"
          ]
        }
      ]
    },
    {
      "cell_type": "code",
      "source": [
        "# gradient boosting confusion matrix\n",
        "\n",
        "print(confusion_matrix(y_test,gbc_pred))"
      ],
      "metadata": {
        "id": "GDH7kl6eIOfp",
        "colab": {
          "base_uri": "https://localhost:8080/"
        },
        "outputId": "c453ac9d-093b-4700-c6ca-4362b817c0ad"
      },
      "execution_count": null,
      "outputs": [
        {
          "output_type": "stream",
          "name": "stdout",
          "text": [
            "[[335909      0]\n",
            " [ 54381      0]]\n"
          ]
        }
      ]
    },
    {
      "cell_type": "code",
      "source": [
        "# random forest report\n",
        "\n",
        "print(classification_report(y_test,rfc_pred))"
      ],
      "metadata": {
        "id": "-rVpwOguIOtW",
        "colab": {
          "base_uri": "https://localhost:8080/"
        },
        "outputId": "1871afcc-2cd3-480d-d106-94ff4c214cd3"
      },
      "execution_count": null,
      "outputs": [
        {
          "output_type": "stream",
          "name": "stderr",
          "text": [
            "/usr/local/lib/python3.9/dist-packages/sklearn/metrics/_classification.py:1344: UndefinedMetricWarning: Precision and F-score are ill-defined and being set to 0.0 in labels with no predicted samples. Use `zero_division` parameter to control this behavior.\n",
            "  _warn_prf(average, modifier, msg_start, len(result))\n"
          ]
        },
        {
          "output_type": "stream",
          "name": "stdout",
          "text": [
            "              precision    recall  f1-score   support\n",
            "\n",
            "           0       0.86      1.00      0.93    335909\n",
            "           1       0.00      0.00      0.00     54381\n",
            "\n",
            "    accuracy                           0.86    390290\n",
            "   macro avg       0.43      0.50      0.46    390290\n",
            "weighted avg       0.74      0.86      0.80    390290\n",
            "\n"
          ]
        },
        {
          "output_type": "stream",
          "name": "stderr",
          "text": [
            "/usr/local/lib/python3.9/dist-packages/sklearn/metrics/_classification.py:1344: UndefinedMetricWarning: Precision and F-score are ill-defined and being set to 0.0 in labels with no predicted samples. Use `zero_division` parameter to control this behavior.\n",
            "  _warn_prf(average, modifier, msg_start, len(result))\n",
            "/usr/local/lib/python3.9/dist-packages/sklearn/metrics/_classification.py:1344: UndefinedMetricWarning: Precision and F-score are ill-defined and being set to 0.0 in labels with no predicted samples. Use `zero_division` parameter to control this behavior.\n",
            "  _warn_prf(average, modifier, msg_start, len(result))\n"
          ]
        }
      ]
    },
    {
      "cell_type": "code",
      "source": [
        "# gradient boosting report\n",
        "\n",
        "print(classification_report(y_test,gbc_pred))"
      ],
      "metadata": {
        "id": "K40hYdWcIPL8",
        "colab": {
          "base_uri": "https://localhost:8080/"
        },
        "outputId": "e7bc2e0b-211e-4d33-b98a-ea94a1e54351"
      },
      "execution_count": null,
      "outputs": [
        {
          "output_type": "stream",
          "name": "stderr",
          "text": [
            "/usr/local/lib/python3.9/dist-packages/sklearn/metrics/_classification.py:1344: UndefinedMetricWarning: Precision and F-score are ill-defined and being set to 0.0 in labels with no predicted samples. Use `zero_division` parameter to control this behavior.\n",
            "  _warn_prf(average, modifier, msg_start, len(result))\n"
          ]
        },
        {
          "output_type": "stream",
          "name": "stdout",
          "text": [
            "              precision    recall  f1-score   support\n",
            "\n",
            "           0       0.86      1.00      0.93    335909\n",
            "           1       0.00      0.00      0.00     54381\n",
            "\n",
            "    accuracy                           0.86    390290\n",
            "   macro avg       0.43      0.50      0.46    390290\n",
            "weighted avg       0.74      0.86      0.80    390290\n",
            "\n"
          ]
        },
        {
          "output_type": "stream",
          "name": "stderr",
          "text": [
            "/usr/local/lib/python3.9/dist-packages/sklearn/metrics/_classification.py:1344: UndefinedMetricWarning: Precision and F-score are ill-defined and being set to 0.0 in labels with no predicted samples. Use `zero_division` parameter to control this behavior.\n",
            "  _warn_prf(average, modifier, msg_start, len(result))\n",
            "/usr/local/lib/python3.9/dist-packages/sklearn/metrics/_classification.py:1344: UndefinedMetricWarning: Precision and F-score are ill-defined and being set to 0.0 in labels with no predicted samples. Use `zero_division` parameter to control this behavior.\n",
            "  _warn_prf(average, modifier, msg_start, len(result))\n"
          ]
        }
      ]
    },
    {
      "cell_type": "code",
      "source": [
        "import numpy as np\n",
        "importances = rfc.feature_importances_\n",
        "indices = np.argsort(importances)\n",
        "Features = X_train.columns\n",
        "Features"
      ],
      "metadata": {
        "id": "tPp_leV7IPXc",
        "colab": {
          "base_uri": "https://localhost:8080/"
        },
        "outputId": "2da8b6d7-267f-4667-cf9b-e09f8c7f0bbb"
      },
      "execution_count": null,
      "outputs": [
        {
          "output_type": "execute_result",
          "data": {
            "text/plain": [
              "Index(['age', 'gender', 'country', 'browser', 'traffic_source'], dtype='object')"
            ]
          },
          "metadata": {},
          "execution_count": 155
        }
      ]
    },
    {
      "cell_type": "code",
      "source": [
        "plt.title('Feature Importances')\n",
        "import matplotlib.pyplot as plt\n",
        "plt.title('Feature Importances')\n",
        "plt.barh(range(len(indices)), importances[indices], color='b', align='center')\n",
        "plt.yticks(range(len(indices)), [Features[i] for i in indices])\n",
        "plt.xlabel('Relative Importance')\n",
        "plt.show()"
      ],
      "metadata": {
        "colab": {
          "base_uri": "https://localhost:8080/",
          "height": 472
        },
        "id": "bGDOPz_FNaJt",
        "outputId": "ae28ac61-6661-426d-8f79-644ca4d6b8ef"
      },
      "execution_count": null,
      "outputs": [
        {
          "output_type": "display_data",
          "data": {
            "text/plain": [
              "<Figure size 640x480 with 1 Axes>"
            ],
            "image/png": "[encoded data removed]"
          },
          "metadata": {}
        }
      ]
    }
  ]
}