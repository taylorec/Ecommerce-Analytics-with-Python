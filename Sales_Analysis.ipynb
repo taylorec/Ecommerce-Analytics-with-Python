{
  "cells": [
    {
      "cell_type": "markdown",
      "metadata": {
        "id": "view-in-github",
        "colab_type": "text"
      },
      "source": [
        "<a href=\"https://colab.research.google.com/github/taylorec/Ecommerce-Analytics-with-Python/blob/main/Sales_Analysis.ipynb\" target=\"_parent\"><img src=\"https://colab.research.google.com/assets/colab-badge.svg\" alt=\"Open In Colab\"/></a>"
      ]
    },
    {
      "cell_type": "markdown",
      "source": [
        "Google BigQuery - thelook_ecommerce database\n",
        "> Tables: distribution_centers, events, inventory_items, order_items, orders, products and users\n",
        "\n",
        "> Objective of this file: gather data from the orders, users, order_items and products tables into a dataframe to explore the features listed below and to find insights into customer demand.\n",
        "\n",
        "        order id,\n",
        "        user id,\n",
        "        ship to country,\n",
        "        customer age,\n",
        "        customer gender,\n",
        "        product id,\n",
        "        product sales price,\n",
        "        order shipped from DC\n",
        "        product cost,\n",
        "        product category,\n",
        "        product department,\n",
        "        product profit margin\n",
        "\n",
        "> Isights: \n",
        " >> Sales grown linearly from 2019 to 2022 and exponentially in 2023.\n",
        "\n",
        " >> There is no correlation between customer age and sales volume.\n",
        "\n",
        " >> Blazers & Jackets have the highest profit margins in the clothing category at 62% while Socks have the lowest at 40%.\n",
        "\n",
        " >> Orders shipping out of the Texas DC have the highest profit margins at 53.2% while the South Carolina DC is the lowest at 50.4%. \n",
        "\n",
        "> Google Data Studio Dashboard link: https://lookerstudio.google.com/s/kyP95m64-NY\n"
      ],
      "metadata": {
        "id": "jF7J54mgZk4w"
      }
    },
    {
      "cell_type": "code",
      "execution_count": null,
      "metadata": {
        "colab": {
          "base_uri": "https://localhost:8080/"
        },
        "id": "27TEjEEqY_bN",
        "outputId": "fd2f6b23-7390-433a-db50-8c09c7cadc8e"
      },
      "outputs": [
        {
          "output_type": "stream",
          "name": "stdout",
          "text": [
            "Authenticated\n"
          ]
        }
      ],
      "source": [
        "from google.colab import auth\n",
        "auth.authenticate_user()\n",
        "print('Authenticated')"
      ]
    },
    {
      "cell_type": "code",
      "execution_count": null,
      "metadata": {
        "id": "4Twc20CrZJgB"
      },
      "outputs": [],
      "source": [
        "%load_ext google.colab.data_table"
      ]
    },
    {
      "cell_type": "code",
      "execution_count": null,
      "metadata": {
        "id": "-xlyaGAuZLUg"
      },
      "outputs": [],
      "source": [
        "project_id = 'sixth-flag-316719'"
      ]
    },
    {
      "cell_type": "code",
      "execution_count": null,
      "metadata": {
        "id": "mFI5xlldZNgt"
      },
      "outputs": [],
      "source": [
        "from google.cloud import bigquery\n",
        " \n",
        "client = bigquery.Client(project=project_id)"
      ]
    },
    {
      "cell_type": "code",
      "execution_count": null,
      "metadata": {
        "id": "H4bEEGi9ZPYG"
      },
      "outputs": [],
      "source": [
        "dc = client.query('''\n",
        "SELECT \n",
        "        *\n",
        "FROM\n",
        "        `bigquery-public-data.thelook_ecommerce.distribution_centers`\n",
        "''' ).to_dataframe()"
      ]
    },
    {
      "cell_type": "code",
      "execution_count": null,
      "metadata": {
        "id": "Zf6FpQPNZV0S",
        "colab": {
          "base_uri": "https://localhost:8080/",
          "height": 305
        },
        "outputId": "5f3ca16d-c45f-4ebb-e75f-68251a101f39"
      },
      "outputs": [
        {
          "output_type": "execute_result",
          "data": {
            "text/plain": [
              "   id                                         name  latitude  longitude\n",
              "0   1                                   Memphis TN   35.1174   -89.9711\n",
              "1   2                                   Chicago IL   41.8369   -87.6847\n",
              "2   3                                   Houston TX   29.7604   -95.3698\n",
              "3   4                               Los Angeles CA   34.0500  -118.2500\n",
              "4   5                               New Orleans LA   29.9500   -90.0667\n",
              "5   6  Port Authority of New York/New Jersey NY/NJ   40.6340   -73.7834\n",
              "6   7                              Philadelphia PA   39.9500   -75.1667\n",
              "7   8                                    Mobile AL   30.6944   -88.0431\n",
              "8   9                                Charleston SC   32.7833   -79.9333\n",
              "9  10                                  Savannah GA   32.0167   -81.1167"
            ],
            "text/html": [
              "\n",
              "  <div id=\"df-599cb98a-bf2d-4150-a6f4-7d163f0c7e13\">\n",
              "    <div class=\"colab-df-container\">\n",
              "      <div>\n",
              "<style scoped>\n",
              "    .dataframe tbody tr th:only-of-type {\n",
              "        vertical-align: middle;\n",
              "    }\n",
              "\n",
              "    .dataframe tbody tr th {\n",
              "        vertical-align: top;\n",
              "    }\n",
              "\n",
              "    .dataframe thead th {\n",
              "        text-align: right;\n",
              "    }\n",
              "</style>\n",
              "<table border=\"1\" class=\"dataframe\">\n",
              "  <thead>\n",
              "    <tr style=\"text-align: right;\">\n",
              "      <th></th>\n",
              "      <th>id</th>\n",
              "      <th>name</th>\n",
              "      <th>latitude</th>\n",
              "      <th>longitude</th>\n",
              "    </tr>\n",
              "  </thead>\n",
              "  <tbody>\n",
              "    <tr>\n",
              "      <th>0</th>\n",
              "      <td>1</td>\n",
              "      <td>Memphis TN</td>\n",
              "      <td>35.1174</td>\n",
              "      <td>-89.9711</td>\n",
              "    </tr>\n",
              "    <tr>\n",
              "      <th>1</th>\n",
              "      <td>2</td>\n",
              "      <td>Chicago IL</td>\n",
              "      <td>41.8369</td>\n",
              "      <td>-87.6847</td>\n",
              "    </tr>\n",
              "    <tr>\n",
              "      <th>2</th>\n",
              "      <td>3</td>\n",
              "      <td>Houston TX</td>\n",
              "      <td>29.7604</td>\n",
              "      <td>-95.3698</td>\n",
              "    </tr>\n",
              "    <tr>\n",
              "      <th>3</th>\n",
              "      <td>4</td>\n",
              "      <td>Los Angeles CA</td>\n",
              "      <td>34.0500</td>\n",
              "      <td>-118.2500</td>\n",
              "    </tr>\n",
              "    <tr>\n",
              "      <th>4</th>\n",
              "      <td>5</td>\n",
              "      <td>New Orleans LA</td>\n",
              "      <td>29.9500</td>\n",
              "      <td>-90.0667</td>\n",
              "    </tr>\n",
              "    <tr>\n",
              "      <th>5</th>\n",
              "      <td>6</td>\n",
              "      <td>Port Authority of New York/New Jersey NY/NJ</td>\n",
              "      <td>40.6340</td>\n",
              "      <td>-73.7834</td>\n",
              "    </tr>\n",
              "    <tr>\n",
              "      <th>6</th>\n",
              "      <td>7</td>\n",
              "      <td>Philadelphia PA</td>\n",
              "      <td>39.9500</td>\n",
              "      <td>-75.1667</td>\n",
              "    </tr>\n",
              "    <tr>\n",
              "      <th>7</th>\n",
              "      <td>8</td>\n",
              "      <td>Mobile AL</td>\n",
              "      <td>30.6944</td>\n",
              "      <td>-88.0431</td>\n",
              "    </tr>\n",
              "    <tr>\n",
              "      <th>8</th>\n",
              "      <td>9</td>\n",
              "      <td>Charleston SC</td>\n",
              "      <td>32.7833</td>\n",
              "      <td>-79.9333</td>\n",
              "    </tr>\n",
              "    <tr>\n",
              "      <th>9</th>\n",
              "      <td>10</td>\n",
              "      <td>Savannah GA</td>\n",
              "      <td>32.0167</td>\n",
              "      <td>-81.1167</td>\n",
              "    </tr>\n",
              "  </tbody>\n",
              "</table>\n",
              "</div>\n",
              "      <button class=\"colab-df-convert\" onclick=\"convertToInteractive('df-599cb98a-bf2d-4150-a6f4-7d163f0c7e13')\"\n",
              "              title=\"Convert this dataframe to an interactive table.\"\n",
              "              style=\"display:none;\">\n",
              "        \n",
              "  <svg xmlns=\"http://www.w3.org/2000/svg\" height=\"24px\"viewBox=\"0 0 24 24\"\n",
              "       width=\"24px\">\n",
              "    <path d=\"M0 0h24v24H0V0z\" fill=\"none\"/>\n",
              "    <path d=\"M18.56 5.44l.94 2.06.94-2.06 2.06-.94-2.06-.94-.94-2.06-.94 2.06-2.06.94zm-11 1L8.5 8.5l.94-2.06 2.06-.94-2.06-.94L8.5 2.5l-.94 2.06-2.06.94zm10 10l.94 2.06.94-2.06 2.06-.94-2.06-.94-.94-2.06-.94 2.06-2.06.94z\"/><path d=\"M17.41 7.96l-1.37-1.37c-.4-.4-.92-.59-1.43-.59-.52 0-1.04.2-1.43.59L10.3 9.45l-7.72 7.72c-.78.78-.78 2.05 0 2.83L4 21.41c.39.39.9.59 1.41.59.51 0 1.02-.2 1.41-.59l7.78-7.78 2.81-2.81c.8-.78.8-2.07 0-2.86zM5.41 20L4 18.59l7.72-7.72 1.47 1.35L5.41 20z\"/>\n",
              "  </svg>\n",
              "      </button>\n",
              "      \n",
              "  <style>\n",
              "    .colab-df-container {\n",
              "      display:flex;\n",
              "      flex-wrap:wrap;\n",
              "      gap: 12px;\n",
              "    }\n",
              "\n",
              "    .colab-df-convert {\n",
              "      background-color: #E8F0FE;\n",
              "      border: none;\n",
              "      border-radius: 50%;\n",
              "      cursor: pointer;\n",
              "      display: none;\n",
              "      fill: #1967D2;\n",
              "      height: 32px;\n",
              "      padding: 0 0 0 0;\n",
              "      width: 32px;\n",
              "    }\n",
              "\n",
              "    .colab-df-convert:hover {\n",
              "      background-color: #E2EBFA;\n",
              "      box-shadow: 0px 1px 2px rgba(60, 64, 67, 0.3), 0px 1px 3px 1px rgba(60, 64, 67, 0.15);\n",
              "      fill: #174EA6;\n",
              "    }\n",
              "\n",
              "    [theme=dark] .colab-df-convert {\n",
              "      background-color: #3B4455;\n",
              "      fill: #D2E3FC;\n",
              "    }\n",
              "\n",
              "    [theme=dark] .colab-df-convert:hover {\n",
              "      background-color: #434B5C;\n",
              "      box-shadow: 0px 1px 3px 1px rgba(0, 0, 0, 0.15);\n",
              "      filter: drop-shadow(0px 1px 2px rgba(0, 0, 0, 0.3));\n",
              "      fill: #FFFFFF;\n",
              "    }\n",
              "  </style>\n",
              "\n",
              "      <script>\n",
              "        const buttonEl =\n",
              "          document.querySelector('#df-599cb98a-bf2d-4150-a6f4-7d163f0c7e13 button.colab-df-convert');\n",
              "        buttonEl.style.display =\n",
              "          google.colab.kernel.accessAllowed ? 'block' : 'none';\n",
              "\n",
              "        async function convertToInteractive(key) {\n",
              "          const element = document.querySelector('#df-599cb98a-bf2d-4150-a6f4-7d163f0c7e13');\n",
              "          const dataTable =\n",
              "            await google.colab.kernel.invokeFunction('convertToInteractive',\n",
              "                                                     [key], {});\n",
              "          if (!dataTable) return;\n",
              "\n",
              "          const docLinkHtml = 'Like what you see? Visit the ' +\n",
              "            '<a target=\"_blank\" href=https://colab.research.google.com/notebooks/data_table.ipynb>data table notebook</a>'\n",
              "            + ' to learn more about interactive tables.';\n",
              "          element.innerHTML = '';\n",
              "          dataTable['output_type'] = 'display_data';\n",
              "          await google.colab.output.renderOutput(dataTable, element);\n",
              "          const docLink = document.createElement('div');\n",
              "          docLink.innerHTML = docLinkHtml;\n",
              "          element.appendChild(docLink);\n",
              "        }\n",
              "      </script>\n",
              "    </div>\n",
              "  </div>\n",
              "  "
            ],
            "application/vnd.google.colaboratory.module+javascript": "\n      import \"https://ssl.gstatic.com/colaboratory/data_table/99dac6621f6ae8c4/data_table.js\";\n\n      window.createDataTable({\n        data: [[{\n            'v': 0,\n            'f': \"0\",\n        },\n{\n            'v': 1,\n            'f': \"1\",\n        },\n\"Memphis TN\",\n{\n            'v': 35.1174,\n            'f': \"35.1174\",\n        },\n{\n            'v': -89.9711,\n            'f': \"-89.9711\",\n        }],\n [{\n            'v': 1,\n            'f': \"1\",\n        },\n{\n            'v': 2,\n            'f': \"2\",\n        },\n\"Chicago IL\",\n{\n            'v': 41.8369,\n            'f': \"41.8369\",\n        },\n{\n            'v': -87.6847,\n            'f': \"-87.6847\",\n        }],\n [{\n            'v': 2,\n            'f': \"2\",\n        },\n{\n            'v': 3,\n            'f': \"3\",\n        },\n\"Houston TX\",\n{\n            'v': 29.7604,\n            'f': \"29.7604\",\n        },\n{\n            'v': -95.3698,\n            'f': \"-95.3698\",\n        }],\n [{\n            'v': 3,\n            'f': \"3\",\n        },\n{\n            'v': 4,\n            'f': \"4\",\n        },\n\"Los Angeles CA\",\n{\n            'v': 34.05,\n            'f': \"34.05\",\n        },\n{\n            'v': -118.25,\n            'f': \"-118.25\",\n        }],\n [{\n            'v': 4,\n            'f': \"4\",\n        },\n{\n            'v': 5,\n            'f': \"5\",\n        },\n\"New Orleans LA\",\n{\n            'v': 29.95,\n            'f': \"29.95\",\n        },\n{\n            'v': -90.0667,\n            'f': \"-90.0667\",\n        }],\n [{\n            'v': 5,\n            'f': \"5\",\n        },\n{\n            'v': 6,\n            'f': \"6\",\n        },\n\"Port Authority of New York/New Jersey NY/NJ\",\n{\n            'v': 40.634,\n            'f': \"40.634\",\n        },\n{\n            'v': -73.7834,\n            'f': \"-73.7834\",\n        }],\n [{\n            'v': 6,\n            'f': \"6\",\n        },\n{\n            'v': 7,\n            'f': \"7\",\n        },\n\"Philadelphia PA\",\n{\n            'v': 39.95,\n            'f': \"39.95\",\n        },\n{\n            'v': -75.1667,\n            'f': \"-75.1667\",\n        }],\n [{\n            'v': 7,\n            'f': \"7\",\n        },\n{\n            'v': 8,\n            'f': \"8\",\n        },\n\"Mobile AL\",\n{\n            'v': 30.6944,\n            'f': \"30.6944\",\n        },\n{\n            'v': -88.0431,\n            'f': \"-88.0431\",\n        }],\n [{\n            'v': 8,\n            'f': \"8\",\n        },\n{\n            'v': 9,\n            'f': \"9\",\n        },\n\"Charleston SC\",\n{\n            'v': 32.7833,\n            'f': \"32.7833\",\n        },\n{\n            'v': -79.9333,\n            'f': \"-79.9333\",\n        }],\n [{\n            'v': 9,\n            'f': \"9\",\n        },\n{\n            'v': 10,\n            'f': \"10\",\n        },\n\"Savannah GA\",\n{\n            'v': 32.0167,\n            'f': \"32.0167\",\n        },\n{\n            'v': -81.1167,\n            'f': \"-81.1167\",\n        }]],\n        columns: [[\"number\", \"index\"], [\"number\", \"id\"], [\"string\", \"name\"], [\"number\", \"latitude\"], [\"number\", \"longitude\"]],\n        columnOptions: [{\"width\": \"1px\", \"className\": \"index_column\"}],\n        rowsPerPage: 25,\n        helpUrl: \"https://colab.research.google.com/notebooks/data_table.ipynb\",\n        suppressOutputScrolling: true,\n        minimumWidth: undefined,\n      });\n    "
          },
          "metadata": {},
          "execution_count": 6
        }
      ],
      "source": [
        "# Ecommerce Distribution Centers\n",
        "\n",
        "dc"
      ]
    },
    {
      "cell_type": "code",
      "source": [
        "dc['state'] = dc['name'].apply(lambda name: name[-2:])"
      ],
      "metadata": {
        "id": "3wvdf9Akg2m5"
      },
      "execution_count": null,
      "outputs": []
    },
    {
      "cell_type": "code",
      "source": [
        "dc"
      ],
      "metadata": {
        "colab": {
          "base_uri": "https://localhost:8080/",
          "height": 305
        },
        "id": "pp8YGb7GiZ2S",
        "outputId": "c6e9a3dd-0e4e-451f-c15b-574da62545d7"
      },
      "execution_count": null,
      "outputs": [
        {
          "output_type": "execute_result",
          "data": {
            "text/plain": [
              "   id                                         name  latitude  longitude state\n",
              "0   1                                   Memphis TN   35.1174   -89.9711    TN\n",
              "1   2                                   Chicago IL   41.8369   -87.6847    IL\n",
              "2   3                                   Houston TX   29.7604   -95.3698    TX\n",
              "3   4                               Los Angeles CA   34.0500  -118.2500    CA\n",
              "4   5                               New Orleans LA   29.9500   -90.0667    LA\n",
              "5   6  Port Authority of New York/New Jersey NY/NJ   40.6340   -73.7834    NJ\n",
              "6   7                              Philadelphia PA   39.9500   -75.1667    PA\n",
              "7   8                                    Mobile AL   30.6944   -88.0431    AL\n",
              "8   9                                Charleston SC   32.7833   -79.9333    SC\n",
              "9  10                                  Savannah GA   32.0167   -81.1167    GA"
            ],
            "text/html": [
              "\n",
              "  <div id=\"df-c7e35afc-4ee0-426b-9eaa-eec5d06533df\">\n",
              "    <div class=\"colab-df-container\">\n",
              "      <div>\n",
              "<style scoped>\n",
              "    .dataframe tbody tr th:only-of-type {\n",
              "        vertical-align: middle;\n",
              "    }\n",
              "\n",
              "    .dataframe tbody tr th {\n",
              "        vertical-align: top;\n",
              "    }\n",
              "\n",
              "    .dataframe thead th {\n",
              "        text-align: right;\n",
              "    }\n",
              "</style>\n",
              "<table border=\"1\" class=\"dataframe\">\n",
              "  <thead>\n",
              "    <tr style=\"text-align: right;\">\n",
              "      <th></th>\n",
              "      <th>id</th>\n",
              "      <th>name</th>\n",
              "      <th>latitude</th>\n",
              "      <th>longitude</th>\n",
              "      <th>state</th>\n",
              "    </tr>\n",
              "  </thead>\n",
              "  <tbody>\n",
              "    <tr>\n",
              "      <th>0</th>\n",
              "      <td>1</td>\n",
              "      <td>Memphis TN</td>\n",
              "      <td>35.1174</td>\n",
              "      <td>-89.9711</td>\n",
              "      <td>TN</td>\n",
              "    </tr>\n",
              "    <tr>\n",
              "      <th>1</th>\n",
              "      <td>2</td>\n",
              "      <td>Chicago IL</td>\n",
              "      <td>41.8369</td>\n",
              "      <td>-87.6847</td>\n",
              "      <td>IL</td>\n",
              "    </tr>\n",
              "    <tr>\n",
              "      <th>2</th>\n",
              "      <td>3</td>\n",
              "      <td>Houston TX</td>\n",
              "      <td>29.7604</td>\n",
              "      <td>-95.3698</td>\n",
              "      <td>TX</td>\n",
              "    </tr>\n",
              "    <tr>\n",
              "      <th>3</th>\n",
              "      <td>4</td>\n",
              "      <td>Los Angeles CA</td>\n",
              "      <td>34.0500</td>\n",
              "      <td>-118.2500</td>\n",
              "      <td>CA</td>\n",
              "    </tr>\n",
              "    <tr>\n",
              "      <th>4</th>\n",
              "      <td>5</td>\n",
              "      <td>New Orleans LA</td>\n",
              "      <td>29.9500</td>\n",
              "      <td>-90.0667</td>\n",
              "      <td>LA</td>\n",
              "    </tr>\n",
              "    <tr>\n",
              "      <th>5</th>\n",
              "      <td>6</td>\n",
              "      <td>Port Authority of New York/New Jersey NY/NJ</td>\n",
              "      <td>40.6340</td>\n",
              "      <td>-73.7834</td>\n",
              "      <td>NJ</td>\n",
              "    </tr>\n",
              "    <tr>\n",
              "      <th>6</th>\n",
              "      <td>7</td>\n",
              "      <td>Philadelphia PA</td>\n",
              "      <td>39.9500</td>\n",
              "      <td>-75.1667</td>\n",
              "      <td>PA</td>\n",
              "    </tr>\n",
              "    <tr>\n",
              "      <th>7</th>\n",
              "      <td>8</td>\n",
              "      <td>Mobile AL</td>\n",
              "      <td>30.6944</td>\n",
              "      <td>-88.0431</td>\n",
              "      <td>AL</td>\n",
              "    </tr>\n",
              "    <tr>\n",
              "      <th>8</th>\n",
              "      <td>9</td>\n",
              "      <td>Charleston SC</td>\n",
              "      <td>32.7833</td>\n",
              "      <td>-79.9333</td>\n",
              "      <td>SC</td>\n",
              "    </tr>\n",
              "    <tr>\n",
              "      <th>9</th>\n",
              "      <td>10</td>\n",
              "      <td>Savannah GA</td>\n",
              "      <td>32.0167</td>\n",
              "      <td>-81.1167</td>\n",
              "      <td>GA</td>\n",
              "    </tr>\n",
              "  </tbody>\n",
              "</table>\n",
              "</div>\n",
              "      <button class=\"colab-df-convert\" onclick=\"convertToInteractive('df-c7e35afc-4ee0-426b-9eaa-eec5d06533df')\"\n",
              "              title=\"Convert this dataframe to an interactive table.\"\n",
              "              style=\"display:none;\">\n",
              "        \n",
              "  <svg xmlns=\"http://www.w3.org/2000/svg\" height=\"24px\"viewBox=\"0 0 24 24\"\n",
              "       width=\"24px\">\n",
              "    <path d=\"M0 0h24v24H0V0z\" fill=\"none\"/>\n",
              "    <path d=\"M18.56 5.44l.94 2.06.94-2.06 2.06-.94-2.06-.94-.94-2.06-.94 2.06-2.06.94zm-11 1L8.5 8.5l.94-2.06 2.06-.94-2.06-.94L8.5 2.5l-.94 2.06-2.06.94zm10 10l.94 2.06.94-2.06 2.06-.94-2.06-.94-.94-2.06-.94 2.06-2.06.94z\"/><path d=\"M17.41 7.96l-1.37-1.37c-.4-.4-.92-.59-1.43-.59-.52 0-1.04.2-1.43.59L10.3 9.45l-7.72 7.72c-.78.78-.78 2.05 0 2.83L4 21.41c.39.39.9.59 1.41.59.51 0 1.02-.2 1.41-.59l7.78-7.78 2.81-2.81c.8-.78.8-2.07 0-2.86zM5.41 20L4 18.59l7.72-7.72 1.47 1.35L5.41 20z\"/>\n",
              "  </svg>\n",
              "      </button>\n",
              "      \n",
              "  <style>\n",
              "    .colab-df-container {\n",
              "      display:flex;\n",
              "      flex-wrap:wrap;\n",
              "      gap: 12px;\n",
              "    }\n",
              "\n",
              "    .colab-df-convert {\n",
              "      background-color: #E8F0FE;\n",
              "      border: none;\n",
              "      border-radius: 50%;\n",
              "      cursor: pointer;\n",
              "      display: none;\n",
              "      fill: #1967D2;\n",
              "      height: 32px;\n",
              "      padding: 0 0 0 0;\n",
              "      width: 32px;\n",
              "    }\n",
              "\n",
              "    .colab-df-convert:hover {\n",
              "      background-color: #E2EBFA;\n",
              "      box-shadow: 0px 1px 2px rgba(60, 64, 67, 0.3), 0px 1px 3px 1px rgba(60, 64, 67, 0.15);\n",
              "      fill: #174EA6;\n",
              "    }\n",
              "\n",
              "    [theme=dark] .colab-df-convert {\n",
              "      background-color: #3B4455;\n",
              "      fill: #D2E3FC;\n",
              "    }\n",
              "\n",
              "    [theme=dark] .colab-df-convert:hover {\n",
              "      background-color: #434B5C;\n",
              "      box-shadow: 0px 1px 3px 1px rgba(0, 0, 0, 0.15);\n",
              "      filter: drop-shadow(0px 1px 2px rgba(0, 0, 0, 0.3));\n",
              "      fill: #FFFFFF;\n",
              "    }\n",
              "  </style>\n",
              "\n",
              "      <script>\n",
              "        const buttonEl =\n",
              "          document.querySelector('#df-c7e35afc-4ee0-426b-9eaa-eec5d06533df button.colab-df-convert');\n",
              "        buttonEl.style.display =\n",
              "          google.colab.kernel.accessAllowed ? 'block' : 'none';\n",
              "\n",
              "        async function convertToInteractive(key) {\n",
              "          const element = document.querySelector('#df-c7e35afc-4ee0-426b-9eaa-eec5d06533df');\n",
              "          const dataTable =\n",
              "            await google.colab.kernel.invokeFunction('convertToInteractive',\n",
              "                                                     [key], {});\n",
              "          if (!dataTable) return;\n",
              "\n",
              "          const docLinkHtml = 'Like what you see? Visit the ' +\n",
              "            '<a target=\"_blank\" href=https://colab.research.google.com/notebooks/data_table.ipynb>data table notebook</a>'\n",
              "            + ' to learn more about interactive tables.';\n",
              "          element.innerHTML = '';\n",
              "          dataTable['output_type'] = 'display_data';\n",
              "          await google.colab.output.renderOutput(dataTable, element);\n",
              "          const docLink = document.createElement('div');\n",
              "          docLink.innerHTML = docLinkHtml;\n",
              "          element.appendChild(docLink);\n",
              "        }\n",
              "      </script>\n",
              "    </div>\n",
              "  </div>\n",
              "  "
            ],
            "application/vnd.google.colaboratory.module+javascript": "\n      import \"https://ssl.gstatic.com/colaboratory/data_table/99dac6621f6ae8c4/data_table.js\";\n\n      window.createDataTable({\n        data: [[{\n            'v': 0,\n            'f': \"0\",\n        },\n{\n            'v': 1,\n            'f': \"1\",\n        },\n\"Memphis TN\",\n{\n            'v': 35.1174,\n            'f': \"35.1174\",\n        },\n{\n            'v': -89.9711,\n            'f': \"-89.9711\",\n        },\n\"TN\"],\n [{\n            'v': 1,\n            'f': \"1\",\n        },\n{\n            'v': 2,\n            'f': \"2\",\n        },\n\"Chicago IL\",\n{\n            'v': 41.8369,\n            'f': \"41.8369\",\n        },\n{\n            'v': -87.6847,\n            'f': \"-87.6847\",\n        },\n\"IL\"],\n [{\n            'v': 2,\n            'f': \"2\",\n        },\n{\n            'v': 3,\n            'f': \"3\",\n        },\n\"Houston TX\",\n{\n            'v': 29.7604,\n            'f': \"29.7604\",\n        },\n{\n            'v': -95.3698,\n            'f': \"-95.3698\",\n        },\n\"TX\"],\n [{\n            'v': 3,\n            'f': \"3\",\n        },\n{\n            'v': 4,\n            'f': \"4\",\n        },\n\"Los Angeles CA\",\n{\n            'v': 34.05,\n            'f': \"34.05\",\n        },\n{\n            'v': -118.25,\n            'f': \"-118.25\",\n        },\n\"CA\"],\n [{\n            'v': 4,\n            'f': \"4\",\n        },\n{\n            'v': 5,\n            'f': \"5\",\n        },\n\"New Orleans LA\",\n{\n            'v': 29.95,\n            'f': \"29.95\",\n        },\n{\n            'v': -90.0667,\n            'f': \"-90.0667\",\n        },\n\"LA\"],\n [{\n            'v': 5,\n            'f': \"5\",\n        },\n{\n            'v': 6,\n            'f': \"6\",\n        },\n\"Port Authority of New York/New Jersey NY/NJ\",\n{\n            'v': 40.634,\n            'f': \"40.634\",\n        },\n{\n            'v': -73.7834,\n            'f': \"-73.7834\",\n        },\n\"NJ\"],\n [{\n            'v': 6,\n            'f': \"6\",\n        },\n{\n            'v': 7,\n            'f': \"7\",\n        },\n\"Philadelphia PA\",\n{\n            'v': 39.95,\n            'f': \"39.95\",\n        },\n{\n            'v': -75.1667,\n            'f': \"-75.1667\",\n        },\n\"PA\"],\n [{\n            'v': 7,\n            'f': \"7\",\n        },\n{\n            'v': 8,\n            'f': \"8\",\n        },\n\"Mobile AL\",\n{\n            'v': 30.6944,\n            'f': \"30.6944\",\n        },\n{\n            'v': -88.0431,\n            'f': \"-88.0431\",\n        },\n\"AL\"],\n [{\n            'v': 8,\n            'f': \"8\",\n        },\n{\n            'v': 9,\n            'f': \"9\",\n        },\n\"Charleston SC\",\n{\n            'v': 32.7833,\n            'f': \"32.7833\",\n        },\n{\n            'v': -79.9333,\n            'f': \"-79.9333\",\n        },\n\"SC\"],\n [{\n            'v': 9,\n            'f': \"9\",\n        },\n{\n            'v': 10,\n            'f': \"10\",\n        },\n\"Savannah GA\",\n{\n            'v': 32.0167,\n            'f': \"32.0167\",\n        },\n{\n            'v': -81.1167,\n            'f': \"-81.1167\",\n        },\n\"GA\"]],\n        columns: [[\"number\", \"index\"], [\"number\", \"id\"], [\"string\", \"name\"], [\"number\", \"latitude\"], [\"number\", \"longitude\"], [\"string\", \"state\"]],\n        columnOptions: [{\"width\": \"1px\", \"className\": \"index_column\"}],\n        rowsPerPage: 25,\n        helpUrl: \"https://colab.research.google.com/notebooks/data_table.ipynb\",\n        suppressOutputScrolling: true,\n        minimumWidth: undefined,\n      });\n    "
          },
          "metadata": {},
          "execution_count": 8
        }
      ]
    },
    {
      "cell_type": "code",
      "source": [
        "orders_info = client.query('''\n",
        "SELECT \n",
        "        orders.order_id,\n",
        "        orders.user_id,\n",
        "        users.country,\n",
        "        users.age,\n",
        "        users.gender,\n",
        "        order_items.product_id,\n",
        "        order_items.sale_price,\n",
        "        FORMAT_DATE('%m/%Y', CAST(order_items.shipped_at AS DATE)) as shipped_at,\n",
        "        products.cost,\n",
        "        products.category,\n",
        "        products.department,\n",
        "        products.distribution_center_id,\n",
        "FROM\n",
        "        `bigquery-public-data.thelook_ecommerce.orders` orders\n",
        "JOIN\n",
        "        `bigquery-public-data.thelook_ecommerce.users` users ON orders.user_id = users.id\n",
        "JOIN\n",
        "        `bigquery-public-data.thelook_ecommerce.order_items` order_items ON orders.order_id = order_items.order_id\n",
        "JOIN\n",
        "        `bigquery-public-data.thelook_ecommerce.products` products ON order_items.product_id = products.id\n",
        "''' ).to_dataframe()"
      ],
      "metadata": {
        "id": "q1pGs9rEnz23"
      },
      "execution_count": null,
      "outputs": []
    },
    {
      "cell_type": "code",
      "source": [
        "# Customer Orders\n",
        "orders = orders_info.copy()\n",
        "orders.head(10)"
      ],
      "metadata": {
        "id": "VcG8htfoDjlk",
        "colab": {
          "base_uri": "https://localhost:8080/",
          "height": 305
        },
        "outputId": "2edf5006-4bf4-45e7-f075-30a0cd901d28"
      },
      "execution_count": null,
      "outputs": [
        {
          "output_type": "execute_result",
          "data": {
            "text/plain": [
              "   order_id  user_id         country  age gender  product_id  sale_price  \\\n",
              "0       359      286   United States   12      F        8343  139.990005   \n",
              "1       644      517           China   12      F        9866   38.000000   \n",
              "2      1314     1060     South Korea   12      F        2883   25.000000   \n",
              "3      1314     1060     South Korea   12      F        3428   16.990000   \n",
              "4      1969     1584  United Kingdom   12      F       15731   31.410000   \n",
              "5      2025     1622         Germany   12      F         904   43.980000   \n",
              "6      2160     1728          Brasil   12      F        8620   66.000000   \n",
              "7      2160     1728          Brasil   12      F        4318   50.990002   \n",
              "8      2200     1767  United Kingdom   12      F       13054  148.000000   \n",
              "9      2482     1981           China   12      F       15560   34.000000   \n",
              "\n",
              "  shipped_at       cost           category department  distribution_center_id  \n",
              "0    12/2022  62.295552  Outerwear & Coats      Women                       2  \n",
              "1    08/2022  22.838000     Sleep & Lounge      Women                       1  \n",
              "2    12/2022  11.725000             Active      Women                       2  \n",
              "3    12/2022   8.189180            Dresses      Women                       9  \n",
              "4    05/2020  16.898580               Plus      Women                       6  \n",
              "5    05/2021  20.538660           Sweaters      Women                       1  \n",
              "6    04/2023  27.918000  Outerwear & Coats      Women                       6  \n",
              "7    04/2023  27.126681              Jeans      Women                       4  \n",
              "8    12/2022  62.012000               Swim      Women                       3  \n",
              "9    09/2022  18.496000               Plus      Women                       2  "
            ],
            "text/html": [
              "\n",
              "  <div id=\"df-775474db-2044-463f-a957-3ac7ca2c4c0f\">\n",
              "    <div class=\"colab-df-container\">\n",
              "      <div>\n",
              "<style scoped>\n",
              "    .dataframe tbody tr th:only-of-type {\n",
              "        vertical-align: middle;\n",
              "    }\n",
              "\n",
              "    .dataframe tbody tr th {\n",
              "        vertical-align: top;\n",
              "    }\n",
              "\n",
              "    .dataframe thead th {\n",
              "        text-align: right;\n",
              "    }\n",
              "</style>\n",
              "<table border=\"1\" class=\"dataframe\">\n",
              "  <thead>\n",
              "    <tr style=\"text-align: right;\">\n",
              "      <th></th>\n",
              "      <th>order_id</th>\n",
              "      <th>user_id</th>\n",
              "      <th>country</th>\n",
              "      <th>age</th>\n",
              "      <th>gender</th>\n",
              "      <th>product_id</th>\n",
              "      <th>sale_price</th>\n",
              "      <th>shipped_at</th>\n",
              "      <th>cost</th>\n",
              "      <th>category</th>\n",
              "      <th>department</th>\n",
              "      <th>distribution_center_id</th>\n",
              "    </tr>\n",
              "  </thead>\n",
              "  <tbody>\n",
              "    <tr>\n",
              "      <th>0</th>\n",
              "      <td>359</td>\n",
              "      <td>286</td>\n",
              "      <td>United States</td>\n",
              "      <td>12</td>\n",
              "      <td>F</td>\n",
              "      <td>8343</td>\n",
              "      <td>139.990005</td>\n",
              "      <td>12/2022</td>\n",
              "      <td>62.295552</td>\n",
              "      <td>Outerwear &amp; Coats</td>\n",
              "      <td>Women</td>\n",
              "      <td>2</td>\n",
              "    </tr>\n",
              "    <tr>\n",
              "      <th>1</th>\n",
              "      <td>644</td>\n",
              "      <td>517</td>\n",
              "      <td>China</td>\n",
              "      <td>12</td>\n",
              "      <td>F</td>\n",
              "      <td>9866</td>\n",
              "      <td>38.000000</td>\n",
              "      <td>08/2022</td>\n",
              "      <td>22.838000</td>\n",
              "      <td>Sleep &amp; Lounge</td>\n",
              "      <td>Women</td>\n",
              "      <td>1</td>\n",
              "    </tr>\n",
              "    <tr>\n",
              "      <th>2</th>\n",
              "      <td>1314</td>\n",
              "      <td>1060</td>\n",
              "      <td>South Korea</td>\n",
              "      <td>12</td>\n",
              "      <td>F</td>\n",
              "      <td>2883</td>\n",
              "      <td>25.000000</td>\n",
              "      <td>12/2022</td>\n",
              "      <td>11.725000</td>\n",
              "      <td>Active</td>\n",
              "      <td>Women</td>\n",
              "      <td>2</td>\n",
              "    </tr>\n",
              "    <tr>\n",
              "      <th>3</th>\n",
              "      <td>1314</td>\n",
              "      <td>1060</td>\n",
              "      <td>South Korea</td>\n",
              "      <td>12</td>\n",
              "      <td>F</td>\n",
              "      <td>3428</td>\n",
              "      <td>16.990000</td>\n",
              "      <td>12/2022</td>\n",
              "      <td>8.189180</td>\n",
              "      <td>Dresses</td>\n",
              "      <td>Women</td>\n",
              "      <td>9</td>\n",
              "    </tr>\n",
              "    <tr>\n",
              "      <th>4</th>\n",
              "      <td>1969</td>\n",
              "      <td>1584</td>\n",
              "      <td>United Kingdom</td>\n",
              "      <td>12</td>\n",
              "      <td>F</td>\n",
              "      <td>15731</td>\n",
              "      <td>31.410000</td>\n",
              "      <td>05/2020</td>\n",
              "      <td>16.898580</td>\n",
              "      <td>Plus</td>\n",
              "      <td>Women</td>\n",
              "      <td>6</td>\n",
              "    </tr>\n",
              "    <tr>\n",
              "      <th>5</th>\n",
              "      <td>2025</td>\n",
              "      <td>1622</td>\n",
              "      <td>Germany</td>\n",
              "      <td>12</td>\n",
              "      <td>F</td>\n",
              "      <td>904</td>\n",
              "      <td>43.980000</td>\n",
              "      <td>05/2021</td>\n",
              "      <td>20.538660</td>\n",
              "      <td>Sweaters</td>\n",
              "      <td>Women</td>\n",
              "      <td>1</td>\n",
              "    </tr>\n",
              "    <tr>\n",
              "      <th>6</th>\n",
              "      <td>2160</td>\n",
              "      <td>1728</td>\n",
              "      <td>Brasil</td>\n",
              "      <td>12</td>\n",
              "      <td>F</td>\n",
              "      <td>8620</td>\n",
              "      <td>66.000000</td>\n",
              "      <td>04/2023</td>\n",
              "      <td>27.918000</td>\n",
              "      <td>Outerwear &amp; Coats</td>\n",
              "      <td>Women</td>\n",
              "      <td>6</td>\n",
              "    </tr>\n",
              "    <tr>\n",
              "      <th>7</th>\n",
              "      <td>2160</td>\n",
              "      <td>1728</td>\n",
              "      <td>Brasil</td>\n",
              "      <td>12</td>\n",
              "      <td>F</td>\n",
              "      <td>4318</td>\n",
              "      <td>50.990002</td>\n",
              "      <td>04/2023</td>\n",
              "      <td>27.126681</td>\n",
              "      <td>Jeans</td>\n",
              "      <td>Women</td>\n",
              "      <td>4</td>\n",
              "    </tr>\n",
              "    <tr>\n",
              "      <th>8</th>\n",
              "      <td>2200</td>\n",
              "      <td>1767</td>\n",
              "      <td>United Kingdom</td>\n",
              "      <td>12</td>\n",
              "      <td>F</td>\n",
              "      <td>13054</td>\n",
              "      <td>148.000000</td>\n",
              "      <td>12/2022</td>\n",
              "      <td>62.012000</td>\n",
              "      <td>Swim</td>\n",
              "      <td>Women</td>\n",
              "      <td>3</td>\n",
              "    </tr>\n",
              "    <tr>\n",
              "      <th>9</th>\n",
              "      <td>2482</td>\n",
              "      <td>1981</td>\n",
              "      <td>China</td>\n",
              "      <td>12</td>\n",
              "      <td>F</td>\n",
              "      <td>15560</td>\n",
              "      <td>34.000000</td>\n",
              "      <td>09/2022</td>\n",
              "      <td>18.496000</td>\n",
              "      <td>Plus</td>\n",
              "      <td>Women</td>\n",
              "      <td>2</td>\n",
              "    </tr>\n",
              "  </tbody>\n",
              "</table>\n",
              "</div>\n",
              "      <button class=\"colab-df-convert\" onclick=\"convertToInteractive('df-775474db-2044-463f-a957-3ac7ca2c4c0f')\"\n",
              "              title=\"Convert this dataframe to an interactive table.\"\n",
              "              style=\"display:none;\">\n",
              "        \n",
              "  <svg xmlns=\"http://www.w3.org/2000/svg\" height=\"24px\"viewBox=\"0 0 24 24\"\n",
              "       width=\"24px\">\n",
              "    <path d=\"M0 0h24v24H0V0z\" fill=\"none\"/>\n",
              "    <path d=\"M18.56 5.44l.94 2.06.94-2.06 2.06-.94-2.06-.94-.94-2.06-.94 2.06-2.06.94zm-11 1L8.5 8.5l.94-2.06 2.06-.94-2.06-.94L8.5 2.5l-.94 2.06-2.06.94zm10 10l.94 2.06.94-2.06 2.06-.94-2.06-.94-.94-2.06-.94 2.06-2.06.94z\"/><path d=\"M17.41 7.96l-1.37-1.37c-.4-.4-.92-.59-1.43-.59-.52 0-1.04.2-1.43.59L10.3 9.45l-7.72 7.72c-.78.78-.78 2.05 0 2.83L4 21.41c.39.39.9.59 1.41.59.51 0 1.02-.2 1.41-.59l7.78-7.78 2.81-2.81c.8-.78.8-2.07 0-2.86zM5.41 20L4 18.59l7.72-7.72 1.47 1.35L5.41 20z\"/>\n",
              "  </svg>\n",
              "      </button>\n",
              "      \n",
              "  <style>\n",
              "    .colab-df-container {\n",
              "      display:flex;\n",
              "      flex-wrap:wrap;\n",
              "      gap: 12px;\n",
              "    }\n",
              "\n",
              "    .colab-df-convert {\n",
              "      background-color: #E8F0FE;\n",
              "      border: none;\n",
              "      border-radius: 50%;\n",
              "      cursor: pointer;\n",
              "      display: none;\n",
              "      fill: #1967D2;\n",
              "      height: 32px;\n",
              "      padding: 0 0 0 0;\n",
              "      width: 32px;\n",
              "    }\n",
              "\n",
              "    .colab-df-convert:hover {\n",
              "      background-color: #E2EBFA;\n",
              "      box-shadow: 0px 1px 2px rgba(60, 64, 67, 0.3), 0px 1px 3px 1px rgba(60, 64, 67, 0.15);\n",
              "      fill: #174EA6;\n",
              "    }\n",
              "\n",
              "    [theme=dark] .colab-df-convert {\n",
              "      background-color: #3B4455;\n",
              "      fill: #D2E3FC;\n",
              "    }\n",
              "\n",
              "    [theme=dark] .colab-df-convert:hover {\n",
              "      background-color: #434B5C;\n",
              "      box-shadow: 0px 1px 3px 1px rgba(0, 0, 0, 0.15);\n",
              "      filter: drop-shadow(0px 1px 2px rgba(0, 0, 0, 0.3));\n",
              "      fill: #FFFFFF;\n",
              "    }\n",
              "  </style>\n",
              "\n",
              "      <script>\n",
              "        const buttonEl =\n",
              "          document.querySelector('#df-775474db-2044-463f-a957-3ac7ca2c4c0f button.colab-df-convert');\n",
              "        buttonEl.style.display =\n",
              "          google.colab.kernel.accessAllowed ? 'block' : 'none';\n",
              "\n",
              "        async function convertToInteractive(key) {\n",
              "          const element = document.querySelector('#df-775474db-2044-463f-a957-3ac7ca2c4c0f');\n",
              "          const dataTable =\n",
              "            await google.colab.kernel.invokeFunction('convertToInteractive',\n",
              "                                                     [key], {});\n",
              "          if (!dataTable) return;\n",
              "\n",
              "          const docLinkHtml = 'Like what you see? Visit the ' +\n",
              "            '<a target=\"_blank\" href=https://colab.research.google.com/notebooks/data_table.ipynb>data table notebook</a>'\n",
              "            + ' to learn more about interactive tables.';\n",
              "          element.innerHTML = '';\n",
              "          dataTable['output_type'] = 'display_data';\n",
              "          await google.colab.output.renderOutput(dataTable, element);\n",
              "          const docLink = document.createElement('div');\n",
              "          docLink.innerHTML = docLinkHtml;\n",
              "          element.appendChild(docLink);\n",
              "        }\n",
              "      </script>\n",
              "    </div>\n",
              "  </div>\n",
              "  "
            ],
            "application/vnd.google.colaboratory.module+javascript": "\n      import \"https://ssl.gstatic.com/colaboratory/data_table/99dac6621f6ae8c4/data_table.js\";\n\n      window.createDataTable({\n        data: [[{\n            'v': 0,\n            'f': \"0\",\n        },\n{\n            'v': 359,\n            'f': \"359\",\n        },\n{\n            'v': 286,\n            'f': \"286\",\n        },\n\"United States\",\n{\n            'v': 12,\n            'f': \"12\",\n        },\n\"F\",\n{\n            'v': 8343,\n            'f': \"8343\",\n        },\n{\n            'v': 139.99000549316406,\n            'f': \"139.99000549316406\",\n        },\n\"12/2022\",\n{\n            'v': 62.29555235580242,\n            'f': \"62.29555235580242\",\n        },\n\"Outerwear & Coats\",\n\"Women\",\n{\n            'v': 2,\n            'f': \"2\",\n        }],\n [{\n            'v': 1,\n            'f': \"1\",\n        },\n{\n            'v': 644,\n            'f': \"644\",\n        },\n{\n            'v': 517,\n            'f': \"517\",\n        },\n\"China\",\n{\n            'v': 12,\n            'f': \"12\",\n        },\n\"F\",\n{\n            'v': 9866,\n            'f': \"9866\",\n        },\n{\n            'v': 38.0,\n            'f': \"38.0\",\n        },\n\"08/2022\",\n{\n            'v': 22.83800005842932,\n            'f': \"22.83800005842932\",\n        },\n\"Sleep & Lounge\",\n\"Women\",\n{\n            'v': 1,\n            'f': \"1\",\n        }],\n [{\n            'v': 2,\n            'f': \"2\",\n        },\n{\n            'v': 1314,\n            'f': \"1314\",\n        },\n{\n            'v': 1060,\n            'f': \"1060\",\n        },\n\"South Korea\",\n{\n            'v': 12,\n            'f': \"12\",\n        },\n\"F\",\n{\n            'v': 2883,\n            'f': \"2883\",\n        },\n{\n            'v': 25.0,\n            'f': \"25.0\",\n        },\n\"12/2022\",\n{\n            'v': 11.725000012665989,\n            'f': \"11.725000012665989\",\n        },\n\"Active\",\n\"Women\",\n{\n            'v': 2,\n            'f': \"2\",\n        }],\n [{\n            'v': 3,\n            'f': \"3\",\n        },\n{\n            'v': 1314,\n            'f': \"1314\",\n        },\n{\n            'v': 1060,\n            'f': \"1060\",\n        },\n\"South Korea\",\n{\n            'v': 12,\n            'f': \"12\",\n        },\n\"F\",\n{\n            'v': 3428,\n            'f': \"3428\",\n        },\n{\n            'v': 16.989999771118164,\n            'f': \"16.989999771118164\",\n        },\n\"12/2022\",\n{\n            'v': 8.189179902843833,\n            'f': \"8.189179902843833\",\n        },\n\"Dresses\",\n\"Women\",\n{\n            'v': 9,\n            'f': \"9\",\n        }],\n [{\n            'v': 4,\n            'f': \"4\",\n        },\n{\n            'v': 1969,\n            'f': \"1969\",\n        },\n{\n            'v': 1584,\n            'f': \"1584\",\n        },\n\"United Kingdom\",\n{\n            'v': 12,\n            'f': \"12\",\n        },\n\"F\",\n{\n            'v': 15731,\n            'f': \"15731\",\n        },\n{\n            'v': 31.40999984741211,\n            'f': \"31.40999984741211\",\n        },\n\"05/2020\",\n{\n            'v': 16.898579879527986,\n            'f': \"16.898579879527986\",\n        },\n\"Plus\",\n\"Women\",\n{\n            'v': 6,\n            'f': \"6\",\n        }],\n [{\n            'v': 5,\n            'f': \"5\",\n        },\n{\n            'v': 2025,\n            'f': \"2025\",\n        },\n{\n            'v': 1622,\n            'f': \"1622\",\n        },\n\"Germany\",\n{\n            'v': 12,\n            'f': \"12\",\n        },\n\"F\",\n{\n            'v': 904,\n            'f': \"904\",\n        },\n{\n            'v': 43.97999954223633,\n            'f': \"43.97999954223633\",\n        },\n\"05/2021\",\n{\n            'v': 20.5386597940886,\n            'f': \"20.5386597940886\",\n        },\n\"Sweaters\",\n\"Women\",\n{\n            'v': 1,\n            'f': \"1\",\n        }],\n [{\n            'v': 6,\n            'f': \"6\",\n        },\n{\n            'v': 2160,\n            'f': \"2160\",\n        },\n{\n            'v': 1728,\n            'f': \"1728\",\n        },\n\"Brasil\",\n{\n            'v': 12,\n            'f': \"12\",\n        },\n\"F\",\n{\n            'v': 8620,\n            'f': \"8620\",\n        },\n{\n            'v': 66.0,\n            'f': \"66.0\",\n        },\n\"04/2023\",\n{\n            'v': 27.91799990460277,\n            'f': \"27.91799990460277\",\n        },\n\"Outerwear & Coats\",\n\"Women\",\n{\n            'v': 6,\n            'f': \"6\",\n        }],\n [{\n            'v': 7,\n            'f': \"7\",\n        },\n{\n            'v': 2160,\n            'f': \"2160\",\n        },\n{\n            'v': 1728,\n            'f': \"1728\",\n        },\n\"Brasil\",\n{\n            'v': 12,\n            'f': \"12\",\n        },\n\"F\",\n{\n            'v': 4318,\n            'f': \"4318\",\n        },\n{\n            'v': 50.9900016784668,\n            'f': \"50.9900016784668\",\n        },\n\"04/2023\",\n{\n            'v': 27.12668082798056,\n            'f': \"27.12668082798056\",\n        },\n\"Jeans\",\n\"Women\",\n{\n            'v': 4,\n            'f': \"4\",\n        }],\n [{\n            'v': 8,\n            'f': \"8\",\n        },\n{\n            'v': 2200,\n            'f': \"2200\",\n        },\n{\n            'v': 1767,\n            'f': \"1767\",\n        },\n\"United Kingdom\",\n{\n            'v': 12,\n            'f': \"12\",\n        },\n\"F\",\n{\n            'v': 13054,\n            'f': \"13054\",\n        },\n{\n            'v': 148.0,\n            'f': \"148.0\",\n        },\n\"12/2022\",\n{\n            'v': 62.012000257615,\n            'f': \"62.012000257615\",\n        },\n\"Swim\",\n\"Women\",\n{\n            'v': 3,\n            'f': \"3\",\n        }],\n [{\n            'v': 9,\n            'f': \"9\",\n        },\n{\n            'v': 2482,\n            'f': \"2482\",\n        },\n{\n            'v': 1981,\n            'f': \"1981\",\n        },\n\"China\",\n{\n            'v': 12,\n            'f': \"12\",\n        },\n\"F\",\n{\n            'v': 15560,\n            'f': \"15560\",\n        },\n{\n            'v': 34.0,\n            'f': \"34.0\",\n        },\n\"09/2022\",\n{\n            'v': 18.49599999189377,\n            'f': \"18.49599999189377\",\n        },\n\"Plus\",\n\"Women\",\n{\n            'v': 2,\n            'f': \"2\",\n        }]],\n        columns: [[\"number\", \"index\"], [\"number\", \"order_id\"], [\"number\", \"user_id\"], [\"string\", \"country\"], [\"number\", \"age\"], [\"string\", \"gender\"], [\"number\", \"product_id\"], [\"number\", \"sale_price\"], [\"string\", \"shipped_at\"], [\"number\", \"cost\"], [\"string\", \"category\"], [\"string\", \"department\"], [\"number\", \"distribution_center_id\"]],\n        columnOptions: [{\"width\": \"1px\", \"className\": \"index_column\"}],\n        rowsPerPage: 25,\n        helpUrl: \"https://colab.research.google.com/notebooks/data_table.ipynb\",\n        suppressOutputScrolling: true,\n        minimumWidth: undefined,\n      });\n    "
          },
          "metadata": {},
          "execution_count": 10
        }
      ]
    },
    {
      "cell_type": "code",
      "source": [
        "orders.info()\n",
        "\n",
        "# 181,218 rows, 12 columns"
      ],
      "metadata": {
        "colab": {
          "base_uri": "https://localhost:8080/"
        },
        "id": "LEbrhhVZlu3p",
        "outputId": "3258081f-846a-43ed-e165-6dde92f12e51"
      },
      "execution_count": null,
      "outputs": [
        {
          "output_type": "stream",
          "name": "stdout",
          "text": [
            "<class 'pandas.core.frame.DataFrame'>\n",
            "RangeIndex: 181218 entries, 0 to 181217\n",
            "Data columns (total 12 columns):\n",
            " #   Column                  Non-Null Count   Dtype  \n",
            "---  ------                  --------------   -----  \n",
            " 0   order_id                181218 non-null  Int64  \n",
            " 1   user_id                 181218 non-null  Int64  \n",
            " 2   country                 181218 non-null  object \n",
            " 3   age                     181218 non-null  Int64  \n",
            " 4   gender                  181218 non-null  object \n",
            " 5   product_id              181218 non-null  Int64  \n",
            " 6   sale_price              181218 non-null  float64\n",
            " 7   shipped_at              118119 non-null  object \n",
            " 8   cost                    181218 non-null  float64\n",
            " 9   category                181218 non-null  object \n",
            " 10  department              181218 non-null  object \n",
            " 11  distribution_center_id  181218 non-null  Int64  \n",
            "dtypes: Int64(5), float64(2), object(5)\n",
            "memory usage: 17.5+ MB\n"
          ]
        }
      ]
    },
    {
      "cell_type": "code",
      "source": [
        "orders.isna().sum()\n",
        "\n",
        "# 64,023 orders have not shipped"
      ],
      "metadata": {
        "colab": {
          "base_uri": "https://localhost:8080/"
        },
        "id": "RE8mIRDfFGla",
        "outputId": "f3feec9f-480e-4117-d33c-02e7c0e8cfae"
      },
      "execution_count": null,
      "outputs": [
        {
          "output_type": "execute_result",
          "data": {
            "text/plain": [
              "order_id                      0\n",
              "user_id                       0\n",
              "country                       0\n",
              "age                           0\n",
              "gender                        0\n",
              "product_id                    0\n",
              "sale_price                    0\n",
              "shipped_at                63099\n",
              "cost                          0\n",
              "category                      0\n",
              "department                    0\n",
              "distribution_center_id        0\n",
              "dtype: int64"
            ]
          },
          "metadata": {},
          "execution_count": 12
        }
      ]
    },
    {
      "cell_type": "code",
      "source": [
        "import pandas as pd\n",
        "orders['shipped_at'] = pd.to_datetime(orders['shipped_at'])"
      ],
      "metadata": {
        "id": "oQ8BUkK1rOxi"
      },
      "execution_count": null,
      "outputs": []
    },
    {
      "cell_type": "code",
      "source": [
        "orders.describe()"
      ],
      "metadata": {
        "id": "0xpkyLuZlZxV",
        "colab": {
          "base_uri": "https://localhost:8080/",
          "height": 262
        },
        "outputId": "00aaa939-d857-440c-dee5-d34bcc34d81b"
      },
      "execution_count": null,
      "outputs": [
        {
          "output_type": "execute_result",
          "data": {
            "text/plain": [
              "           order_id       user_id        age    product_id     sale_price  \\\n",
              "count      181218.0      181218.0   181218.0      181218.0  181218.000000   \n",
              "mean   62381.362972  50053.364257  41.013487  15301.590653      59.530161   \n",
              "std    36023.114483  28883.008683  17.095688   8421.158288      65.783666   \n",
              "min             1.0           1.0       12.0           1.0       0.020000   \n",
              "25%         31212.0       25084.0       26.0        7991.0      24.250000   \n",
              "50%         62388.5       50077.5       41.0       16019.0      39.990002   \n",
              "75%        93575.75       75124.0       56.0       22578.0      69.949997   \n",
              "max        124763.0      100000.0       70.0       29120.0     999.000000   \n",
              "\n",
              "                cost  distribution_center_id  \n",
              "count  181218.000000                181218.0  \n",
              "mean       28.638139                4.997445  \n",
              "std        30.632810                2.895834  \n",
              "min         0.008300                     1.0  \n",
              "25%        11.327040                     2.0  \n",
              "50%        19.872000                     5.0  \n",
              "75%        34.575059                     8.0  \n",
              "max       557.151002                    10.0  "
            ],
            "text/html": [
              "\n",
              "  <div id=\"df-a24df5fc-9e97-443c-b795-aa0e1885c3bd\">\n",
              "    <div class=\"colab-df-container\">\n",
              "      <div>\n",
              "<style scoped>\n",
              "    .dataframe tbody tr th:only-of-type {\n",
              "        vertical-align: middle;\n",
              "    }\n",
              "\n",
              "    .dataframe tbody tr th {\n",
              "        vertical-align: top;\n",
              "    }\n",
              "\n",
              "    .dataframe thead th {\n",
              "        text-align: right;\n",
              "    }\n",
              "</style>\n",
              "<table border=\"1\" class=\"dataframe\">\n",
              "  <thead>\n",
              "    <tr style=\"text-align: right;\">\n",
              "      <th></th>\n",
              "      <th>order_id</th>\n",
              "      <th>user_id</th>\n",
              "      <th>age</th>\n",
              "      <th>product_id</th>\n",
              "      <th>sale_price</th>\n",
              "      <th>cost</th>\n",
              "      <th>distribution_center_id</th>\n",
              "    </tr>\n",
              "  </thead>\n",
              "  <tbody>\n",
              "    <tr>\n",
              "      <th>count</th>\n",
              "      <td>181218.0</td>\n",
              "      <td>181218.0</td>\n",
              "      <td>181218.0</td>\n",
              "      <td>181218.0</td>\n",
              "      <td>181218.000000</td>\n",
              "      <td>181218.000000</td>\n",
              "      <td>181218.0</td>\n",
              "    </tr>\n",
              "    <tr>\n",
              "      <th>mean</th>\n",
              "      <td>62381.362972</td>\n",
              "      <td>50053.364257</td>\n",
              "      <td>41.013487</td>\n",
              "      <td>15301.590653</td>\n",
              "      <td>59.530161</td>\n",
              "      <td>28.638139</td>\n",
              "      <td>4.997445</td>\n",
              "    </tr>\n",
              "    <tr>\n",
              "      <th>std</th>\n",
              "      <td>36023.114483</td>\n",
              "      <td>28883.008683</td>\n",
              "      <td>17.095688</td>\n",
              "      <td>8421.158288</td>\n",
              "      <td>65.783666</td>\n",
              "      <td>30.632810</td>\n",
              "      <td>2.895834</td>\n",
              "    </tr>\n",
              "    <tr>\n",
              "      <th>min</th>\n",
              "      <td>1.0</td>\n",
              "      <td>1.0</td>\n",
              "      <td>12.0</td>\n",
              "      <td>1.0</td>\n",
              "      <td>0.020000</td>\n",
              "      <td>0.008300</td>\n",
              "      <td>1.0</td>\n",
              "    </tr>\n",
              "    <tr>\n",
              "      <th>25%</th>\n",
              "      <td>31212.0</td>\n",
              "      <td>25084.0</td>\n",
              "      <td>26.0</td>\n",
              "      <td>7991.0</td>\n",
              "      <td>24.250000</td>\n",
              "      <td>11.327040</td>\n",
              "      <td>2.0</td>\n",
              "    </tr>\n",
              "    <tr>\n",
              "      <th>50%</th>\n",
              "      <td>62388.5</td>\n",
              "      <td>50077.5</td>\n",
              "      <td>41.0</td>\n",
              "      <td>16019.0</td>\n",
              "      <td>39.990002</td>\n",
              "      <td>19.872000</td>\n",
              "      <td>5.0</td>\n",
              "    </tr>\n",
              "    <tr>\n",
              "      <th>75%</th>\n",
              "      <td>93575.75</td>\n",
              "      <td>75124.0</td>\n",
              "      <td>56.0</td>\n",
              "      <td>22578.0</td>\n",
              "      <td>69.949997</td>\n",
              "      <td>34.575059</td>\n",
              "      <td>8.0</td>\n",
              "    </tr>\n",
              "    <tr>\n",
              "      <th>max</th>\n",
              "      <td>124763.0</td>\n",
              "      <td>100000.0</td>\n",
              "      <td>70.0</td>\n",
              "      <td>29120.0</td>\n",
              "      <td>999.000000</td>\n",
              "      <td>557.151002</td>\n",
              "      <td>10.0</td>\n",
              "    </tr>\n",
              "  </tbody>\n",
              "</table>\n",
              "</div>\n",
              "      <button class=\"colab-df-convert\" onclick=\"convertToInteractive('df-a24df5fc-9e97-443c-b795-aa0e1885c3bd')\"\n",
              "              title=\"Convert this dataframe to an interactive table.\"\n",
              "              style=\"display:none;\">\n",
              "        \n",
              "  <svg xmlns=\"http://www.w3.org/2000/svg\" height=\"24px\"viewBox=\"0 0 24 24\"\n",
              "       width=\"24px\">\n",
              "    <path d=\"M0 0h24v24H0V0z\" fill=\"none\"/>\n",
              "    <path d=\"M18.56 5.44l.94 2.06.94-2.06 2.06-.94-2.06-.94-.94-2.06-.94 2.06-2.06.94zm-11 1L8.5 8.5l.94-2.06 2.06-.94-2.06-.94L8.5 2.5l-.94 2.06-2.06.94zm10 10l.94 2.06.94-2.06 2.06-.94-2.06-.94-.94-2.06-.94 2.06-2.06.94z\"/><path d=\"M17.41 7.96l-1.37-1.37c-.4-.4-.92-.59-1.43-.59-.52 0-1.04.2-1.43.59L10.3 9.45l-7.72 7.72c-.78.78-.78 2.05 0 2.83L4 21.41c.39.39.9.59 1.41.59.51 0 1.02-.2 1.41-.59l7.78-7.78 2.81-2.81c.8-.78.8-2.07 0-2.86zM5.41 20L4 18.59l7.72-7.72 1.47 1.35L5.41 20z\"/>\n",
              "  </svg>\n",
              "      </button>\n",
              "      \n",
              "  <style>\n",
              "    .colab-df-container {\n",
              "      display:flex;\n",
              "      flex-wrap:wrap;\n",
              "      gap: 12px;\n",
              "    }\n",
              "\n",
              "    .colab-df-convert {\n",
              "      background-color: #E8F0FE;\n",
              "      border: none;\n",
              "      border-radius: 50%;\n",
              "      cursor: pointer;\n",
              "      display: none;\n",
              "      fill: #1967D2;\n",
              "      height: 32px;\n",
              "      padding: 0 0 0 0;\n",
              "      width: 32px;\n",
              "    }\n",
              "\n",
              "    .colab-df-convert:hover {\n",
              "      background-color: #E2EBFA;\n",
              "      box-shadow: 0px 1px 2px rgba(60, 64, 67, 0.3), 0px 1px 3px 1px rgba(60, 64, 67, 0.15);\n",
              "      fill: #174EA6;\n",
              "    }\n",
              "\n",
              "    [theme=dark] .colab-df-convert {\n",
              "      background-color: #3B4455;\n",
              "      fill: #D2E3FC;\n",
              "    }\n",
              "\n",
              "    [theme=dark] .colab-df-convert:hover {\n",
              "      background-color: #434B5C;\n",
              "      box-shadow: 0px 1px 3px 1px rgba(0, 0, 0, 0.15);\n",
              "      filter: drop-shadow(0px 1px 2px rgba(0, 0, 0, 0.3));\n",
              "      fill: #FFFFFF;\n",
              "    }\n",
              "  </style>\n",
              "\n",
              "      <script>\n",
              "        const buttonEl =\n",
              "          document.querySelector('#df-a24df5fc-9e97-443c-b795-aa0e1885c3bd button.colab-df-convert');\n",
              "        buttonEl.style.display =\n",
              "          google.colab.kernel.accessAllowed ? 'block' : 'none';\n",
              "\n",
              "        async function convertToInteractive(key) {\n",
              "          const element = document.querySelector('#df-a24df5fc-9e97-443c-b795-aa0e1885c3bd');\n",
              "          const dataTable =\n",
              "            await google.colab.kernel.invokeFunction('convertToInteractive',\n",
              "                                                     [key], {});\n",
              "          if (!dataTable) return;\n",
              "\n",
              "          const docLinkHtml = 'Like what you see? Visit the ' +\n",
              "            '<a target=\"_blank\" href=https://colab.research.google.com/notebooks/data_table.ipynb>data table notebook</a>'\n",
              "            + ' to learn more about interactive tables.';\n",
              "          element.innerHTML = '';\n",
              "          dataTable['output_type'] = 'display_data';\n",
              "          await google.colab.output.renderOutput(dataTable, element);\n",
              "          const docLink = document.createElement('div');\n",
              "          docLink.innerHTML = docLinkHtml;\n",
              "          element.appendChild(docLink);\n",
              "        }\n",
              "      </script>\n",
              "    </div>\n",
              "  </div>\n",
              "  "
            ],
            "application/vnd.google.colaboratory.module+javascript": "\n      import \"https://ssl.gstatic.com/colaboratory/data_table/99dac6621f6ae8c4/data_table.js\";\n\n      window.createDataTable({\n        data: [[\"count\",\n{\n            'v': 181218.0,\n            'f': \"181218.0\",\n        },\n{\n            'v': 181218.0,\n            'f': \"181218.0\",\n        },\n{\n            'v': 181218.0,\n            'f': \"181218.0\",\n        },\n{\n            'v': 181218.0,\n            'f': \"181218.0\",\n        },\n{\n            'v': 181218.0,\n            'f': \"181218.0\",\n        },\n{\n            'v': 181218.0,\n            'f': \"181218.0\",\n        },\n{\n            'v': 181218.0,\n            'f': \"181218.0\",\n        }],\n [\"mean\",\n{\n            'v': 62381.36297166948,\n            'f': \"62381.36297166948\",\n        },\n{\n            'v': 50053.36425741372,\n            'f': \"50053.36425741372\",\n        },\n{\n            'v': 41.013486518999215,\n            'f': \"41.013486518999215\",\n        },\n{\n            'v': 15301.590653246367,\n            'f': \"15301.590653246367\",\n        },\n{\n            'v': 59.53016064280709,\n            'f': \"59.53016064280709\",\n        },\n{\n            'v': 28.63813853532887,\n            'f': \"28.63813853532887\",\n        },\n{\n            'v': 4.997445066163405,\n            'f': \"4.997445066163405\",\n        }],\n [\"std\",\n{\n            'v': 36023.11448291997,\n            'f': \"36023.11448291997\",\n        },\n{\n            'v': 28883.00868309736,\n            'f': \"28883.00868309736\",\n        },\n{\n            'v': 17.09568813605332,\n            'f': \"17.09568813605332\",\n        },\n{\n            'v': 8421.158288281344,\n            'f': \"8421.158288281344\",\n        },\n{\n            'v': 65.78366595545491,\n            'f': \"65.78366595545491\",\n        },\n{\n            'v': 30.632810194107048,\n            'f': \"30.632810194107048\",\n        },\n{\n            'v': 2.895834392617717,\n            'f': \"2.895834392617717\",\n        }],\n [\"min\",\n{\n            'v': 1.0,\n            'f': \"1.0\",\n        },\n{\n            'v': 1.0,\n            'f': \"1.0\",\n        },\n{\n            'v': 12.0,\n            'f': \"12.0\",\n        },\n{\n            'v': 1.0,\n            'f': \"1.0\",\n        },\n{\n            'v': 0.0199999995529651,\n            'f': \"0.0199999995529651\",\n        },\n{\n            'v': 0.0082999997779726,\n            'f': \"0.0082999997779726\",\n        },\n{\n            'v': 1.0,\n            'f': \"1.0\",\n        }],\n [\"25%\",\n{\n            'v': 31212.0,\n            'f': \"31212.0\",\n        },\n{\n            'v': 25084.0,\n            'f': \"25084.0\",\n        },\n{\n            'v': 26.0,\n            'f': \"26.0\",\n        },\n{\n            'v': 7991.0,\n            'f': \"7991.0\",\n        },\n{\n            'v': 24.25,\n            'f': \"24.25\",\n        },\n{\n            'v': 11.327039704150556,\n            'f': \"11.327039704150556\",\n        },\n{\n            'v': 2.0,\n            'f': \"2.0\",\n        }],\n [\"50%\",\n{\n            'v': 62388.5,\n            'f': \"62388.5\",\n        },\n{\n            'v': 50077.5,\n            'f': \"50077.5\",\n        },\n{\n            'v': 41.0,\n            'f': \"41.0\",\n        },\n{\n            'v': 16019.0,\n            'f': \"16019.0\",\n        },\n{\n            'v': 39.9900016784668,\n            'f': \"39.9900016784668\",\n        },\n{\n            'v': 19.87200003862381,\n            'f': \"19.87200003862381\",\n        },\n{\n            'v': 5.0,\n            'f': \"5.0\",\n        }],\n [\"75%\",\n{\n            'v': 93575.75,\n            'f': \"93575.75\",\n        },\n{\n            'v': 75124.0,\n            'f': \"75124.0\",\n        },\n{\n            'v': 56.0,\n            'f': \"56.0\",\n        },\n{\n            'v': 22578.0,\n            'f': \"22578.0\",\n        },\n{\n            'v': 69.94999694824219,\n            'f': \"69.94999694824219\",\n        },\n{\n            'v': 34.57505887586862,\n            'f': \"34.57505887586862\",\n        },\n{\n            'v': 8.0,\n            'f': \"8.0\",\n        }],\n [\"max\",\n{\n            'v': 124763.0,\n            'f': \"124763.0\",\n        },\n{\n            'v': 100000.0,\n            'f': \"100000.0\",\n        },\n{\n            'v': 70.0,\n            'f': \"70.0\",\n        },\n{\n            'v': 29120.0,\n            'f': \"29120.0\",\n        },\n{\n            'v': 999.0,\n            'f': \"999.0\",\n        },\n{\n            'v': 557.1510021798313,\n            'f': \"557.1510021798313\",\n        },\n{\n            'v': 10.0,\n            'f': \"10.0\",\n        }]],\n        columns: [[\"string\", \"index\"], [\"number\", \"order_id\"], [\"number\", \"user_id\"], [\"number\", \"age\"], [\"number\", \"product_id\"], [\"number\", \"sale_price\"], [\"number\", \"cost\"], [\"number\", \"distribution_center_id\"]],\n        columnOptions: [{\"width\": \"1px\", \"className\": \"index_column\"}],\n        rowsPerPage: 25,\n        helpUrl: \"https://colab.research.google.com/notebooks/data_table.ipynb\",\n        suppressOutputScrolling: true,\n        minimumWidth: undefined,\n      });\n    "
          },
          "metadata": {},
          "execution_count": 14
        }
      ]
    },
    {
      "cell_type": "code",
      "source": [
        "orders.describe(include='object')"
      ],
      "metadata": {
        "id": "WuTVoXGzllDj",
        "colab": {
          "base_uri": "https://localhost:8080/",
          "height": 176
        },
        "outputId": "67d77318-f854-435e-a595-0d7d1caae30c"
      },
      "execution_count": null,
      "outputs": [
        {
          "output_type": "execute_result",
          "data": {
            "text/plain": [
              "       country  gender   category department\n",
              "count   181218  181218     181218     181218\n",
              "unique      15       2         26          2\n",
              "top      China       M  Intimates        Men\n",
              "freq     61811   90807      13345      90807"
            ],
            "text/html": [
              "\n",
              "  <div id=\"df-1efca535-ae1c-430d-a063-338715ff5621\">\n",
              "    <div class=\"colab-df-container\">\n",
              "      <div>\n",
              "<style scoped>\n",
              "    .dataframe tbody tr th:only-of-type {\n",
              "        vertical-align: middle;\n",
              "    }\n",
              "\n",
              "    .dataframe tbody tr th {\n",
              "        vertical-align: top;\n",
              "    }\n",
              "\n",
              "    .dataframe thead th {\n",
              "        text-align: right;\n",
              "    }\n",
              "</style>\n",
              "<table border=\"1\" class=\"dataframe\">\n",
              "  <thead>\n",
              "    <tr style=\"text-align: right;\">\n",
              "      <th></th>\n",
              "      <th>country</th>\n",
              "      <th>gender</th>\n",
              "      <th>category</th>\n",
              "      <th>department</th>\n",
              "    </tr>\n",
              "  </thead>\n",
              "  <tbody>\n",
              "    <tr>\n",
              "      <th>count</th>\n",
              "      <td>181218</td>\n",
              "      <td>181218</td>\n",
              "      <td>181218</td>\n",
              "      <td>181218</td>\n",
              "    </tr>\n",
              "    <tr>\n",
              "      <th>unique</th>\n",
              "      <td>15</td>\n",
              "      <td>2</td>\n",
              "      <td>26</td>\n",
              "      <td>2</td>\n",
              "    </tr>\n",
              "    <tr>\n",
              "      <th>top</th>\n",
              "      <td>China</td>\n",
              "      <td>M</td>\n",
              "      <td>Intimates</td>\n",
              "      <td>Men</td>\n",
              "    </tr>\n",
              "    <tr>\n",
              "      <th>freq</th>\n",
              "      <td>61811</td>\n",
              "      <td>90807</td>\n",
              "      <td>13345</td>\n",
              "      <td>90807</td>\n",
              "    </tr>\n",
              "  </tbody>\n",
              "</table>\n",
              "</div>\n",
              "      <button class=\"colab-df-convert\" onclick=\"convertToInteractive('df-1efca535-ae1c-430d-a063-338715ff5621')\"\n",
              "              title=\"Convert this dataframe to an interactive table.\"\n",
              "              style=\"display:none;\">\n",
              "        \n",
              "  <svg xmlns=\"http://www.w3.org/2000/svg\" height=\"24px\"viewBox=\"0 0 24 24\"\n",
              "       width=\"24px\">\n",
              "    <path d=\"M0 0h24v24H0V0z\" fill=\"none\"/>\n",
              "    <path d=\"M18.56 5.44l.94 2.06.94-2.06 2.06-.94-2.06-.94-.94-2.06-.94 2.06-2.06.94zm-11 1L8.5 8.5l.94-2.06 2.06-.94-2.06-.94L8.5 2.5l-.94 2.06-2.06.94zm10 10l.94 2.06.94-2.06 2.06-.94-2.06-.94-.94-2.06-.94 2.06-2.06.94z\"/><path d=\"M17.41 7.96l-1.37-1.37c-.4-.4-.92-.59-1.43-.59-.52 0-1.04.2-1.43.59L10.3 9.45l-7.72 7.72c-.78.78-.78 2.05 0 2.83L4 21.41c.39.39.9.59 1.41.59.51 0 1.02-.2 1.41-.59l7.78-7.78 2.81-2.81c.8-.78.8-2.07 0-2.86zM5.41 20L4 18.59l7.72-7.72 1.47 1.35L5.41 20z\"/>\n",
              "  </svg>\n",
              "      </button>\n",
              "      \n",
              "  <style>\n",
              "    .colab-df-container {\n",
              "      display:flex;\n",
              "      flex-wrap:wrap;\n",
              "      gap: 12px;\n",
              "    }\n",
              "\n",
              "    .colab-df-convert {\n",
              "      background-color: #E8F0FE;\n",
              "      border: none;\n",
              "      border-radius: 50%;\n",
              "      cursor: pointer;\n",
              "      display: none;\n",
              "      fill: #1967D2;\n",
              "      height: 32px;\n",
              "      padding: 0 0 0 0;\n",
              "      width: 32px;\n",
              "    }\n",
              "\n",
              "    .colab-df-convert:hover {\n",
              "      background-color: #E2EBFA;\n",
              "      box-shadow: 0px 1px 2px rgba(60, 64, 67, 0.3), 0px 1px 3px 1px rgba(60, 64, 67, 0.15);\n",
              "      fill: #174EA6;\n",
              "    }\n",
              "\n",
              "    [theme=dark] .colab-df-convert {\n",
              "      background-color: #3B4455;\n",
              "      fill: #D2E3FC;\n",
              "    }\n",
              "\n",
              "    [theme=dark] .colab-df-convert:hover {\n",
              "      background-color: #434B5C;\n",
              "      box-shadow: 0px 1px 3px 1px rgba(0, 0, 0, 0.15);\n",
              "      filter: drop-shadow(0px 1px 2px rgba(0, 0, 0, 0.3));\n",
              "      fill: #FFFFFF;\n",
              "    }\n",
              "  </style>\n",
              "\n",
              "      <script>\n",
              "        const buttonEl =\n",
              "          document.querySelector('#df-1efca535-ae1c-430d-a063-338715ff5621 button.colab-df-convert');\n",
              "        buttonEl.style.display =\n",
              "          google.colab.kernel.accessAllowed ? 'block' : 'none';\n",
              "\n",
              "        async function convertToInteractive(key) {\n",
              "          const element = document.querySelector('#df-1efca535-ae1c-430d-a063-338715ff5621');\n",
              "          const dataTable =\n",
              "            await google.colab.kernel.invokeFunction('convertToInteractive',\n",
              "                                                     [key], {});\n",
              "          if (!dataTable) return;\n",
              "\n",
              "          const docLinkHtml = 'Like what you see? Visit the ' +\n",
              "            '<a target=\"_blank\" href=https://colab.research.google.com/notebooks/data_table.ipynb>data table notebook</a>'\n",
              "            + ' to learn more about interactive tables.';\n",
              "          element.innerHTML = '';\n",
              "          dataTable['output_type'] = 'display_data';\n",
              "          await google.colab.output.renderOutput(dataTable, element);\n",
              "          const docLink = document.createElement('div');\n",
              "          docLink.innerHTML = docLinkHtml;\n",
              "          element.appendChild(docLink);\n",
              "        }\n",
              "      </script>\n",
              "    </div>\n",
              "  </div>\n",
              "  "
            ],
            "application/vnd.google.colaboratory.module+javascript": "\n      import \"https://ssl.gstatic.com/colaboratory/data_table/99dac6621f6ae8c4/data_table.js\";\n\n      window.createDataTable({\n        data: [[\"count\",\n181218,\n181218,\n181218,\n181218],\n [\"unique\",\n15,\n2,\n26,\n2],\n [\"top\",\n\"China\",\n\"M\",\n\"Intimates\",\n\"Men\"],\n [\"freq\",\n61811,\n90807,\n13345,\n90807]],\n        columns: [[\"string\", \"index\"], [\"string\", \"country\"], [\"string\", \"gender\"], [\"string\", \"category\"], [\"string\", \"department\"]],\n        columnOptions: [{\"width\": \"1px\", \"className\": \"index_column\"}],\n        rowsPerPage: 25,\n        helpUrl: \"https://colab.research.google.com/notebooks/data_table.ipynb\",\n        suppressOutputScrolling: true,\n        minimumWidth: undefined,\n      });\n    "
          },
          "metadata": {},
          "execution_count": 15
        }
      ]
    },
    {
      "cell_type": "code",
      "source": [
        "orders.info()"
      ],
      "metadata": {
        "colab": {
          "base_uri": "https://localhost:8080/"
        },
        "id": "G-J5LWINsBeI",
        "outputId": "4a223817-ff0d-4318-dbd1-516dd23546f5"
      },
      "execution_count": null,
      "outputs": [
        {
          "output_type": "stream",
          "name": "stdout",
          "text": [
            "<class 'pandas.core.frame.DataFrame'>\n",
            "RangeIndex: 181218 entries, 0 to 181217\n",
            "Data columns (total 12 columns):\n",
            " #   Column                  Non-Null Count   Dtype         \n",
            "---  ------                  --------------   -----         \n",
            " 0   order_id                181218 non-null  Int64         \n",
            " 1   user_id                 181218 non-null  Int64         \n",
            " 2   country                 181218 non-null  object        \n",
            " 3   age                     181218 non-null  Int64         \n",
            " 4   gender                  181218 non-null  object        \n",
            " 5   product_id              181218 non-null  Int64         \n",
            " 6   sale_price              181218 non-null  float64       \n",
            " 7   shipped_at              118119 non-null  datetime64[ns]\n",
            " 8   cost                    181218 non-null  float64       \n",
            " 9   category                181218 non-null  object        \n",
            " 10  department              181218 non-null  object        \n",
            " 11  distribution_center_id  181218 non-null  Int64         \n",
            "dtypes: Int64(5), datetime64[ns](1), float64(2), object(4)\n",
            "memory usage: 17.5+ MB\n"
          ]
        }
      ]
    },
    {
      "cell_type": "code",
      "source": [
        "# counts per country\n",
        "\n",
        "orders.country.value_counts()"
      ],
      "metadata": {
        "colab": {
          "base_uri": "https://localhost:8080/"
        },
        "id": "4YoENEABsIuz",
        "outputId": "c525ffb8-1f9b-4659-89d8-501df8a0f4a3"
      },
      "execution_count": null,
      "outputs": [
        {
          "output_type": "execute_result",
          "data": {
            "text/plain": [
              "China             61811\n",
              "United States     40683\n",
              "Brasil            26333\n",
              "South Korea        9589\n",
              "France             8626\n",
              "United Kingdom     8344\n",
              "Spain              7519\n",
              "Germany            7375\n",
              "Japan              4356\n",
              "Australia          3909\n",
              "Belgium            2244\n",
              "Poland              405\n",
              "Colombia             16\n",
              "Austria               5\n",
              "España                3\n",
              "Name: country, dtype: int64"
            ]
          },
          "metadata": {},
          "execution_count": 17
        }
      ]
    },
    {
      "cell_type": "code",
      "source": [
        "dc[['id', 'state']]"
      ],
      "metadata": {
        "colab": {
          "base_uri": "https://localhost:8080/",
          "height": 305
        },
        "id": "ZhMhKhE-H7m-",
        "outputId": "85e65501-0c85-4619-dd59-1d6442fe7c1a"
      },
      "execution_count": null,
      "outputs": [
        {
          "output_type": "execute_result",
          "data": {
            "text/plain": [
              "   id state\n",
              "0   1    TN\n",
              "1   2    IL\n",
              "2   3    TX\n",
              "3   4    CA\n",
              "4   5    LA\n",
              "5   6    NJ\n",
              "6   7    PA\n",
              "7   8    AL\n",
              "8   9    SC\n",
              "9  10    GA"
            ],
            "text/html": [
              "\n",
              "  <div id=\"df-3da6037a-ada8-4df7-80d9-80f9e89f0813\">\n",
              "    <div class=\"colab-df-container\">\n",
              "      <div>\n",
              "<style scoped>\n",
              "    .dataframe tbody tr th:only-of-type {\n",
              "        vertical-align: middle;\n",
              "    }\n",
              "\n",
              "    .dataframe tbody tr th {\n",
              "        vertical-align: top;\n",
              "    }\n",
              "\n",
              "    .dataframe thead th {\n",
              "        text-align: right;\n",
              "    }\n",
              "</style>\n",
              "<table border=\"1\" class=\"dataframe\">\n",
              "  <thead>\n",
              "    <tr style=\"text-align: right;\">\n",
              "      <th></th>\n",
              "      <th>id</th>\n",
              "      <th>state</th>\n",
              "    </tr>\n",
              "  </thead>\n",
              "  <tbody>\n",
              "    <tr>\n",
              "      <th>0</th>\n",
              "      <td>1</td>\n",
              "      <td>TN</td>\n",
              "    </tr>\n",
              "    <tr>\n",
              "      <th>1</th>\n",
              "      <td>2</td>\n",
              "      <td>IL</td>\n",
              "    </tr>\n",
              "    <tr>\n",
              "      <th>2</th>\n",
              "      <td>3</td>\n",
              "      <td>TX</td>\n",
              "    </tr>\n",
              "    <tr>\n",
              "      <th>3</th>\n",
              "      <td>4</td>\n",
              "      <td>CA</td>\n",
              "    </tr>\n",
              "    <tr>\n",
              "      <th>4</th>\n",
              "      <td>5</td>\n",
              "      <td>LA</td>\n",
              "    </tr>\n",
              "    <tr>\n",
              "      <th>5</th>\n",
              "      <td>6</td>\n",
              "      <td>NJ</td>\n",
              "    </tr>\n",
              "    <tr>\n",
              "      <th>6</th>\n",
              "      <td>7</td>\n",
              "      <td>PA</td>\n",
              "    </tr>\n",
              "    <tr>\n",
              "      <th>7</th>\n",
              "      <td>8</td>\n",
              "      <td>AL</td>\n",
              "    </tr>\n",
              "    <tr>\n",
              "      <th>8</th>\n",
              "      <td>9</td>\n",
              "      <td>SC</td>\n",
              "    </tr>\n",
              "    <tr>\n",
              "      <th>9</th>\n",
              "      <td>10</td>\n",
              "      <td>GA</td>\n",
              "    </tr>\n",
              "  </tbody>\n",
              "</table>\n",
              "</div>\n",
              "      <button class=\"colab-df-convert\" onclick=\"convertToInteractive('df-3da6037a-ada8-4df7-80d9-80f9e89f0813')\"\n",
              "              title=\"Convert this dataframe to an interactive table.\"\n",
              "              style=\"display:none;\">\n",
              "        \n",
              "  <svg xmlns=\"http://www.w3.org/2000/svg\" height=\"24px\"viewBox=\"0 0 24 24\"\n",
              "       width=\"24px\">\n",
              "    <path d=\"M0 0h24v24H0V0z\" fill=\"none\"/>\n",
              "    <path d=\"M18.56 5.44l.94 2.06.94-2.06 2.06-.94-2.06-.94-.94-2.06-.94 2.06-2.06.94zm-11 1L8.5 8.5l.94-2.06 2.06-.94-2.06-.94L8.5 2.5l-.94 2.06-2.06.94zm10 10l.94 2.06.94-2.06 2.06-.94-2.06-.94-.94-2.06-.94 2.06-2.06.94z\"/><path d=\"M17.41 7.96l-1.37-1.37c-.4-.4-.92-.59-1.43-.59-.52 0-1.04.2-1.43.59L10.3 9.45l-7.72 7.72c-.78.78-.78 2.05 0 2.83L4 21.41c.39.39.9.59 1.41.59.51 0 1.02-.2 1.41-.59l7.78-7.78 2.81-2.81c.8-.78.8-2.07 0-2.86zM5.41 20L4 18.59l7.72-7.72 1.47 1.35L5.41 20z\"/>\n",
              "  </svg>\n",
              "      </button>\n",
              "      \n",
              "  <style>\n",
              "    .colab-df-container {\n",
              "      display:flex;\n",
              "      flex-wrap:wrap;\n",
              "      gap: 12px;\n",
              "    }\n",
              "\n",
              "    .colab-df-convert {\n",
              "      background-color: #E8F0FE;\n",
              "      border: none;\n",
              "      border-radius: 50%;\n",
              "      cursor: pointer;\n",
              "      display: none;\n",
              "      fill: #1967D2;\n",
              "      height: 32px;\n",
              "      padding: 0 0 0 0;\n",
              "      width: 32px;\n",
              "    }\n",
              "\n",
              "    .colab-df-convert:hover {\n",
              "      background-color: #E2EBFA;\n",
              "      box-shadow: 0px 1px 2px rgba(60, 64, 67, 0.3), 0px 1px 3px 1px rgba(60, 64, 67, 0.15);\n",
              "      fill: #174EA6;\n",
              "    }\n",
              "\n",
              "    [theme=dark] .colab-df-convert {\n",
              "      background-color: #3B4455;\n",
              "      fill: #D2E3FC;\n",
              "    }\n",
              "\n",
              "    [theme=dark] .colab-df-convert:hover {\n",
              "      background-color: #434B5C;\n",
              "      box-shadow: 0px 1px 3px 1px rgba(0, 0, 0, 0.15);\n",
              "      filter: drop-shadow(0px 1px 2px rgba(0, 0, 0, 0.3));\n",
              "      fill: #FFFFFF;\n",
              "    }\n",
              "  </style>\n",
              "\n",
              "      <script>\n",
              "        const buttonEl =\n",
              "          document.querySelector('#df-3da6037a-ada8-4df7-80d9-80f9e89f0813 button.colab-df-convert');\n",
              "        buttonEl.style.display =\n",
              "          google.colab.kernel.accessAllowed ? 'block' : 'none';\n",
              "\n",
              "        async function convertToInteractive(key) {\n",
              "          const element = document.querySelector('#df-3da6037a-ada8-4df7-80d9-80f9e89f0813');\n",
              "          const dataTable =\n",
              "            await google.colab.kernel.invokeFunction('convertToInteractive',\n",
              "                                                     [key], {});\n",
              "          if (!dataTable) return;\n",
              "\n",
              "          const docLinkHtml = 'Like what you see? Visit the ' +\n",
              "            '<a target=\"_blank\" href=https://colab.research.google.com/notebooks/data_table.ipynb>data table notebook</a>'\n",
              "            + ' to learn more about interactive tables.';\n",
              "          element.innerHTML = '';\n",
              "          dataTable['output_type'] = 'display_data';\n",
              "          await google.colab.output.renderOutput(dataTable, element);\n",
              "          const docLink = document.createElement('div');\n",
              "          docLink.innerHTML = docLinkHtml;\n",
              "          element.appendChild(docLink);\n",
              "        }\n",
              "      </script>\n",
              "    </div>\n",
              "  </div>\n",
              "  "
            ],
            "application/vnd.google.colaboratory.module+javascript": "\n      import \"https://ssl.gstatic.com/colaboratory/data_table/99dac6621f6ae8c4/data_table.js\";\n\n      window.createDataTable({\n        data: [[{\n            'v': 0,\n            'f': \"0\",\n        },\n{\n            'v': 1,\n            'f': \"1\",\n        },\n\"TN\"],\n [{\n            'v': 1,\n            'f': \"1\",\n        },\n{\n            'v': 2,\n            'f': \"2\",\n        },\n\"IL\"],\n [{\n            'v': 2,\n            'f': \"2\",\n        },\n{\n            'v': 3,\n            'f': \"3\",\n        },\n\"TX\"],\n [{\n            'v': 3,\n            'f': \"3\",\n        },\n{\n            'v': 4,\n            'f': \"4\",\n        },\n\"CA\"],\n [{\n            'v': 4,\n            'f': \"4\",\n        },\n{\n            'v': 5,\n            'f': \"5\",\n        },\n\"LA\"],\n [{\n            'v': 5,\n            'f': \"5\",\n        },\n{\n            'v': 6,\n            'f': \"6\",\n        },\n\"NJ\"],\n [{\n            'v': 6,\n            'f': \"6\",\n        },\n{\n            'v': 7,\n            'f': \"7\",\n        },\n\"PA\"],\n [{\n            'v': 7,\n            'f': \"7\",\n        },\n{\n            'v': 8,\n            'f': \"8\",\n        },\n\"AL\"],\n [{\n            'v': 8,\n            'f': \"8\",\n        },\n{\n            'v': 9,\n            'f': \"9\",\n        },\n\"SC\"],\n [{\n            'v': 9,\n            'f': \"9\",\n        },\n{\n            'v': 10,\n            'f': \"10\",\n        },\n\"GA\"]],\n        columns: [[\"number\", \"index\"], [\"number\", \"id\"], [\"string\", \"state\"]],\n        columnOptions: [{\"width\": \"1px\", \"className\": \"index_column\"}],\n        rowsPerPage: 25,\n        helpUrl: \"https://colab.research.google.com/notebooks/data_table.ipynb\",\n        suppressOutputScrolling: true,\n        minimumWidth: undefined,\n      });\n    "
          },
          "metadata": {},
          "execution_count": 18
        }
      ]
    },
    {
      "cell_type": "code",
      "source": [
        "# Adding Distribution Centers to orders dataset\n",
        "\n",
        "orders['dc_state'] = orders['distribution_center_id'].map({1:'TN', 2:'IL', 3:'TX', 4:'CA', 5:'LA', 6:'NJ', 7:'PA', 8:'AL', 9:'SC', 10:'GA'})"
      ],
      "metadata": {
        "id": "QKTyVeojtIWY"
      },
      "execution_count": null,
      "outputs": []
    },
    {
      "cell_type": "code",
      "source": [
        "orders['sale_price'] = orders['sale_price'].apply(lambda p: round(p,2))"
      ],
      "metadata": {
        "id": "yUC_HO_xoKbF"
      },
      "execution_count": null,
      "outputs": []
    },
    {
      "cell_type": "code",
      "source": [
        "orders['cost'] = orders['cost'].apply(lambda p: round(p,2))"
      ],
      "metadata": {
        "id": "0FQQ-pEK08gi"
      },
      "execution_count": null,
      "outputs": []
    },
    {
      "cell_type": "code",
      "source": [
        "orders['profit'] = orders['sale_price'] - orders['cost']"
      ],
      "metadata": {
        "id": "OGJOgtKk1Afx"
      },
      "execution_count": null,
      "outputs": []
    },
    {
      "cell_type": "code",
      "source": [
        "orders['profit'] = orders['profit'].apply(lambda p: round(p,2))"
      ],
      "metadata": {
        "id": "6Ya3npJXIJhk"
      },
      "execution_count": null,
      "outputs": []
    },
    {
      "cell_type": "code",
      "source": [
        "orders['profit_margin'] = orders['profit'] / orders['sale_price']"
      ],
      "metadata": {
        "id": "pxj7y6hX92Uz"
      },
      "execution_count": null,
      "outputs": []
    },
    {
      "cell_type": "code",
      "source": [
        "orders['profit_margin'] = orders['profit_margin'].apply(lambda p: round(p,2))"
      ],
      "metadata": {
        "id": "2Ke1ROTtITRG"
      },
      "execution_count": null,
      "outputs": []
    },
    {
      "cell_type": "code",
      "source": [
        "orders.head()"
      ],
      "metadata": {
        "colab": {
          "base_uri": "https://localhost:8080/",
          "height": 280
        },
        "id": "23aV0tgw-cH0",
        "outputId": "da94e9ab-0062-4c3a-9701-528a630ea167"
      },
      "execution_count": null,
      "outputs": [
        {
          "output_type": "execute_result",
          "data": {
            "text/plain": [
              "   order_id  user_id         country  age gender  product_id  sale_price  \\\n",
              "0       359      286   United States   12      F        8343      139.99   \n",
              "1       644      517           China   12      F        9866       38.00   \n",
              "2      1314     1060     South Korea   12      F        2883       25.00   \n",
              "3      1314     1060     South Korea   12      F        3428       16.99   \n",
              "4      1969     1584  United Kingdom   12      F       15731       31.41   \n",
              "\n",
              "  shipped_at   cost           category department  distribution_center_id  \\\n",
              "0 2022-12-01  62.30  Outerwear & Coats      Women                       2   \n",
              "1 2022-08-01  22.84     Sleep & Lounge      Women                       1   \n",
              "2 2022-12-01  11.73             Active      Women                       2   \n",
              "3 2022-12-01   8.19            Dresses      Women                       9   \n",
              "4 2020-05-01  16.90               Plus      Women                       6   \n",
              "\n",
              "  dc_state  profit  profit_margin  \n",
              "0       IL   77.69           0.55  \n",
              "1       TN   15.16           0.40  \n",
              "2       IL   13.27           0.53  \n",
              "3       SC    8.80           0.52  \n",
              "4       NJ   14.51           0.46  "
            ],
            "text/html": [
              "\n",
              "  <div id=\"df-07eb3e9c-5697-4f4b-a1c3-b0afed61c2dc\">\n",
              "    <div class=\"colab-df-container\">\n",
              "      <div>\n",
              "<style scoped>\n",
              "    .dataframe tbody tr th:only-of-type {\n",
              "        vertical-align: middle;\n",
              "    }\n",
              "\n",
              "    .dataframe tbody tr th {\n",
              "        vertical-align: top;\n",
              "    }\n",
              "\n",
              "    .dataframe thead th {\n",
              "        text-align: right;\n",
              "    }\n",
              "</style>\n",
              "<table border=\"1\" class=\"dataframe\">\n",
              "  <thead>\n",
              "    <tr style=\"text-align: right;\">\n",
              "      <th></th>\n",
              "      <th>order_id</th>\n",
              "      <th>user_id</th>\n",
              "      <th>country</th>\n",
              "      <th>age</th>\n",
              "      <th>gender</th>\n",
              "      <th>product_id</th>\n",
              "      <th>sale_price</th>\n",
              "      <th>shipped_at</th>\n",
              "      <th>cost</th>\n",
              "      <th>category</th>\n",
              "      <th>department</th>\n",
              "      <th>distribution_center_id</th>\n",
              "      <th>dc_state</th>\n",
              "      <th>profit</th>\n",
              "      <th>profit_margin</th>\n",
              "    </tr>\n",
              "  </thead>\n",
              "  <tbody>\n",
              "    <tr>\n",
              "      <th>0</th>\n",
              "      <td>359</td>\n",
              "      <td>286</td>\n",
              "      <td>United States</td>\n",
              "      <td>12</td>\n",
              "      <td>F</td>\n",
              "      <td>8343</td>\n",
              "      <td>139.99</td>\n",
              "      <td>2022-12-01</td>\n",
              "      <td>62.30</td>\n",
              "      <td>Outerwear &amp; Coats</td>\n",
              "      <td>Women</td>\n",
              "      <td>2</td>\n",
              "      <td>IL</td>\n",
              "      <td>77.69</td>\n",
              "      <td>0.55</td>\n",
              "    </tr>\n",
              "    <tr>\n",
              "      <th>1</th>\n",
              "      <td>644</td>\n",
              "      <td>517</td>\n",
              "      <td>China</td>\n",
              "      <td>12</td>\n",
              "      <td>F</td>\n",
              "      <td>9866</td>\n",
              "      <td>38.00</td>\n",
              "      <td>2022-08-01</td>\n",
              "      <td>22.84</td>\n",
              "      <td>Sleep &amp; Lounge</td>\n",
              "      <td>Women</td>\n",
              "      <td>1</td>\n",
              "      <td>TN</td>\n",
              "      <td>15.16</td>\n",
              "      <td>0.40</td>\n",
              "    </tr>\n",
              "    <tr>\n",
              "      <th>2</th>\n",
              "      <td>1314</td>\n",
              "      <td>1060</td>\n",
              "      <td>South Korea</td>\n",
              "      <td>12</td>\n",
              "      <td>F</td>\n",
              "      <td>2883</td>\n",
              "      <td>25.00</td>\n",
              "      <td>2022-12-01</td>\n",
              "      <td>11.73</td>\n",
              "      <td>Active</td>\n",
              "      <td>Women</td>\n",
              "      <td>2</td>\n",
              "      <td>IL</td>\n",
              "      <td>13.27</td>\n",
              "      <td>0.53</td>\n",
              "    </tr>\n",
              "    <tr>\n",
              "      <th>3</th>\n",
              "      <td>1314</td>\n",
              "      <td>1060</td>\n",
              "      <td>South Korea</td>\n",
              "      <td>12</td>\n",
              "      <td>F</td>\n",
              "      <td>3428</td>\n",
              "      <td>16.99</td>\n",
              "      <td>2022-12-01</td>\n",
              "      <td>8.19</td>\n",
              "      <td>Dresses</td>\n",
              "      <td>Women</td>\n",
              "      <td>9</td>\n",
              "      <td>SC</td>\n",
              "      <td>8.80</td>\n",
              "      <td>0.52</td>\n",
              "    </tr>\n",
              "    <tr>\n",
              "      <th>4</th>\n",
              "      <td>1969</td>\n",
              "      <td>1584</td>\n",
              "      <td>United Kingdom</td>\n",
              "      <td>12</td>\n",
              "      <td>F</td>\n",
              "      <td>15731</td>\n",
              "      <td>31.41</td>\n",
              "      <td>2020-05-01</td>\n",
              "      <td>16.90</td>\n",
              "      <td>Plus</td>\n",
              "      <td>Women</td>\n",
              "      <td>6</td>\n",
              "      <td>NJ</td>\n",
              "      <td>14.51</td>\n",
              "      <td>0.46</td>\n",
              "    </tr>\n",
              "  </tbody>\n",
              "</table>\n",
              "</div>\n",
              "      <button class=\"colab-df-convert\" onclick=\"convertToInteractive('df-07eb3e9c-5697-4f4b-a1c3-b0afed61c2dc')\"\n",
              "              title=\"Convert this dataframe to an interactive table.\"\n",
              "              style=\"display:none;\">\n",
              "        \n",
              "  <svg xmlns=\"http://www.w3.org/2000/svg\" height=\"24px\"viewBox=\"0 0 24 24\"\n",
              "       width=\"24px\">\n",
              "    <path d=\"M0 0h24v24H0V0z\" fill=\"none\"/>\n",
              "    <path d=\"M18.56 5.44l.94 2.06.94-2.06 2.06-.94-2.06-.94-.94-2.06-.94 2.06-2.06.94zm-11 1L8.5 8.5l.94-2.06 2.06-.94-2.06-.94L8.5 2.5l-.94 2.06-2.06.94zm10 10l.94 2.06.94-2.06 2.06-.94-2.06-.94-.94-2.06-.94 2.06-2.06.94z\"/><path d=\"M17.41 7.96l-1.37-1.37c-.4-.4-.92-.59-1.43-.59-.52 0-1.04.2-1.43.59L10.3 9.45l-7.72 7.72c-.78.78-.78 2.05 0 2.83L4 21.41c.39.39.9.59 1.41.59.51 0 1.02-.2 1.41-.59l7.78-7.78 2.81-2.81c.8-.78.8-2.07 0-2.86zM5.41 20L4 18.59l7.72-7.72 1.47 1.35L5.41 20z\"/>\n",
              "  </svg>\n",
              "      </button>\n",
              "      \n",
              "  <style>\n",
              "    .colab-df-container {\n",
              "      display:flex;\n",
              "      flex-wrap:wrap;\n",
              "      gap: 12px;\n",
              "    }\n",
              "\n",
              "    .colab-df-convert {\n",
              "      background-color: #E8F0FE;\n",
              "      border: none;\n",
              "      border-radius: 50%;\n",
              "      cursor: pointer;\n",
              "      display: none;\n",
              "      fill: #1967D2;\n",
              "      height: 32px;\n",
              "      padding: 0 0 0 0;\n",
              "      width: 32px;\n",
              "    }\n",
              "\n",
              "    .colab-df-convert:hover {\n",
              "      background-color: #E2EBFA;\n",
              "      box-shadow: 0px 1px 2px rgba(60, 64, 67, 0.3), 0px 1px 3px 1px rgba(60, 64, 67, 0.15);\n",
              "      fill: #174EA6;\n",
              "    }\n",
              "\n",
              "    [theme=dark] .colab-df-convert {\n",
              "      background-color: #3B4455;\n",
              "      fill: #D2E3FC;\n",
              "    }\n",
              "\n",
              "    [theme=dark] .colab-df-convert:hover {\n",
              "      background-color: #434B5C;\n",
              "      box-shadow: 0px 1px 3px 1px rgba(0, 0, 0, 0.15);\n",
              "      filter: drop-shadow(0px 1px 2px rgba(0, 0, 0, 0.3));\n",
              "      fill: #FFFFFF;\n",
              "    }\n",
              "  </style>\n",
              "\n",
              "      <script>\n",
              "        const buttonEl =\n",
              "          document.querySelector('#df-07eb3e9c-5697-4f4b-a1c3-b0afed61c2dc button.colab-df-convert');\n",
              "        buttonEl.style.display =\n",
              "          google.colab.kernel.accessAllowed ? 'block' : 'none';\n",
              "\n",
              "        async function convertToInteractive(key) {\n",
              "          const element = document.querySelector('#df-07eb3e9c-5697-4f4b-a1c3-b0afed61c2dc');\n",
              "          const dataTable =\n",
              "            await google.colab.kernel.invokeFunction('convertToInteractive',\n",
              "                                                     [key], {});\n",
              "          if (!dataTable) return;\n",
              "\n",
              "          const docLinkHtml = 'Like what you see? Visit the ' +\n",
              "            '<a target=\"_blank\" href=https://colab.research.google.com/notebooks/data_table.ipynb>data table notebook</a>'\n",
              "            + ' to learn more about interactive tables.';\n",
              "          element.innerHTML = '';\n",
              "          dataTable['output_type'] = 'display_data';\n",
              "          await google.colab.output.renderOutput(dataTable, element);\n",
              "          const docLink = document.createElement('div');\n",
              "          docLink.innerHTML = docLinkHtml;\n",
              "          element.appendChild(docLink);\n",
              "        }\n",
              "      </script>\n",
              "    </div>\n",
              "  </div>\n",
              "  "
            ],
            "application/vnd.google.colaboratory.module+javascript": "\n      import \"https://ssl.gstatic.com/colaboratory/data_table/99dac6621f6ae8c4/data_table.js\";\n\n      window.createDataTable({\n        data: [[{\n            'v': 0,\n            'f': \"0\",\n        },\n{\n            'v': 359,\n            'f': \"359\",\n        },\n{\n            'v': 286,\n            'f': \"286\",\n        },\n\"United States\",\n{\n            'v': 12,\n            'f': \"12\",\n        },\n\"F\",\n{\n            'v': 8343,\n            'f': \"8343\",\n        },\n{\n            'v': 139.99,\n            'f': \"139.99\",\n        },\n\"2022-12-01 00:00:00\",\n{\n            'v': 62.3,\n            'f': \"62.3\",\n        },\n\"Outerwear & Coats\",\n\"Women\",\n{\n            'v': 2,\n            'f': \"2\",\n        },\n\"IL\",\n{\n            'v': 77.69,\n            'f': \"77.69\",\n        },\n{\n            'v': 0.55,\n            'f': \"0.55\",\n        }],\n [{\n            'v': 1,\n            'f': \"1\",\n        },\n{\n            'v': 644,\n            'f': \"644\",\n        },\n{\n            'v': 517,\n            'f': \"517\",\n        },\n\"China\",\n{\n            'v': 12,\n            'f': \"12\",\n        },\n\"F\",\n{\n            'v': 9866,\n            'f': \"9866\",\n        },\n{\n            'v': 38.0,\n            'f': \"38.0\",\n        },\n\"2022-08-01 00:00:00\",\n{\n            'v': 22.84,\n            'f': \"22.84\",\n        },\n\"Sleep & Lounge\",\n\"Women\",\n{\n            'v': 1,\n            'f': \"1\",\n        },\n\"TN\",\n{\n            'v': 15.16,\n            'f': \"15.16\",\n        },\n{\n            'v': 0.4,\n            'f': \"0.4\",\n        }],\n [{\n            'v': 2,\n            'f': \"2\",\n        },\n{\n            'v': 1314,\n            'f': \"1314\",\n        },\n{\n            'v': 1060,\n            'f': \"1060\",\n        },\n\"South Korea\",\n{\n            'v': 12,\n            'f': \"12\",\n        },\n\"F\",\n{\n            'v': 2883,\n            'f': \"2883\",\n        },\n{\n            'v': 25.0,\n            'f': \"25.0\",\n        },\n\"2022-12-01 00:00:00\",\n{\n            'v': 11.73,\n            'f': \"11.73\",\n        },\n\"Active\",\n\"Women\",\n{\n            'v': 2,\n            'f': \"2\",\n        },\n\"IL\",\n{\n            'v': 13.27,\n            'f': \"13.27\",\n        },\n{\n            'v': 0.53,\n            'f': \"0.53\",\n        }],\n [{\n            'v': 3,\n            'f': \"3\",\n        },\n{\n            'v': 1314,\n            'f': \"1314\",\n        },\n{\n            'v': 1060,\n            'f': \"1060\",\n        },\n\"South Korea\",\n{\n            'v': 12,\n            'f': \"12\",\n        },\n\"F\",\n{\n            'v': 3428,\n            'f': \"3428\",\n        },\n{\n            'v': 16.99,\n            'f': \"16.99\",\n        },\n\"2022-12-01 00:00:00\",\n{\n            'v': 8.19,\n            'f': \"8.19\",\n        },\n\"Dresses\",\n\"Women\",\n{\n            'v': 9,\n            'f': \"9\",\n        },\n\"SC\",\n{\n            'v': 8.8,\n            'f': \"8.8\",\n        },\n{\n            'v': 0.52,\n            'f': \"0.52\",\n        }],\n [{\n            'v': 4,\n            'f': \"4\",\n        },\n{\n            'v': 1969,\n            'f': \"1969\",\n        },\n{\n            'v': 1584,\n            'f': \"1584\",\n        },\n\"United Kingdom\",\n{\n            'v': 12,\n            'f': \"12\",\n        },\n\"F\",\n{\n            'v': 15731,\n            'f': \"15731\",\n        },\n{\n            'v': 31.41,\n            'f': \"31.41\",\n        },\n\"2020-05-01 00:00:00\",\n{\n            'v': 16.9,\n            'f': \"16.9\",\n        },\n\"Plus\",\n\"Women\",\n{\n            'v': 6,\n            'f': \"6\",\n        },\n\"NJ\",\n{\n            'v': 14.51,\n            'f': \"14.51\",\n        },\n{\n            'v': 0.46,\n            'f': \"0.46\",\n        }]],\n        columns: [[\"number\", \"index\"], [\"number\", \"order_id\"], [\"number\", \"user_id\"], [\"string\", \"country\"], [\"number\", \"age\"], [\"string\", \"gender\"], [\"number\", \"product_id\"], [\"number\", \"sale_price\"], [\"string\", \"shipped_at\"], [\"number\", \"cost\"], [\"string\", \"category\"], [\"string\", \"department\"], [\"number\", \"distribution_center_id\"], [\"string\", \"dc_state\"], [\"number\", \"profit\"], [\"number\", \"profit_margin\"]],\n        columnOptions: [{\"width\": \"1px\", \"className\": \"index_column\"}],\n        rowsPerPage: 25,\n        helpUrl: \"https://colab.research.google.com/notebooks/data_table.ipynb\",\n        suppressOutputScrolling: true,\n        minimumWidth: undefined,\n      });\n    "
          },
          "metadata": {},
          "execution_count": 29
        }
      ]
    },
    {
      "cell_type": "code",
      "source": [
        "orders.info()"
      ],
      "metadata": {
        "colab": {
          "base_uri": "https://localhost:8080/"
        },
        "id": "7XaHtSiafaJB",
        "outputId": "33c01552-6a5a-457d-8e17-671487c58d3e"
      },
      "execution_count": null,
      "outputs": [
        {
          "output_type": "stream",
          "name": "stdout",
          "text": [
            "<class 'pandas.core.frame.DataFrame'>\n",
            "RangeIndex: 181218 entries, 0 to 181217\n",
            "Data columns (total 15 columns):\n",
            " #   Column                  Non-Null Count   Dtype         \n",
            "---  ------                  --------------   -----         \n",
            " 0   order_id                181218 non-null  Int64         \n",
            " 1   user_id                 181218 non-null  Int64         \n",
            " 2   country                 181218 non-null  object        \n",
            " 3   age                     181218 non-null  Int64         \n",
            " 4   gender                  181218 non-null  object        \n",
            " 5   product_id              181218 non-null  Int64         \n",
            " 6   sale_price              181218 non-null  float64       \n",
            " 7   shipped_at              118119 non-null  datetime64[ns]\n",
            " 8   cost                    181218 non-null  float64       \n",
            " 9   category                181218 non-null  object        \n",
            " 10  department              181218 non-null  object        \n",
            " 11  distribution_center_id  181218 non-null  Int64         \n",
            " 12  dc_state                181218 non-null  object        \n",
            " 13  profit                  181218 non-null  float64       \n",
            " 14  profit_margin           181218 non-null  float64       \n",
            "dtypes: Int64(5), datetime64[ns](1), float64(4), object(5)\n",
            "memory usage: 21.6+ MB\n"
          ]
        }
      ]
    },
    {
      "cell_type": "code",
      "source": [
        "# age distribution\n",
        "\n",
        "import seaborn as sns\n",
        "import matplotlib.pyplot as plt\n",
        "sns.displot(orders['age'],kde=False)"
      ],
      "metadata": {
        "colab": {
          "base_uri": "https://localhost:8080/",
          "height": 613
        },
        "id": "-EwAb6SM-USR",
        "outputId": "02dc7005-142b-42b5-fc89-69e0c07867ca"
      },
      "execution_count": null,
      "outputs": [
        {
          "output_type": "stream",
          "name": "stderr",
          "text": [
            "/usr/local/lib/python3.9/dist-packages/seaborn/distributions.py:499: FutureWarning: In a future version, the Index constructor will not infer numeric dtypes when passed object-dtype sequences (matching Series behavior)\n",
            "  pd.Index(edges, name=\"edges\"),\n",
            "/usr/local/lib/python3.9/dist-packages/seaborn/distributions.py:500: FutureWarning: In a future version, the Index constructor will not infer numeric dtypes when passed object-dtype sequences (matching Series behavior)\n",
            "  pd.Index(widths, name=\"widths\"),\n"
          ]
        },
        {
          "output_type": "execute_result",
          "data": {
            "text/plain": [
              "<seaborn.axisgrid.FacetGrid at 0x7fa68907c1f0>"
            ]
          },
          "metadata": {},
          "execution_count": 33
        },
        {
          "output_type": "display_data",
          "data": {
            "text/plain": [
              "<Figure size 500x500 with 1 Axes>"
            ],
            "image/png": "[encoded data removed]"
          },
          "metadata": {}
        }
      ]
    },
    {
      "cell_type": "code",
      "source": [
        "# Comparing number of orders by gender\n",
        "\n",
        "plt.figure(figsize=(6,4))\n",
        "sns.countplot(x='gender', data=orders)"
      ],
      "metadata": {
        "colab": {
          "base_uri": "https://localhost:8080/",
          "height": 405
        },
        "id": "uIN35izeQSli",
        "outputId": "c5f2fd2f-090b-4eda-85f6-ba508f1b4e7b"
      },
      "execution_count": null,
      "outputs": [
        {
          "output_type": "execute_result",
          "data": {
            "text/plain": [
              "<Axes: xlabel='gender', ylabel='count'>"
            ]
          },
          "metadata": {},
          "execution_count": 34
        },
        {
          "output_type": "display_data",
          "data": {
            "text/plain": [
              "<Figure size 600x400 with 1 Axes>"
            ],
            "image/png": "[encoded data removed]"
          },
          "metadata": {}
        }
      ]
    },
    {
      "cell_type": "code",
      "source": [
        "orders['gender'].value_counts()"
      ],
      "metadata": {
        "colab": {
          "base_uri": "https://localhost:8080/"
        },
        "id": "Owenkn0r_TUS",
        "outputId": "6e8bce9f-c447-499d-ee2c-b46d9972a7c3"
      },
      "execution_count": null,
      "outputs": [
        {
          "output_type": "execute_result",
          "data": {
            "text/plain": [
              "M    90807\n",
              "F    90411\n",
              "Name: gender, dtype: int64"
            ]
          },
          "metadata": {},
          "execution_count": 35
        }
      ]
    },
    {
      "cell_type": "code",
      "source": [
        "# average customer age by gender\n",
        "\n",
        "orders.groupby('gender')['age'].mean()"
      ],
      "metadata": {
        "colab": {
          "base_uri": "https://localhost:8080/"
        },
        "id": "eeqX1m4RAXqv",
        "outputId": "48db4fe4-3b89-4781-ce68-bcbcd0134e4d"
      },
      "execution_count": null,
      "outputs": [
        {
          "output_type": "execute_result",
          "data": {
            "text/plain": [
              "gender\n",
              "F    40.904237\n",
              "M    41.122259\n",
              "Name: age, dtype: Float64"
            ]
          },
          "metadata": {},
          "execution_count": 36
        }
      ]
    },
    {
      "cell_type": "code",
      "source": [
        "# number of different product id's\n",
        "\n",
        "orders['product_id'].nunique()"
      ],
      "metadata": {
        "colab": {
          "base_uri": "https://localhost:8080/"
        },
        "id": "qLrgrcQXCDjE",
        "outputId": "d8f48960-935b-4f2e-c5a6-3c7ce28bf1dc"
      },
      "execution_count": null,
      "outputs": [
        {
          "output_type": "execute_result",
          "data": {
            "text/plain": [
              "29035"
            ]
          },
          "metadata": {},
          "execution_count": 37
        }
      ]
    },
    {
      "cell_type": "code",
      "source": [
        "# sale price distribution\n",
        "\n",
        "import seaborn as sns\n",
        "import matplotlib.pyplot as plt\n",
        "sns.displot(orders['sale_price'],kde=False)"
      ],
      "metadata": {
        "colab": {
          "base_uri": "https://localhost:8080/",
          "height": 523
        },
        "id": "E8bVlyK1_jvN",
        "outputId": "8b3268c9-332c-40c2-c0ab-d9edf28586d2"
      },
      "execution_count": null,
      "outputs": [
        {
          "output_type": "execute_result",
          "data": {
            "text/plain": [
              "<seaborn.axisgrid.FacetGrid at 0x7fa688efaa00>"
            ]
          },
          "metadata": {},
          "execution_count": 38
        },
        {
          "output_type": "display_data",
          "data": {
            "text/plain": [
              "<Figure size 500x500 with 1 Axes>"
            ],
            "image/png": "[encoded data removed]"
          },
          "metadata": {}
        }
      ]
    },
    {
      "cell_type": "code",
      "source": [
        "orders['sale_price'].max()"
      ],
      "metadata": {
        "colab": {
          "base_uri": "https://localhost:8080/"
        },
        "id": "PV0ZrAxzAjJc",
        "outputId": "42260543-c20f-4062-c273-d06db591f896"
      },
      "execution_count": null,
      "outputs": [
        {
          "output_type": "execute_result",
          "data": {
            "text/plain": [
              "999.0"
            ]
          },
          "metadata": {},
          "execution_count": 39
        }
      ]
    },
    {
      "cell_type": "code",
      "source": [
        "# sales profit distribution\n",
        "\n",
        "import seaborn as sns\n",
        "import matplotlib.pyplot as plt\n",
        "sns.displot(orders['profit'],kde=False)"
      ],
      "metadata": {
        "colab": {
          "base_uri": "https://localhost:8080/",
          "height": 523
        },
        "id": "TkHolup4-tfc",
        "outputId": "14093be6-b250-4c4f-f503-8e2a3f053738"
      },
      "execution_count": null,
      "outputs": [
        {
          "output_type": "execute_result",
          "data": {
            "text/plain": [
              "<seaborn.axisgrid.FacetGrid at 0x7fa688f3e6d0>"
            ]
          },
          "metadata": {},
          "execution_count": 40
        },
        {
          "output_type": "display_data",
          "data": {
            "text/plain": [
              "<Figure size 500x500 with 1 Axes>"
            ],
            "image/png": "[encoded data removed]"
          },
          "metadata": {}
        }
      ]
    },
    {
      "cell_type": "code",
      "source": [
        "orders['profit'].max()"
      ],
      "metadata": {
        "colab": {
          "base_uri": "https://localhost:8080/"
        },
        "id": "t2yVm0Q1JBmH",
        "outputId": "f440e19b-f02e-42da-d6f0-e4ab9eab3d12"
      },
      "execution_count": null,
      "outputs": [
        {
          "output_type": "execute_result",
          "data": {
            "text/plain": [
              "594.4"
            ]
          },
          "metadata": {},
          "execution_count": 41
        }
      ]
    },
    {
      "cell_type": "code",
      "source": [
        "orders['profit'].min()"
      ],
      "metadata": {
        "colab": {
          "base_uri": "https://localhost:8080/"
        },
        "id": "sYAX7SgvJFfu",
        "outputId": "3ab4487d-7a53-4172-c41c-cefe6de942b7"
      },
      "execution_count": null,
      "outputs": [
        {
          "output_type": "execute_result",
          "data": {
            "text/plain": [
              "0.01"
            ]
          },
          "metadata": {},
          "execution_count": 43
        }
      ]
    },
    {
      "cell_type": "code",
      "source": [
        "# average sales price by gender\n",
        "\n",
        "orders.groupby('gender')['sale_price'].mean()"
      ],
      "metadata": {
        "colab": {
          "base_uri": "https://localhost:8080/"
        },
        "id": "Qx6C5pbWzWPc",
        "outputId": "8ad2ce74-2bec-4939-b802-003183a71be5"
      },
      "execution_count": null,
      "outputs": [
        {
          "output_type": "execute_result",
          "data": {
            "text/plain": [
              "gender\n",
              "F    55.963791\n",
              "M    63.080977\n",
              "Name: sale_price, dtype: float64"
            ]
          },
          "metadata": {},
          "execution_count": 44
        }
      ]
    },
    {
      "cell_type": "code",
      "source": [
        "# Number of customer orders by category\n",
        "\n",
        "orders['category'].value_counts().sort_values(ascending=False)"
      ],
      "metadata": {
        "colab": {
          "base_uri": "https://localhost:8080/"
        },
        "id": "NXAeK_eIA8im",
        "outputId": "a2d65c99-19b6-4f50-c88d-1c1812d868e6"
      },
      "execution_count": null,
      "outputs": [
        {
          "output_type": "execute_result",
          "data": {
            "text/plain": [
              "Intimates                        13345\n",
              "Jeans                            12751\n",
              "Tops & Tees                      11808\n",
              "Fashion Hoodies & Sweatshirts    11526\n",
              "Swim                             11400\n",
              "Sleep & Lounge                   11127\n",
              "Sweaters                         11111\n",
              "Shorts                           11082\n",
              "Accessories                      10061\n",
              "Active                            9170\n",
              "Outerwear & Coats                 9007\n",
              "Underwear                         7402\n",
              "Pants                             7257\n",
              "Socks                             6365\n",
              "Dresses                           5468\n",
              "Suits & Sport Coats               5079\n",
              "Maternity                         5050\n",
              "Plus                              4284\n",
              "Socks & Hosiery                   3697\n",
              "Pants & Capris                    3541\n",
              "Leggings                          3260\n",
              "Blazers & Jackets                 3129\n",
              "Skirts                            2125\n",
              "Suits                             1066\n",
              "Jumpsuits & Rompers                906\n",
              "Clothing Sets                      201\n",
              "Name: category, dtype: int64"
            ]
          },
          "metadata": {},
          "execution_count": 45
        }
      ]
    },
    {
      "cell_type": "code",
      "source": [
        "orders['department'].value_counts()"
      ],
      "metadata": {
        "colab": {
          "base_uri": "https://localhost:8080/"
        },
        "id": "mk6loM3PBJPb",
        "outputId": "389b4e5c-e4e0-4128-8a11-9b4bd6b8e467"
      },
      "execution_count": null,
      "outputs": [
        {
          "output_type": "execute_result",
          "data": {
            "text/plain": [
              "Men      90807\n",
              "Women    90411\n",
              "Name: department, dtype: int64"
            ]
          },
          "metadata": {},
          "execution_count": 46
        }
      ]
    },
    {
      "cell_type": "code",
      "source": [
        "orders.groupby('gender')['department'].value_counts()\n",
        "\n",
        "# gender and department are the same"
      ],
      "metadata": {
        "colab": {
          "base_uri": "https://localhost:8080/"
        },
        "id": "-RivsiPSQkjY",
        "outputId": "898ca8ad-f444-4007-9598-b43419a63e80"
      },
      "execution_count": null,
      "outputs": [
        {
          "output_type": "execute_result",
          "data": {
            "text/plain": [
              "gender  department\n",
              "F       Women         90411\n",
              "M       Men           90807\n",
              "Name: department, dtype: int64"
            ]
          },
          "metadata": {},
          "execution_count": 47
        }
      ]
    },
    {
      "cell_type": "code",
      "source": [
        "# bar graph showing number of customer purchases by country\n",
        "\n",
        "plt.figure(figsize=(12,6))\n",
        "plt.xticks(rotation=45)\n",
        "sns.countplot(x='country', data=orders)"
      ],
      "metadata": {
        "colab": {
          "base_uri": "https://localhost:8080/",
          "height": 633
        },
        "id": "GusnYekmMXgN",
        "outputId": "4f8b8bd3-3323-42df-de54-0c20fe35bfb7"
      },
      "execution_count": null,
      "outputs": [
        {
          "output_type": "execute_result",
          "data": {
            "text/plain": [
              "<Axes: xlabel='country', ylabel='count'>"
            ]
          },
          "metadata": {},
          "execution_count": 48
        },
        {
          "output_type": "display_data",
          "data": {
            "text/plain": [
              "<Figure size 1200x600 with 1 Axes>"
            ],
            "image/png": "[encoded data removed]"
          },
          "metadata": {}
        }
      ]
    },
    {
      "cell_type": "code",
      "source": [
        "# Order of sales by category for China\n",
        "\n",
        "orders[orders['country']=='China']['category'].value_counts()"
      ],
      "metadata": {
        "colab": {
          "base_uri": "https://localhost:8080/"
        },
        "id": "PG9Vme2Qd3dO",
        "outputId": "099b74b8-f5eb-480a-fc01-866462953c6b"
      },
      "execution_count": null,
      "outputs": [
        {
          "output_type": "execute_result",
          "data": {
            "text/plain": [
              "Intimates                        4540\n",
              "Jeans                            4390\n",
              "Tops & Tees                      4019\n",
              "Swim                             3909\n",
              "Fashion Hoodies & Sweatshirts    3909\n",
              "Shorts                           3800\n",
              "Sweaters                         3799\n",
              "Sleep & Lounge                   3769\n",
              "Accessories                      3457\n",
              "Outerwear & Coats                3096\n",
              "Active                           3082\n",
              "Underwear                        2550\n",
              "Pants                            2540\n",
              "Socks                            2155\n",
              "Dresses                          1851\n",
              "Suits & Sport Coats              1762\n",
              "Maternity                        1709\n",
              "Plus                             1476\n",
              "Socks & Hosiery                  1252\n",
              "Pants & Capris                   1206\n",
              "Leggings                         1092\n",
              "Blazers & Jackets                1002\n",
              "Skirts                            723\n",
              "Suits                             347\n",
              "Jumpsuits & Rompers               309\n",
              "Clothing Sets                      67\n",
              "Name: category, dtype: int64"
            ]
          },
          "metadata": {},
          "execution_count": 49
        }
      ]
    },
    {
      "cell_type": "code",
      "source": [
        "# Order of sales by category for United States\n",
        "\n",
        "orders[orders['country']=='United States']['category'].value_counts()"
      ],
      "metadata": {
        "colab": {
          "base_uri": "https://localhost:8080/"
        },
        "id": "HIiBp4GZe6rP",
        "outputId": "48fc438c-b3d4-4c62-885a-9a874bc24e93"
      },
      "execution_count": null,
      "outputs": [
        {
          "output_type": "execute_result",
          "data": {
            "text/plain": [
              "Intimates                        2997\n",
              "Jeans                            2856\n",
              "Fashion Hoodies & Sweatshirts    2600\n",
              "Tops & Tees                      2600\n",
              "Swim                             2560\n",
              "Sleep & Lounge                   2554\n",
              "Shorts                           2473\n",
              "Sweaters                         2459\n",
              "Accessories                      2240\n",
              "Active                           2065\n",
              "Outerwear & Coats                2046\n",
              "Underwear                        1679\n",
              "Pants                            1602\n",
              "Socks                            1398\n",
              "Dresses                          1293\n",
              "Maternity                        1140\n",
              "Suits & Sport Coats              1109\n",
              "Plus                              945\n",
              "Socks & Hosiery                   836\n",
              "Pants & Capris                    772\n",
              "Blazers & Jackets                 741\n",
              "Leggings                          732\n",
              "Skirts                            477\n",
              "Jumpsuits & Rompers               233\n",
              "Suits                             229\n",
              "Clothing Sets                      47\n",
              "Name: category, dtype: int64"
            ]
          },
          "metadata": {},
          "execution_count": 50
        }
      ]
    },
    {
      "cell_type": "code",
      "source": [
        "# Order of sales by category for women's department\n",
        "\n",
        "orders[orders['department']=='Women']['category'].value_counts()"
      ],
      "metadata": {
        "colab": {
          "base_uri": "https://localhost:8080/"
        },
        "id": "oe47ygVXCicI",
        "outputId": "23670a77-2389-4119-a0d6-b0c1301c988c"
      },
      "execution_count": null,
      "outputs": [
        {
          "output_type": "execute_result",
          "data": {
            "text/plain": [
              "Intimates                        13345\n",
              "Dresses                           5468\n",
              "Jeans                             5068\n",
              "Maternity                         5050\n",
              "Swim                              5003\n",
              "Fashion Hoodies & Sweatshirts     4983\n",
              "Shorts                            4672\n",
              "Sleep & Lounge                    4613\n",
              "Tops & Tees                       4367\n",
              "Accessories                       4294\n",
              "Plus                              4284\n",
              "Sweaters                          4143\n",
              "Active                            3841\n",
              "Socks & Hosiery                   3697\n",
              "Pants & Capris                    3541\n",
              "Outerwear & Coats                 3355\n",
              "Leggings                          3260\n",
              "Blazers & Jackets                 3129\n",
              "Skirts                            2125\n",
              "Suits                             1066\n",
              "Jumpsuits & Rompers                906\n",
              "Clothing Sets                      201\n",
              "Name: category, dtype: int64"
            ]
          },
          "metadata": {},
          "execution_count": 51
        }
      ]
    },
    {
      "cell_type": "code",
      "source": [
        "# Order of sales by category for men's department\n",
        "\n",
        "orders[orders['department']=='Men']['category'].value_counts()"
      ],
      "metadata": {
        "colab": {
          "base_uri": "https://localhost:8080/"
        },
        "id": "WD3RSS14C7w_",
        "outputId": "8f2f9436-6495-4eff-c904-4368a71d18b2"
      },
      "execution_count": null,
      "outputs": [
        {
          "output_type": "execute_result",
          "data": {
            "text/plain": [
              "Jeans                            7683\n",
              "Tops & Tees                      7441\n",
              "Underwear                        7402\n",
              "Pants                            7257\n",
              "Sweaters                         6968\n",
              "Fashion Hoodies & Sweatshirts    6543\n",
              "Sleep & Lounge                   6514\n",
              "Shorts                           6410\n",
              "Swim                             6397\n",
              "Socks                            6365\n",
              "Accessories                      5767\n",
              "Outerwear & Coats                5652\n",
              "Active                           5329\n",
              "Suits & Sport Coats              5079\n",
              "Name: category, dtype: int64"
            ]
          },
          "metadata": {},
          "execution_count": 52
        }
      ]
    },
    {
      "cell_type": "code",
      "source": [
        "# There are 1996 different product id #'s for jeans\n",
        "orders[orders['category']=='Jeans']['product_id'].value_counts()"
      ],
      "metadata": {
        "colab": {
          "base_uri": "https://localhost:8080/"
        },
        "id": "aKiNr-9UhR7U",
        "outputId": "8810a0dd-334f-4bd2-dd8b-0989c9ec3128"
      },
      "execution_count": null,
      "outputs": [
        {
          "output_type": "execute_result",
          "data": {
            "text/plain": [
              "20606    17\n",
              "4981     16\n",
              "21339    16\n",
              "21236    15\n",
              "21531    15\n",
              "         ..\n",
              "4253      1\n",
              "21324     1\n",
              "21645     1\n",
              "4442      1\n",
              "20940     1\n",
              "Name: product_id, Length: 1996, dtype: Int64"
            ]
          },
          "metadata": {},
          "execution_count": 53
        }
      ]
    },
    {
      "cell_type": "code",
      "source": [
        "# bar graph showing number of customer purchases by DC\n",
        "\n",
        "plt.figure(figsize=(10,4))\n",
        "sns.countplot(x='dc_state', data=orders)"
      ],
      "metadata": {
        "colab": {
          "base_uri": "https://localhost:8080/",
          "height": 407
        },
        "id": "pWk_dlS6ie_d",
        "outputId": "c9f43732-44a6-4098-dd2b-b38e0830ab93"
      },
      "execution_count": null,
      "outputs": [
        {
          "output_type": "execute_result",
          "data": {
            "text/plain": [
              "<Axes: xlabel='dc_state', ylabel='count'>"
            ]
          },
          "metadata": {},
          "execution_count": 54
        },
        {
          "output_type": "display_data",
          "data": {
            "text/plain": [
              "<Figure size 1000x400 with 1 Axes>"
            ],
            "image/png": "[encoded data removed]"
          },
          "metadata": {}
        }
      ]
    },
    {
      "cell_type": "code",
      "source": [
        "# sales plot over time\n",
        "plt.figure(figsize=(12,6))\n",
        "orders.groupby('shipped_at')['sale_price'].sum().plot()"
      ],
      "metadata": {
        "colab": {
          "base_uri": "https://localhost:8080/",
          "height": 559
        },
        "id": "N7a7jBeQe4qN",
        "outputId": "8bf39d06-ff8e-4535-ad48-4135c2ef9fb3"
      },
      "execution_count": null,
      "outputs": [
        {
          "output_type": "execute_result",
          "data": {
            "text/plain": [
              "<Axes: xlabel='shipped_at'>"
            ]
          },
          "metadata": {},
          "execution_count": 55
        },
        {
          "output_type": "display_data",
          "data": {
            "text/plain": [
              "<Figure size 1200x600 with 1 Axes>"
            ],
            "image/png": "[encoded data removed]"
          },
          "metadata": {}
        }
      ]
    },
    {
      "cell_type": "code",
      "source": [
        "# plot of profits over time\n",
        "plt.figure(figsize=(12,6))\n",
        "orders.groupby('shipped_at')['profit'].sum().plot()"
      ],
      "metadata": {
        "colab": {
          "base_uri": "https://localhost:8080/",
          "height": 559
        },
        "id": "esJOumXVBllr",
        "outputId": "6aeb9c50-b1b6-4f22-a851-4a86d3638c11"
      },
      "execution_count": null,
      "outputs": [
        {
          "output_type": "execute_result",
          "data": {
            "text/plain": [
              "<Axes: xlabel='shipped_at'>"
            ]
          },
          "metadata": {},
          "execution_count": 56
        },
        {
          "output_type": "display_data",
          "data": {
            "text/plain": [
              "<Figure size 1200x600 with 1 Axes>"
            ],
            "image/png": "[encoded data removed]"
          },
          "metadata": {}
        }
      ]
    },
    {
      "cell_type": "code",
      "source": [
        "# last ship date\n",
        "\n",
        "orders['shipped_at'].max()"
      ],
      "metadata": {
        "colab": {
          "base_uri": "https://localhost:8080/"
        },
        "id": "d35VfidEsZqu",
        "outputId": "139c30bd-d9a2-4185-cd63-ba4312c71e72"
      },
      "execution_count": null,
      "outputs": [
        {
          "output_type": "execute_result",
          "data": {
            "text/plain": [
              "Timestamp('2023-04-01 00:00:00')"
            ]
          },
          "metadata": {},
          "execution_count": 57
        }
      ]
    },
    {
      "cell_type": "code",
      "source": [
        "# first ship date\n",
        "\n",
        "orders['shipped_at'].min()"
      ],
      "metadata": {
        "colab": {
          "base_uri": "https://localhost:8080/"
        },
        "id": "3AFAOrXjsf3d",
        "outputId": "3dba2c2f-de26-46fe-dd8c-e1f3669497fc"
      },
      "execution_count": null,
      "outputs": [
        {
          "output_type": "execute_result",
          "data": {
            "text/plain": [
              "Timestamp('2019-01-01 00:00:00')"
            ]
          },
          "metadata": {},
          "execution_count": 58
        }
      ]
    },
    {
      "cell_type": "code",
      "source": [
        "# Sales volume by DC\n",
        "\n",
        "orders.groupby('dc_state')['sale_price'].sum().sort_values()"
      ],
      "metadata": {
        "id": "GMTcMj6ro7Co",
        "colab": {
          "base_uri": "https://localhost:8080/"
        },
        "outputId": "e9fe1bb1-fc3c-489b-a532-5f3a012cd3d7"
      },
      "execution_count": null,
      "outputs": [
        {
          "output_type": "execute_result",
          "data": {
            "text/plain": [
              "dc_state\n",
              "SC     645360.08\n",
              "GA     811602.93\n",
              "LA     817900.67\n",
              "NJ     926093.82\n",
              "CA     964019.93\n",
              "PA    1083780.40\n",
              "AL    1215873.13\n",
              "IL    1346669.62\n",
              "TN    1378677.15\n",
              "TX    1597958.91\n",
              "Name: sale_price, dtype: float64"
            ]
          },
          "metadata": {},
          "execution_count": 59
        }
      ]
    },
    {
      "cell_type": "code",
      "source": [
        "# Profit by DC\n",
        "\n",
        "orders.groupby('dc_state')['profit'].sum().sort_values()"
      ],
      "metadata": {
        "colab": {
          "base_uri": "https://localhost:8080/"
        },
        "id": "7X8atfbABvTp",
        "outputId": "22743a64-e726-4f0c-81b9-8b36c6d64a20"
      },
      "execution_count": null,
      "outputs": [
        {
          "output_type": "execute_result",
          "data": {
            "text/plain": [
              "dc_state\n",
              "SC    325294.61\n",
              "GA    411730.81\n",
              "LA    431456.26\n",
              "NJ    478896.06\n",
              "CA    498267.34\n",
              "PA    551084.14\n",
              "AL    621410.06\n",
              "IL    705307.89\n",
              "TN    723301.24\n",
              "TX    851418.25\n",
              "Name: profit, dtype: float64"
            ]
          },
          "metadata": {},
          "execution_count": 63
        }
      ]
    },
    {
      "cell_type": "code",
      "source": [
        "# Sales volume by country\n",
        "\n",
        "orders.groupby('country')['sale_price'].sum().sort_values()"
      ],
      "metadata": {
        "id": "enChc7Zmo7WN",
        "colab": {
          "base_uri": "https://localhost:8080/"
        },
        "outputId": "55dbc831-6871-4981-b447-9148fdc1b21c"
      },
      "execution_count": null,
      "outputs": [
        {
          "output_type": "execute_result",
          "data": {
            "text/plain": [
              "country\n",
              "España                109.89\n",
              "Austria               339.94\n",
              "Colombia             1552.13\n",
              "Poland              23618.51\n",
              "Belgium            133496.62\n",
              "Australia          243037.61\n",
              "Japan              251648.82\n",
              "Germany            444747.26\n",
              "Spain              450590.29\n",
              "United Kingdom     495116.72\n",
              "France             509877.86\n",
              "South Korea        571700.82\n",
              "Brasil            1570158.12\n",
              "United States     2423242.91\n",
              "China             3668699.14\n",
              "Name: sale_price, dtype: float64"
            ]
          },
          "metadata": {},
          "execution_count": 64
        }
      ]
    },
    {
      "cell_type": "code",
      "source": [
        "# Sales volume by age\n",
        "\n",
        "Age_sales = orders.groupby('age')['sale_price'].sum().sort_values()\n",
        "Age_sales"
      ],
      "metadata": {
        "colab": {
          "base_uri": "https://localhost:8080/"
        },
        "id": "nPhlnUJnwQ2W",
        "outputId": "4f27e545-8f45-400e-94c7-2b1d50cd46af"
      },
      "execution_count": null,
      "outputs": [
        {
          "output_type": "execute_result",
          "data": {
            "text/plain": [
              "age\n",
              "26    168924.23\n",
              "40    170726.96\n",
              "22    171259.55\n",
              "63    172073.91\n",
              "57    173252.54\n",
              "42    173970.82\n",
              "48    174239.51\n",
              "46    174659.99\n",
              "69    174717.99\n",
              "53    175495.71\n",
              "19    176435.52\n",
              "24    177183.69\n",
              "27    177509.40\n",
              "23    178000.68\n",
              "30    178590.79\n",
              "31    178632.94\n",
              "44    178803.70\n",
              "60    178890.62\n",
              "21    179156.65\n",
              "52    179285.89\n",
              "38    179694.19\n",
              "56    180100.37\n",
              "33    180124.95\n",
              "18    180223.29\n",
              "70    180405.91\n",
              "45    180691.68\n",
              "47    180730.57\n",
              "34    180795.83\n",
              "25    181556.17\n",
              "49    181738.20\n",
              "58    182003.16\n",
              "36    182638.05\n",
              "54    182878.08\n",
              "17    183067.62\n",
              "39    183423.45\n",
              "62    183508.62\n",
              "66    184673.40\n",
              "55    185524.38\n",
              "35    185971.26\n",
              "37    186120.74\n",
              "65    186549.82\n",
              "61    186913.31\n",
              "12    187410.50\n",
              "43    187877.14\n",
              "14    187969.08\n",
              "28    188752.05\n",
              "16    189229.39\n",
              "50    189496.08\n",
              "67    189568.06\n",
              "13    189675.55\n",
              "59    189966.60\n",
              "20    191262.05\n",
              "29    191721.40\n",
              "15    192393.67\n",
              "68    192624.17\n",
              "64    192649.33\n",
              "51    196341.78\n",
              "41    198473.64\n",
              "32    201382.01\n",
              "Name: sale_price, dtype: float64"
            ]
          },
          "metadata": {},
          "execution_count": 65
        }
      ]
    },
    {
      "cell_type": "code",
      "source": [
        "orders[[\"age\", \"sale_price\"]].corr()\n",
        "\n",
        "# no correlation between sales and age"
      ],
      "metadata": {
        "colab": {
          "base_uri": "https://localhost:8080/",
          "height": 133
        },
        "id": "Aloc6TPvwt98",
        "outputId": "8bea618e-28fb-4a7f-c9e6-7292e12bea9a"
      },
      "execution_count": null,
      "outputs": [
        {
          "output_type": "execute_result",
          "data": {
            "text/plain": [
              "                 age  sale_price\n",
              "age         1.000000   -0.001393\n",
              "sale_price -0.001393    1.000000"
            ],
            "text/html": [
              "\n",
              "  <div id=\"df-5ec4c487-c785-4f1e-91df-1a6fad87019d\">\n",
              "    <div class=\"colab-df-container\">\n",
              "      <div>\n",
              "<style scoped>\n",
              "    .dataframe tbody tr th:only-of-type {\n",
              "        vertical-align: middle;\n",
              "    }\n",
              "\n",
              "    .dataframe tbody tr th {\n",
              "        vertical-align: top;\n",
              "    }\n",
              "\n",
              "    .dataframe thead th {\n",
              "        text-align: right;\n",
              "    }\n",
              "</style>\n",
              "<table border=\"1\" class=\"dataframe\">\n",
              "  <thead>\n",
              "    <tr style=\"text-align: right;\">\n",
              "      <th></th>\n",
              "      <th>age</th>\n",
              "      <th>sale_price</th>\n",
              "    </tr>\n",
              "  </thead>\n",
              "  <tbody>\n",
              "    <tr>\n",
              "      <th>age</th>\n",
              "      <td>1.000000</td>\n",
              "      <td>-0.001393</td>\n",
              "    </tr>\n",
              "    <tr>\n",
              "      <th>sale_price</th>\n",
              "      <td>-0.001393</td>\n",
              "      <td>1.000000</td>\n",
              "    </tr>\n",
              "  </tbody>\n",
              "</table>\n",
              "</div>\n",
              "      <button class=\"colab-df-convert\" onclick=\"convertToInteractive('df-5ec4c487-c785-4f1e-91df-1a6fad87019d')\"\n",
              "              title=\"Convert this dataframe to an interactive table.\"\n",
              "              style=\"display:none;\">\n",
              "        \n",
              "  <svg xmlns=\"http://www.w3.org/2000/svg\" height=\"24px\"viewBox=\"0 0 24 24\"\n",
              "       width=\"24px\">\n",
              "    <path d=\"M0 0h24v24H0V0z\" fill=\"none\"/>\n",
              "    <path d=\"M18.56 5.44l.94 2.06.94-2.06 2.06-.94-2.06-.94-.94-2.06-.94 2.06-2.06.94zm-11 1L8.5 8.5l.94-2.06 2.06-.94-2.06-.94L8.5 2.5l-.94 2.06-2.06.94zm10 10l.94 2.06.94-2.06 2.06-.94-2.06-.94-.94-2.06-.94 2.06-2.06.94z\"/><path d=\"M17.41 7.96l-1.37-1.37c-.4-.4-.92-.59-1.43-.59-.52 0-1.04.2-1.43.59L10.3 9.45l-7.72 7.72c-.78.78-.78 2.05 0 2.83L4 21.41c.39.39.9.59 1.41.59.51 0 1.02-.2 1.41-.59l7.78-7.78 2.81-2.81c.8-.78.8-2.07 0-2.86zM5.41 20L4 18.59l7.72-7.72 1.47 1.35L5.41 20z\"/>\n",
              "  </svg>\n",
              "      </button>\n",
              "      \n",
              "  <style>\n",
              "    .colab-df-container {\n",
              "      display:flex;\n",
              "      flex-wrap:wrap;\n",
              "      gap: 12px;\n",
              "    }\n",
              "\n",
              "    .colab-df-convert {\n",
              "      background-color: #E8F0FE;\n",
              "      border: none;\n",
              "      border-radius: 50%;\n",
              "      cursor: pointer;\n",
              "      display: none;\n",
              "      fill: #1967D2;\n",
              "      height: 32px;\n",
              "      padding: 0 0 0 0;\n",
              "      width: 32px;\n",
              "    }\n",
              "\n",
              "    .colab-df-convert:hover {\n",
              "      background-color: #E2EBFA;\n",
              "      box-shadow: 0px 1px 2px rgba(60, 64, 67, 0.3), 0px 1px 3px 1px rgba(60, 64, 67, 0.15);\n",
              "      fill: #174EA6;\n",
              "    }\n",
              "\n",
              "    [theme=dark] .colab-df-convert {\n",
              "      background-color: #3B4455;\n",
              "      fill: #D2E3FC;\n",
              "    }\n",
              "\n",
              "    [theme=dark] .colab-df-convert:hover {\n",
              "      background-color: #434B5C;\n",
              "      box-shadow: 0px 1px 3px 1px rgba(0, 0, 0, 0.15);\n",
              "      filter: drop-shadow(0px 1px 2px rgba(0, 0, 0, 0.3));\n",
              "      fill: #FFFFFF;\n",
              "    }\n",
              "  </style>\n",
              "\n",
              "      <script>\n",
              "        const buttonEl =\n",
              "          document.querySelector('#df-5ec4c487-c785-4f1e-91df-1a6fad87019d button.colab-df-convert');\n",
              "        buttonEl.style.display =\n",
              "          google.colab.kernel.accessAllowed ? 'block' : 'none';\n",
              "\n",
              "        async function convertToInteractive(key) {\n",
              "          const element = document.querySelector('#df-5ec4c487-c785-4f1e-91df-1a6fad87019d');\n",
              "          const dataTable =\n",
              "            await google.colab.kernel.invokeFunction('convertToInteractive',\n",
              "                                                     [key], {});\n",
              "          if (!dataTable) return;\n",
              "\n",
              "          const docLinkHtml = 'Like what you see? Visit the ' +\n",
              "            '<a target=\"_blank\" href=https://colab.research.google.com/notebooks/data_table.ipynb>data table notebook</a>'\n",
              "            + ' to learn more about interactive tables.';\n",
              "          element.innerHTML = '';\n",
              "          dataTable['output_type'] = 'display_data';\n",
              "          await google.colab.output.renderOutput(dataTable, element);\n",
              "          const docLink = document.createElement('div');\n",
              "          docLink.innerHTML = docLinkHtml;\n",
              "          element.appendChild(docLink);\n",
              "        }\n",
              "      </script>\n",
              "    </div>\n",
              "  </div>\n",
              "  "
            ],
            "application/vnd.google.colaboratory.module+javascript": "\n      import \"https://ssl.gstatic.com/colaboratory/data_table/99dac6621f6ae8c4/data_table.js\";\n\n      window.createDataTable({\n        data: [[\"age\",\n{\n            'v': 1.0,\n            'f': \"1.0\",\n        },\n{\n            'v': -0.0013932967834196597,\n            'f': \"-0.0013932967834196597\",\n        }],\n [\"sale_price\",\n{\n            'v': -0.0013932967834196597,\n            'f': \"-0.0013932967834196597\",\n        },\n{\n            'v': 1.0,\n            'f': \"1.0\",\n        }]],\n        columns: [[\"string\", \"index\"], [\"number\", \"age\"], [\"number\", \"sale_price\"]],\n        columnOptions: [{\"width\": \"1px\", \"className\": \"index_column\"}],\n        rowsPerPage: 25,\n        helpUrl: \"https://colab.research.google.com/notebooks/data_table.ipynb\",\n        suppressOutputScrolling: true,\n        minimumWidth: undefined,\n      });\n    "
          },
          "metadata": {},
          "execution_count": 66
        }
      ]
    },
    {
      "cell_type": "code",
      "source": [
        "orders[[\"profit\", \"sale_price\"]].corr()\n",
        "\n",
        "# correlation between profit and sale price is very strong"
      ],
      "metadata": {
        "colab": {
          "base_uri": "https://localhost:8080/",
          "height": 133
        },
        "id": "nb_I0yjkCAjn",
        "outputId": "ea0a12b6-44a4-426c-9a45-8709cd504818"
      },
      "execution_count": null,
      "outputs": [
        {
          "output_type": "execute_result",
          "data": {
            "text/plain": [
              "              profit  sale_price\n",
              "profit      1.000000    0.987272\n",
              "sale_price  0.987272    1.000000"
            ],
            "text/html": [
              "\n",
              "  <div id=\"df-63b0e685-a332-438c-8bd7-dbc3aeadd283\">\n",
              "    <div class=\"colab-df-container\">\n",
              "      <div>\n",
              "<style scoped>\n",
              "    .dataframe tbody tr th:only-of-type {\n",
              "        vertical-align: middle;\n",
              "    }\n",
              "\n",
              "    .dataframe tbody tr th {\n",
              "        vertical-align: top;\n",
              "    }\n",
              "\n",
              "    .dataframe thead th {\n",
              "        text-align: right;\n",
              "    }\n",
              "</style>\n",
              "<table border=\"1\" class=\"dataframe\">\n",
              "  <thead>\n",
              "    <tr style=\"text-align: right;\">\n",
              "      <th></th>\n",
              "      <th>profit</th>\n",
              "      <th>sale_price</th>\n",
              "    </tr>\n",
              "  </thead>\n",
              "  <tbody>\n",
              "    <tr>\n",
              "      <th>profit</th>\n",
              "      <td>1.000000</td>\n",
              "      <td>0.987272</td>\n",
              "    </tr>\n",
              "    <tr>\n",
              "      <th>sale_price</th>\n",
              "      <td>0.987272</td>\n",
              "      <td>1.000000</td>\n",
              "    </tr>\n",
              "  </tbody>\n",
              "</table>\n",
              "</div>\n",
              "      <button class=\"colab-df-convert\" onclick=\"convertToInteractive('df-63b0e685-a332-438c-8bd7-dbc3aeadd283')\"\n",
              "              title=\"Convert this dataframe to an interactive table.\"\n",
              "              style=\"display:none;\">\n",
              "        \n",
              "  <svg xmlns=\"http://www.w3.org/2000/svg\" height=\"24px\"viewBox=\"0 0 24 24\"\n",
              "       width=\"24px\">\n",
              "    <path d=\"M0 0h24v24H0V0z\" fill=\"none\"/>\n",
              "    <path d=\"M18.56 5.44l.94 2.06.94-2.06 2.06-.94-2.06-.94-.94-2.06-.94 2.06-2.06.94zm-11 1L8.5 8.5l.94-2.06 2.06-.94-2.06-.94L8.5 2.5l-.94 2.06-2.06.94zm10 10l.94 2.06.94-2.06 2.06-.94-2.06-.94-.94-2.06-.94 2.06-2.06.94z\"/><path d=\"M17.41 7.96l-1.37-1.37c-.4-.4-.92-.59-1.43-.59-.52 0-1.04.2-1.43.59L10.3 9.45l-7.72 7.72c-.78.78-.78 2.05 0 2.83L4 21.41c.39.39.9.59 1.41.59.51 0 1.02-.2 1.41-.59l7.78-7.78 2.81-2.81c.8-.78.8-2.07 0-2.86zM5.41 20L4 18.59l7.72-7.72 1.47 1.35L5.41 20z\"/>\n",
              "  </svg>\n",
              "      </button>\n",
              "      \n",
              "  <style>\n",
              "    .colab-df-container {\n",
              "      display:flex;\n",
              "      flex-wrap:wrap;\n",
              "      gap: 12px;\n",
              "    }\n",
              "\n",
              "    .colab-df-convert {\n",
              "      background-color: #E8F0FE;\n",
              "      border: none;\n",
              "      border-radius: 50%;\n",
              "      cursor: pointer;\n",
              "      display: none;\n",
              "      fill: #1967D2;\n",
              "      height: 32px;\n",
              "      padding: 0 0 0 0;\n",
              "      width: 32px;\n",
              "    }\n",
              "\n",
              "    .colab-df-convert:hover {\n",
              "      background-color: #E2EBFA;\n",
              "      box-shadow: 0px 1px 2px rgba(60, 64, 67, 0.3), 0px 1px 3px 1px rgba(60, 64, 67, 0.15);\n",
              "      fill: #174EA6;\n",
              "    }\n",
              "\n",
              "    [theme=dark] .colab-df-convert {\n",
              "      background-color: #3B4455;\n",
              "      fill: #D2E3FC;\n",
              "    }\n",
              "\n",
              "    [theme=dark] .colab-df-convert:hover {\n",
              "      background-color: #434B5C;\n",
              "      box-shadow: 0px 1px 3px 1px rgba(0, 0, 0, 0.15);\n",
              "      filter: drop-shadow(0px 1px 2px rgba(0, 0, 0, 0.3));\n",
              "      fill: #FFFFFF;\n",
              "    }\n",
              "  </style>\n",
              "\n",
              "      <script>\n",
              "        const buttonEl =\n",
              "          document.querySelector('#df-63b0e685-a332-438c-8bd7-dbc3aeadd283 button.colab-df-convert');\n",
              "        buttonEl.style.display =\n",
              "          google.colab.kernel.accessAllowed ? 'block' : 'none';\n",
              "\n",
              "        async function convertToInteractive(key) {\n",
              "          const element = document.querySelector('#df-63b0e685-a332-438c-8bd7-dbc3aeadd283');\n",
              "          const dataTable =\n",
              "            await google.colab.kernel.invokeFunction('convertToInteractive',\n",
              "                                                     [key], {});\n",
              "          if (!dataTable) return;\n",
              "\n",
              "          const docLinkHtml = 'Like what you see? Visit the ' +\n",
              "            '<a target=\"_blank\" href=https://colab.research.google.com/notebooks/data_table.ipynb>data table notebook</a>'\n",
              "            + ' to learn more about interactive tables.';\n",
              "          element.innerHTML = '';\n",
              "          dataTable['output_type'] = 'display_data';\n",
              "          await google.colab.output.renderOutput(dataTable, element);\n",
              "          const docLink = document.createElement('div');\n",
              "          docLink.innerHTML = docLinkHtml;\n",
              "          element.appendChild(docLink);\n",
              "        }\n",
              "      </script>\n",
              "    </div>\n",
              "  </div>\n",
              "  "
            ],
            "application/vnd.google.colaboratory.module+javascript": "\n      import \"https://ssl.gstatic.com/colaboratory/data_table/99dac6621f6ae8c4/data_table.js\";\n\n      window.createDataTable({\n        data: [[\"profit\",\n{\n            'v': 1.0,\n            'f': \"1.0\",\n        },\n{\n            'v': 0.9872720036148535,\n            'f': \"0.9872720036148535\",\n        }],\n [\"sale_price\",\n{\n            'v': 0.9872720036148535,\n            'f': \"0.9872720036148535\",\n        },\n{\n            'v': 1.0,\n            'f': \"1.0\",\n        }]],\n        columns: [[\"string\", \"index\"], [\"number\", \"profit\"], [\"number\", \"sale_price\"]],\n        columnOptions: [{\"width\": \"1px\", \"className\": \"index_column\"}],\n        rowsPerPage: 25,\n        helpUrl: \"https://colab.research.google.com/notebooks/data_table.ipynb\",\n        suppressOutputScrolling: true,\n        minimumWidth: undefined,\n      });\n    "
          },
          "metadata": {},
          "execution_count": 67
        }
      ]
    },
    {
      "cell_type": "code",
      "source": [
        "# number of unique products per category\n",
        "\n",
        "orders.groupby('category')['product_id'].nunique()"
      ],
      "metadata": {
        "colab": {
          "base_uri": "https://localhost:8080/"
        },
        "id": "zHXyvpSAx0Gh",
        "outputId": "04a6164e-f82a-41d5-d7fd-4f0fb296eed7"
      },
      "execution_count": null,
      "outputs": [
        {
          "output_type": "execute_result",
          "data": {
            "text/plain": [
              "category\n",
              "Accessories                      1555\n",
              "Active                           1431\n",
              "Blazers & Jackets                 557\n",
              "Clothing Sets                      37\n",
              "Dresses                           949\n",
              "Fashion Hoodies & Sweatshirts    1861\n",
              "Intimates                        2352\n",
              "Jeans                            1996\n",
              "Jumpsuits & Rompers               162\n",
              "Leggings                          562\n",
              "Maternity                         896\n",
              "Outerwear & Coats                1414\n",
              "Pants                            1039\n",
              "Pants & Capris                    610\n",
              "Plus                              755\n",
              "Shorts                           1760\n",
              "Skirts                            366\n",
              "Sleep & Lounge                   1765\n",
              "Socks                             903\n",
              "Socks & Hosiery                   666\n",
              "Suits                             188\n",
              "Suits & Sport Coats               739\n",
              "Sweaters                         1733\n",
              "Swim                             1793\n",
              "Tops & Tees                      1860\n",
              "Underwear                        1086\n",
              "Name: product_id, dtype: int64"
            ]
          },
          "metadata": {},
          "execution_count": 68
        }
      ]
    },
    {
      "cell_type": "code",
      "source": [
        "# sales volume by category\n",
        "\n",
        "category_sales = orders.groupby('category')['sale_price'].sum()\n",
        "category_sales"
      ],
      "metadata": {
        "colab": {
          "base_uri": "https://localhost:8080/"
        },
        "id": "8iPEWiPHCImx",
        "outputId": "a5ddbe5b-f325-4e03-e46d-fc4f94152e6a"
      },
      "execution_count": null,
      "outputs": [
        {
          "output_type": "execute_result",
          "data": {
            "text/plain": [
              "category\n",
              "Accessories                       422453.49\n",
              "Active                            443827.68\n",
              "Blazers & Jackets                 292001.15\n",
              "Clothing Sets                      17949.65\n",
              "Dresses                           462243.50\n",
              "Fashion Hoodies & Sweatshirts     629383.25\n",
              "Intimates                         450377.84\n",
              "Jeans                            1256361.47\n",
              "Jumpsuits & Rompers                44003.44\n",
              "Leggings                           88989.07\n",
              "Maternity                         257006.90\n",
              "Outerwear & Coats                1307805.78\n",
              "Pants                             435249.33\n",
              "Pants & Capris                    195235.81\n",
              "Plus                              164462.20\n",
              "Shorts                            513320.12\n",
              "Skirts                            113297.12\n",
              "Sleep & Lounge                    552377.31\n",
              "Socks                             126378.92\n",
              "Socks & Hosiery                    62437.98\n",
              "Suits                             124812.57\n",
              "Suits & Sport Coats               644046.53\n",
              "Sweaters                          841263.77\n",
              "Swim                              649355.47\n",
              "Tops & Tees                       492228.39\n",
              "Underwear                         201067.90\n",
              "Name: sale_price, dtype: float64"
            ]
          },
          "metadata": {},
          "execution_count": 69
        }
      ]
    },
    {
      "cell_type": "code",
      "source": [
        "# profit by category\n",
        "\n",
        "category_profit = orders.groupby('category')['profit'].sum()\n",
        "category_profit"
      ],
      "metadata": {
        "colab": {
          "base_uri": "https://localhost:8080/"
        },
        "id": "gWC-XFduCOUT",
        "outputId": "b960b6d5-33f3-4099-bdaa-4e97443782ce"
      },
      "execution_count": null,
      "outputs": [
        {
          "output_type": "execute_result",
          "data": {
            "text/plain": [
              "category\n",
              "Accessories                      253167.03\n",
              "Active                           257525.88\n",
              "Blazers & Jackets                181225.94\n",
              "Clothing Sets                      6867.13\n",
              "Dresses                          253989.95\n",
              "Fashion Hoodies & Sweatshirts    302802.91\n",
              "Intimates                        210693.78\n",
              "Jeans                            583943.72\n",
              "Jumpsuits & Rompers               20507.80\n",
              "Leggings                          35601.80\n",
              "Maternity                        143663.39\n",
              "Outerwear & Coats                727537.26\n",
              "Pants                            235464.01\n",
              "Pants & Capris                    91943.22\n",
              "Plus                              82094.49\n",
              "Shorts                           256451.12\n",
              "Skirts                            68074.01\n",
              "Sleep & Lounge                   286926.18\n",
              "Socks                             50056.17\n",
              "Socks & Hosiery                   37320.50\n",
              "Suits                             49565.71\n",
              "Suits & Sport Coats              385388.01\n",
              "Sweaters                         436211.07\n",
              "Swim                             318295.95\n",
              "Tops & Tees                      216472.45\n",
              "Underwear                        106377.18\n",
              "Name: profit, dtype: float64"
            ]
          },
          "metadata": {},
          "execution_count": 70
        }
      ]
    },
    {
      "cell_type": "code",
      "source": [
        "# profit margin by category\n",
        "category_profit/category_sales"
      ],
      "metadata": {
        "colab": {
          "base_uri": "https://localhost:8080/"
        },
        "id": "9XJc1eVQCOIM",
        "outputId": "65ea37b7-b4d9-4809-b129-120e0c0eed11"
      },
      "execution_count": null,
      "outputs": [
        {
          "output_type": "execute_result",
          "data": {
            "text/plain": [
              "category\n",
              "Accessories                      0.599278\n",
              "Active                           0.580238\n",
              "Blazers & Jackets                0.620634\n",
              "Clothing Sets                    0.382577\n",
              "Dresses                          0.549472\n",
              "Fashion Hoodies & Sweatshirts    0.481111\n",
              "Intimates                        0.467816\n",
              "Jeans                            0.464790\n",
              "Jumpsuits & Rompers              0.466050\n",
              "Leggings                         0.400069\n",
              "Maternity                        0.558987\n",
              "Outerwear & Coats                0.556304\n",
              "Pants                            0.540986\n",
              "Pants & Capris                   0.470934\n",
              "Plus                             0.499169\n",
              "Shorts                           0.499593\n",
              "Skirts                           0.600845\n",
              "Sleep & Lounge                   0.519439\n",
              "Socks                            0.396080\n",
              "Socks & Hosiery                  0.597721\n",
              "Suits                            0.397121\n",
              "Suits & Sport Coats              0.598385\n",
              "Sweaters                         0.518519\n",
              "Swim                             0.490172\n",
              "Tops & Tees                      0.439781\n",
              "Underwear                        0.529061\n",
              "dtype: float64"
            ]
          },
          "metadata": {},
          "execution_count": 71
        }
      ]
    },
    {
      "cell_type": "code",
      "source": [
        "# sales volume by department\n",
        "\n",
        "department_sales = orders.groupby('department')['sale_price'].sum()\n",
        "department_sales"
      ],
      "metadata": {
        "colab": {
          "base_uri": "https://localhost:8080/"
        },
        "id": "KRH_I6uaDge5",
        "outputId": "2c2b9f2a-ff31-44eb-c112-58d5adc0ef2a"
      },
      "execution_count": null,
      "outputs": [
        {
          "output_type": "execute_result",
          "data": {
            "text/plain": [
              "department\n",
              "Men      5728194.31\n",
              "Women    5059742.33\n",
              "Name: sale_price, dtype: float64"
            ]
          },
          "metadata": {},
          "execution_count": 72
        }
      ]
    },
    {
      "cell_type": "code",
      "source": [
        "# profit by department\n",
        "\n",
        "department_profit = orders.groupby('department')['profit'].sum()\n",
        "department_profit"
      ],
      "metadata": {
        "colab": {
          "base_uri": "https://localhost:8080/"
        },
        "id": "m3co2zQ7DhAF",
        "outputId": "e570ef28-176e-40b3-ea7d-411752f236f2"
      },
      "execution_count": null,
      "outputs": [
        {
          "output_type": "execute_result",
          "data": {
            "text/plain": [
              "department\n",
              "Men      2968369.44\n",
              "Women    2629797.22\n",
              "Name: profit, dtype: float64"
            ]
          },
          "metadata": {},
          "execution_count": 73
        }
      ]
    },
    {
      "cell_type": "code",
      "source": [
        "# profit margin by department\n",
        "department_profit/department_sales"
      ],
      "metadata": {
        "colab": {
          "base_uri": "https://localhost:8080/"
        },
        "id": "t1nlwzu1DhOh",
        "outputId": "c78fb1ff-b6d7-4407-da2a-9461c32ec66f"
      },
      "execution_count": null,
      "outputs": [
        {
          "output_type": "execute_result",
          "data": {
            "text/plain": [
              "department\n",
              "Men      0.518203\n",
              "Women    0.519749\n",
              "dtype: float64"
            ]
          },
          "metadata": {},
          "execution_count": 74
        }
      ]
    },
    {
      "cell_type": "code",
      "source": [
        "# profit margin by DC\n",
        "DC_sales = orders.groupby('dc_state')['sale_price'].sum()\n",
        "DC_profit = orders.groupby('dc_state')['profit'].sum()\n",
        "DC_profit/DC_sales"
      ],
      "metadata": {
        "colab": {
          "base_uri": "https://localhost:8080/"
        },
        "id": "KVlehvzQECZp",
        "outputId": "645c83ff-8db4-45c9-f600-63a1913bdac6"
      },
      "execution_count": null,
      "outputs": [
        {
          "output_type": "execute_result",
          "data": {
            "text/plain": [
              "dc_state\n",
              "AL    0.511081\n",
              "CA    0.516864\n",
              "GA    0.507306\n",
              "IL    0.523742\n",
              "LA    0.527517\n",
              "NJ    0.517114\n",
              "PA    0.508483\n",
              "SC    0.504051\n",
              "TN    0.524634\n",
              "TX    0.532816\n",
              "dtype: float64"
            ]
          },
          "metadata": {},
          "execution_count": 75
        }
      ]
    },
    {
      "cell_type": "code",
      "source": [
        "# profit margin by country\n",
        "Location_sales = orders.groupby('country')['sale_price'].sum()\n",
        "Location_profit = orders.groupby('country')['profit'].sum()\n",
        "Location_profit/Location_sales"
      ],
      "metadata": {
        "colab": {
          "base_uri": "https://localhost:8080/"
        },
        "id": "fnD6JQ9sEnnE",
        "outputId": "a0205970-3f28-46f8-b9d8-b53a1a5e8029"
      },
      "execution_count": null,
      "outputs": [
        {
          "output_type": "execute_result",
          "data": {
            "text/plain": [
              "country\n",
              "Australia         0.520606\n",
              "Austria           0.516032\n",
              "Belgium           0.516887\n",
              "Brasil            0.518849\n",
              "China             0.518877\n",
              "Colombia          0.515891\n",
              "España            0.507781\n",
              "France            0.520829\n",
              "Germany           0.519134\n",
              "Japan             0.516278\n",
              "Poland            0.517649\n",
              "South Korea       0.517928\n",
              "Spain             0.517161\n",
              "United Kingdom    0.517365\n",
              "United States     0.519738\n",
              "dtype: float64"
            ]
          },
          "metadata": {},
          "execution_count": 76
        }
      ]
    },
    {
      "cell_type": "code",
      "source": [
        "# return max profit margin\n",
        "orders['profit_margin'].max()"
      ],
      "metadata": {
        "colab": {
          "base_uri": "https://localhost:8080/"
        },
        "id": "mhV-dM_XGK_J",
        "outputId": "2ff740a0-63a3-4878-d1e1-8c63aa7610fa"
      },
      "execution_count": null,
      "outputs": [
        {
          "output_type": "execute_result",
          "data": {
            "text/plain": [
              "0.67"
            ]
          },
          "metadata": {},
          "execution_count": 77
        }
      ]
    },
    {
      "cell_type": "code",
      "source": [
        "# return min profit margin\n",
        "orders['profit_margin'].min()"
      ],
      "metadata": {
        "colab": {
          "base_uri": "https://localhost:8080/"
        },
        "id": "M0sbAvjCGGBp",
        "outputId": "63c24d62-317b-4a52-a127-0c597514d8b5"
      },
      "execution_count": null,
      "outputs": [
        {
          "output_type": "execute_result",
          "data": {
            "text/plain": [
              "0.33"
            ]
          },
          "metadata": {},
          "execution_count": 78
        }
      ]
    },
    {
      "cell_type": "code",
      "source": [
        "# save data set to Google Drive\n",
        "\n",
        "from google.colab import drive\n",
        "drive.mount('drive')"
      ],
      "metadata": {
        "id": "TYveYXDzE3uA",
        "colab": {
          "base_uri": "https://localhost:8080/"
        },
        "outputId": "5921d087-3961-4f59-c607-ff2a450d0c63"
      },
      "execution_count": null,
      "outputs": [
        {
          "output_type": "stream",
          "name": "stdout",
          "text": [
            "Mounted at drive\n"
          ]
        }
      ]
    },
    {
      "cell_type": "code",
      "source": [
        "orders.to_csv('orders.csv')\n",
        "!cp orders.csv \"drive/My Drive/Projects/BigQuery/Ecommerce/\""
      ],
      "metadata": {
        "id": "OGFab8QGRl8F"
      },
      "execution_count": null,
      "outputs": []
    },
    {
      "cell_type": "code",
      "source": [],
      "metadata": {
        "id": "Atx7Oy4XT4O4"
      },
      "execution_count": null,
      "outputs": []
    }
  ],
  "metadata": {
    "colab": {
      "provenance": [],
      "authorship_tag": "ABX9TyPDvmTCC82KVBk+I8oOzaGI",
      "include_colab_link": true
    },
    "kernelspec": {
      "display_name": "Python 3",
      "name": "python3"
    },
    "language_info": {
      "name": "python"
    }
  },
  "nbformat": 4,
  "nbformat_minor": 0
}